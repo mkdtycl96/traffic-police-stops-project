{
 "cells": [
  {
   "cell_type": "markdown",
   "metadata": {},
   "source": [
    "___\n",
    "\n",
    "<p style=\"text-align: center;\"><img src=\"https://docs.google.com/uc?id=1lY0Uj5R04yMY3-ZppPWxqCr5pvBLYPnV\" class=\"img-fluid\" alt=\"CLRSWY\"></p>\n",
    "\n",
    "___"
   ]
  },
  {
   "cell_type": "markdown",
   "metadata": {},
   "source": [
    "<h1><p style=\"text-align: center;\">Data Analysis with Python <br>Project - 1</p><h1> - Traffic Police Stops <img src=\"https://docs.google.com/uc?id=17CPCwi3_VvzcS87TOsh4_U8eExOhL6Ki\" class=\"img-fluid\" alt=\"CLRSWY\" width=\"200\" height=\"100\"> "
   ]
  },
  {
   "cell_type": "markdown",
   "metadata": {},
   "source": [
    "Are you more likely to get arrested at a certain time of day? Are drug-related stops on the rise? In this chapter, you will answer these and other questions by analyzing the dataset visually, since plots can help you to understand trends in a way that examining the raw data cannot."
   ]
  },
  {
   "cell_type": "markdown",
   "metadata": {},
   "source": [
    "## Calculating the hourly arrest rate"
   ]
  },
  {
   "cell_type": "markdown",
   "metadata": {},
   "source": [
    "When a police officer stops a driver, a small percentage of those stops ends in an arrest. This is known as the **arrest rate**. In this exercise, you'll find out whether the arrest rate varies by time of day.\n",
    "\n",
    "First, you'll calculate the arrest rate across all stops. Then, you'll calculate the **hourly arrest rate** by using the ``hour`` attribute of the ``index``. The hour ranges from ``0`` to ``23``, in which:\n",
    "\n",
    "``0 = midnight``<br>\n",
    "``12 = noon`` <br>\n",
    "``23 = 11 PM``"
   ]
  },
  {
   "cell_type": "markdown",
   "metadata": {},
   "source": [
    "> Before starting your work in this section **repeat the steps which you did in the first chapter for preparing the data.** Continue to this chapter based on where you were in the end of the first chapter."
   ]
  },
  {
   "cell_type": "code",
   "execution_count": 4,
   "metadata": {},
   "outputs": [
    {
     "name": "stderr",
     "output_type": "stream",
     "text": [
      "C:\\Users\\mkdty\\anaconda3\\lib\\site-packages\\IPython\\core\\interactiveshell.py:3071: DtypeWarning: Columns (8,16) have mixed types.Specify dtype option on import or set low_memory=False.\n",
      "  has_raised = await self.run_ast_nodes(code_ast.body, cell_name,\n"
     ]
    },
    {
     "data": {
      "text/html": [
       "<div>\n",
       "<style scoped>\n",
       "    .dataframe tbody tr th:only-of-type {\n",
       "        vertical-align: middle;\n",
       "    }\n",
       "\n",
       "    .dataframe tbody tr th {\n",
       "        vertical-align: top;\n",
       "    }\n",
       "\n",
       "    .dataframe thead th {\n",
       "        text-align: right;\n",
       "    }\n",
       "</style>\n",
       "<table border=\"1\" class=\"dataframe\">\n",
       "  <thead>\n",
       "    <tr style=\"text-align: right;\">\n",
       "      <th></th>\n",
       "      <th>id</th>\n",
       "      <th>state</th>\n",
       "      <th>stop_date</th>\n",
       "      <th>stop_time</th>\n",
       "      <th>location_raw</th>\n",
       "      <th>county_name</th>\n",
       "      <th>county_fips</th>\n",
       "      <th>fine_grained_location</th>\n",
       "      <th>police_department</th>\n",
       "      <th>driver_gender</th>\n",
       "      <th>...</th>\n",
       "      <th>search_conducted</th>\n",
       "      <th>search_type_raw</th>\n",
       "      <th>search_type</th>\n",
       "      <th>contraband_found</th>\n",
       "      <th>stop_outcome</th>\n",
       "      <th>is_arrested</th>\n",
       "      <th>stop_duration</th>\n",
       "      <th>out_of_state</th>\n",
       "      <th>drugs_related_stop</th>\n",
       "      <th>district</th>\n",
       "    </tr>\n",
       "  </thead>\n",
       "  <tbody>\n",
       "    <tr>\n",
       "      <th>153602</th>\n",
       "      <td>RI-2008-27978</td>\n",
       "      <td>RI</td>\n",
       "      <td>2008-07-28</td>\n",
       "      <td>19:13</td>\n",
       "      <td>Zone X4</td>\n",
       "      <td>NaN</td>\n",
       "      <td>NaN</td>\n",
       "      <td>NaN</td>\n",
       "      <td>300</td>\n",
       "      <td>M</td>\n",
       "      <td>...</td>\n",
       "      <td>False</td>\n",
       "      <td>NaN</td>\n",
       "      <td>NaN</td>\n",
       "      <td>False</td>\n",
       "      <td>Citation</td>\n",
       "      <td>False</td>\n",
       "      <td>0-15 Min</td>\n",
       "      <td>True</td>\n",
       "      <td>False</td>\n",
       "      <td>Zone X4</td>\n",
       "    </tr>\n",
       "    <tr>\n",
       "      <th>130926</th>\n",
       "      <td>RI-2008-05302</td>\n",
       "      <td>RI</td>\n",
       "      <td>2008-02-07</td>\n",
       "      <td>20:20</td>\n",
       "      <td>Zone K3</td>\n",
       "      <td>NaN</td>\n",
       "      <td>NaN</td>\n",
       "      <td>NaN</td>\n",
       "      <td>300</td>\n",
       "      <td>M</td>\n",
       "      <td>...</td>\n",
       "      <td>False</td>\n",
       "      <td>NaN</td>\n",
       "      <td>NaN</td>\n",
       "      <td>False</td>\n",
       "      <td>Citation</td>\n",
       "      <td>False</td>\n",
       "      <td>0-15 Min</td>\n",
       "      <td>False</td>\n",
       "      <td>False</td>\n",
       "      <td>Zone K3</td>\n",
       "    </tr>\n",
       "    <tr>\n",
       "      <th>129235</th>\n",
       "      <td>RI-2008-03611</td>\n",
       "      <td>RI</td>\n",
       "      <td>2008-01-26</td>\n",
       "      <td>19:59</td>\n",
       "      <td>Zone K3</td>\n",
       "      <td>NaN</td>\n",
       "      <td>NaN</td>\n",
       "      <td>NaN</td>\n",
       "      <td>300</td>\n",
       "      <td>M</td>\n",
       "      <td>...</td>\n",
       "      <td>False</td>\n",
       "      <td>NaN</td>\n",
       "      <td>NaN</td>\n",
       "      <td>False</td>\n",
       "      <td>Citation</td>\n",
       "      <td>False</td>\n",
       "      <td>0-15 Min</td>\n",
       "      <td>True</td>\n",
       "      <td>False</td>\n",
       "      <td>Zone K3</td>\n",
       "    </tr>\n",
       "    <tr>\n",
       "      <th>462227</th>\n",
       "      <td>RI-2014-50432</td>\n",
       "      <td>RI</td>\n",
       "      <td>2014-12-28</td>\n",
       "      <td>17:23</td>\n",
       "      <td>Zone X4</td>\n",
       "      <td>NaN</td>\n",
       "      <td>NaN</td>\n",
       "      <td>NaN</td>\n",
       "      <td>500</td>\n",
       "      <td>F</td>\n",
       "      <td>...</td>\n",
       "      <td>False</td>\n",
       "      <td>NaN</td>\n",
       "      <td>NaN</td>\n",
       "      <td>False</td>\n",
       "      <td>Citation</td>\n",
       "      <td>False</td>\n",
       "      <td>0-15 Min</td>\n",
       "      <td>True</td>\n",
       "      <td>False</td>\n",
       "      <td>Zone X4</td>\n",
       "    </tr>\n",
       "    <tr>\n",
       "      <th>153079</th>\n",
       "      <td>RI-2008-27455</td>\n",
       "      <td>RI</td>\n",
       "      <td>2008-07-24</td>\n",
       "      <td>15:17</td>\n",
       "      <td>Zone K2</td>\n",
       "      <td>NaN</td>\n",
       "      <td>NaN</td>\n",
       "      <td>NaN</td>\n",
       "      <td>900</td>\n",
       "      <td>M</td>\n",
       "      <td>...</td>\n",
       "      <td>False</td>\n",
       "      <td>NaN</td>\n",
       "      <td>NaN</td>\n",
       "      <td>False</td>\n",
       "      <td>Citation</td>\n",
       "      <td>False</td>\n",
       "      <td>16-30 Min</td>\n",
       "      <td>False</td>\n",
       "      <td>False</td>\n",
       "      <td>Zone K2</td>\n",
       "    </tr>\n",
       "    <tr>\n",
       "      <th>179740</th>\n",
       "      <td>RI-2009-05097</td>\n",
       "      <td>RI</td>\n",
       "      <td>2009-02-08</td>\n",
       "      <td>06:56</td>\n",
       "      <td>Zone K3</td>\n",
       "      <td>NaN</td>\n",
       "      <td>NaN</td>\n",
       "      <td>NaN</td>\n",
       "      <td>300</td>\n",
       "      <td>M</td>\n",
       "      <td>...</td>\n",
       "      <td>False</td>\n",
       "      <td>NaN</td>\n",
       "      <td>NaN</td>\n",
       "      <td>False</td>\n",
       "      <td>Citation</td>\n",
       "      <td>False</td>\n",
       "      <td>0-15 Min</td>\n",
       "      <td>True</td>\n",
       "      <td>False</td>\n",
       "      <td>Zone K3</td>\n",
       "    </tr>\n",
       "    <tr>\n",
       "      <th>216045</th>\n",
       "      <td>RI-2009-41402</td>\n",
       "      <td>RI</td>\n",
       "      <td>2009-12-11</td>\n",
       "      <td>09:08</td>\n",
       "      <td>Zone X3</td>\n",
       "      <td>NaN</td>\n",
       "      <td>NaN</td>\n",
       "      <td>NaN</td>\n",
       "      <td>200</td>\n",
       "      <td>M</td>\n",
       "      <td>...</td>\n",
       "      <td>False</td>\n",
       "      <td>NaN</td>\n",
       "      <td>NaN</td>\n",
       "      <td>False</td>\n",
       "      <td>Citation</td>\n",
       "      <td>False</td>\n",
       "      <td>16-30 Min</td>\n",
       "      <td>False</td>\n",
       "      <td>False</td>\n",
       "      <td>Zone X3</td>\n",
       "    </tr>\n",
       "    <tr>\n",
       "      <th>271106</th>\n",
       "      <td>RI-2011-10619</td>\n",
       "      <td>RI</td>\n",
       "      <td>2011-04-09</td>\n",
       "      <td>03:02</td>\n",
       "      <td>Zone X4</td>\n",
       "      <td>NaN</td>\n",
       "      <td>NaN</td>\n",
       "      <td>NaN</td>\n",
       "      <td>500</td>\n",
       "      <td>F</td>\n",
       "      <td>...</td>\n",
       "      <td>False</td>\n",
       "      <td>NaN</td>\n",
       "      <td>NaN</td>\n",
       "      <td>False</td>\n",
       "      <td>Arrest Driver</td>\n",
       "      <td>True</td>\n",
       "      <td>30+ Min</td>\n",
       "      <td>False</td>\n",
       "      <td>False</td>\n",
       "      <td>Zone X4</td>\n",
       "    </tr>\n",
       "    <tr>\n",
       "      <th>436820</th>\n",
       "      <td>RI-2014-25025</td>\n",
       "      <td>RI</td>\n",
       "      <td>2014-06-18</td>\n",
       "      <td>23:13</td>\n",
       "      <td>Zone K2</td>\n",
       "      <td>NaN</td>\n",
       "      <td>NaN</td>\n",
       "      <td>NaN</td>\n",
       "      <td>900</td>\n",
       "      <td>F</td>\n",
       "      <td>...</td>\n",
       "      <td>False</td>\n",
       "      <td>NaN</td>\n",
       "      <td>NaN</td>\n",
       "      <td>False</td>\n",
       "      <td>Citation</td>\n",
       "      <td>False</td>\n",
       "      <td>0-15 Min</td>\n",
       "      <td>True</td>\n",
       "      <td>False</td>\n",
       "      <td>Zone K2</td>\n",
       "    </tr>\n",
       "  </tbody>\n",
       "</table>\n",
       "<p>9 rows × 26 columns</p>\n",
       "</div>"
      ],
      "text/plain": [
       "                   id state   stop_date stop_time location_raw  county_name  \\\n",
       "153602  RI-2008-27978    RI  2008-07-28     19:13      Zone X4          NaN   \n",
       "130926  RI-2008-05302    RI  2008-02-07     20:20      Zone K3          NaN   \n",
       "129235  RI-2008-03611    RI  2008-01-26     19:59      Zone K3          NaN   \n",
       "462227  RI-2014-50432    RI  2014-12-28     17:23      Zone X4          NaN   \n",
       "153079  RI-2008-27455    RI  2008-07-24     15:17      Zone K2          NaN   \n",
       "179740  RI-2009-05097    RI  2009-02-08     06:56      Zone K3          NaN   \n",
       "216045  RI-2009-41402    RI  2009-12-11     09:08      Zone X3          NaN   \n",
       "271106  RI-2011-10619    RI  2011-04-09     03:02      Zone X4          NaN   \n",
       "436820  RI-2014-25025    RI  2014-06-18     23:13      Zone K2          NaN   \n",
       "\n",
       "        county_fips  fine_grained_location police_department driver_gender  \\\n",
       "153602          NaN                    NaN               300             M   \n",
       "130926          NaN                    NaN               300             M   \n",
       "129235          NaN                    NaN               300             M   \n",
       "462227          NaN                    NaN               500             F   \n",
       "153079          NaN                    NaN               900             M   \n",
       "179740          NaN                    NaN               300             M   \n",
       "216045          NaN                    NaN               200             M   \n",
       "271106          NaN                    NaN               500             F   \n",
       "436820          NaN                    NaN               900             F   \n",
       "\n",
       "        ...  search_conducted  search_type_raw search_type contraband_found  \\\n",
       "153602  ...             False              NaN         NaN            False   \n",
       "130926  ...             False              NaN         NaN            False   \n",
       "129235  ...             False              NaN         NaN            False   \n",
       "462227  ...             False              NaN         NaN            False   \n",
       "153079  ...             False              NaN         NaN            False   \n",
       "179740  ...             False              NaN         NaN            False   \n",
       "216045  ...             False              NaN         NaN            False   \n",
       "271106  ...             False              NaN         NaN            False   \n",
       "436820  ...             False              NaN         NaN            False   \n",
       "\n",
       "         stop_outcome is_arrested stop_duration out_of_state  \\\n",
       "153602       Citation       False      0-15 Min         True   \n",
       "130926       Citation       False      0-15 Min        False   \n",
       "129235       Citation       False      0-15 Min         True   \n",
       "462227       Citation       False      0-15 Min         True   \n",
       "153079       Citation       False     16-30 Min        False   \n",
       "179740       Citation       False      0-15 Min         True   \n",
       "216045       Citation       False     16-30 Min        False   \n",
       "271106  Arrest Driver        True       30+ Min        False   \n",
       "436820       Citation       False      0-15 Min         True   \n",
       "\n",
       "       drugs_related_stop  district  \n",
       "153602              False   Zone X4  \n",
       "130926              False   Zone K3  \n",
       "129235              False   Zone K3  \n",
       "462227              False   Zone X4  \n",
       "153079              False   Zone K2  \n",
       "179740              False   Zone K3  \n",
       "216045              False   Zone X3  \n",
       "271106              False   Zone X4  \n",
       "436820              False   Zone K2  \n",
       "\n",
       "[9 rows x 26 columns]"
      ]
     },
     "execution_count": 4,
     "metadata": {},
     "output_type": "execute_result"
    }
   ],
   "source": [
    "import pandas as pd\n",
    "df = pd.read_csv(\"RI_cleaned.csv\",skiprows =0).sample(n=50000,random_state=1)\n",
    "df.head(9)"
   ]
  },
  {
   "cell_type": "code",
   "execution_count": 5,
   "metadata": {},
   "outputs": [
    {
     "data": {
      "text/html": [
       "<div>\n",
       "<style scoped>\n",
       "    .dataframe tbody tr th:only-of-type {\n",
       "        vertical-align: middle;\n",
       "    }\n",
       "\n",
       "    .dataframe tbody tr th {\n",
       "        vertical-align: top;\n",
       "    }\n",
       "\n",
       "    .dataframe thead th {\n",
       "        text-align: right;\n",
       "    }\n",
       "</style>\n",
       "<table border=\"1\" class=\"dataframe\">\n",
       "  <thead>\n",
       "    <tr style=\"text-align: right;\">\n",
       "      <th></th>\n",
       "      <th>id</th>\n",
       "      <th>state</th>\n",
       "      <th>stop_date</th>\n",
       "      <th>stop_time</th>\n",
       "      <th>location_raw</th>\n",
       "      <th>county_name</th>\n",
       "      <th>county_fips</th>\n",
       "      <th>fine_grained_location</th>\n",
       "      <th>police_department</th>\n",
       "      <th>driver_gender</th>\n",
       "      <th>...</th>\n",
       "      <th>search_conducted</th>\n",
       "      <th>search_type_raw</th>\n",
       "      <th>search_type</th>\n",
       "      <th>contraband_found</th>\n",
       "      <th>stop_outcome</th>\n",
       "      <th>is_arrested</th>\n",
       "      <th>stop_duration</th>\n",
       "      <th>out_of_state</th>\n",
       "      <th>drugs_related_stop</th>\n",
       "      <th>district</th>\n",
       "    </tr>\n",
       "  </thead>\n",
       "  <tbody>\n",
       "    <tr>\n",
       "      <th>153602</th>\n",
       "      <td>False</td>\n",
       "      <td>False</td>\n",
       "      <td>False</td>\n",
       "      <td>False</td>\n",
       "      <td>False</td>\n",
       "      <td>True</td>\n",
       "      <td>True</td>\n",
       "      <td>True</td>\n",
       "      <td>False</td>\n",
       "      <td>False</td>\n",
       "      <td>...</td>\n",
       "      <td>False</td>\n",
       "      <td>True</td>\n",
       "      <td>True</td>\n",
       "      <td>False</td>\n",
       "      <td>False</td>\n",
       "      <td>False</td>\n",
       "      <td>False</td>\n",
       "      <td>False</td>\n",
       "      <td>False</td>\n",
       "      <td>False</td>\n",
       "    </tr>\n",
       "    <tr>\n",
       "      <th>130926</th>\n",
       "      <td>False</td>\n",
       "      <td>False</td>\n",
       "      <td>False</td>\n",
       "      <td>False</td>\n",
       "      <td>False</td>\n",
       "      <td>True</td>\n",
       "      <td>True</td>\n",
       "      <td>True</td>\n",
       "      <td>False</td>\n",
       "      <td>False</td>\n",
       "      <td>...</td>\n",
       "      <td>False</td>\n",
       "      <td>True</td>\n",
       "      <td>True</td>\n",
       "      <td>False</td>\n",
       "      <td>False</td>\n",
       "      <td>False</td>\n",
       "      <td>False</td>\n",
       "      <td>False</td>\n",
       "      <td>False</td>\n",
       "      <td>False</td>\n",
       "    </tr>\n",
       "    <tr>\n",
       "      <th>129235</th>\n",
       "      <td>False</td>\n",
       "      <td>False</td>\n",
       "      <td>False</td>\n",
       "      <td>False</td>\n",
       "      <td>False</td>\n",
       "      <td>True</td>\n",
       "      <td>True</td>\n",
       "      <td>True</td>\n",
       "      <td>False</td>\n",
       "      <td>False</td>\n",
       "      <td>...</td>\n",
       "      <td>False</td>\n",
       "      <td>True</td>\n",
       "      <td>True</td>\n",
       "      <td>False</td>\n",
       "      <td>False</td>\n",
       "      <td>False</td>\n",
       "      <td>False</td>\n",
       "      <td>False</td>\n",
       "      <td>False</td>\n",
       "      <td>False</td>\n",
       "    </tr>\n",
       "    <tr>\n",
       "      <th>462227</th>\n",
       "      <td>False</td>\n",
       "      <td>False</td>\n",
       "      <td>False</td>\n",
       "      <td>False</td>\n",
       "      <td>False</td>\n",
       "      <td>True</td>\n",
       "      <td>True</td>\n",
       "      <td>True</td>\n",
       "      <td>False</td>\n",
       "      <td>False</td>\n",
       "      <td>...</td>\n",
       "      <td>False</td>\n",
       "      <td>True</td>\n",
       "      <td>True</td>\n",
       "      <td>False</td>\n",
       "      <td>False</td>\n",
       "      <td>False</td>\n",
       "      <td>False</td>\n",
       "      <td>False</td>\n",
       "      <td>False</td>\n",
       "      <td>False</td>\n",
       "    </tr>\n",
       "    <tr>\n",
       "      <th>153079</th>\n",
       "      <td>False</td>\n",
       "      <td>False</td>\n",
       "      <td>False</td>\n",
       "      <td>False</td>\n",
       "      <td>False</td>\n",
       "      <td>True</td>\n",
       "      <td>True</td>\n",
       "      <td>True</td>\n",
       "      <td>False</td>\n",
       "      <td>False</td>\n",
       "      <td>...</td>\n",
       "      <td>False</td>\n",
       "      <td>True</td>\n",
       "      <td>True</td>\n",
       "      <td>False</td>\n",
       "      <td>False</td>\n",
       "      <td>False</td>\n",
       "      <td>False</td>\n",
       "      <td>False</td>\n",
       "      <td>False</td>\n",
       "      <td>False</td>\n",
       "    </tr>\n",
       "    <tr>\n",
       "      <th>...</th>\n",
       "      <td>...</td>\n",
       "      <td>...</td>\n",
       "      <td>...</td>\n",
       "      <td>...</td>\n",
       "      <td>...</td>\n",
       "      <td>...</td>\n",
       "      <td>...</td>\n",
       "      <td>...</td>\n",
       "      <td>...</td>\n",
       "      <td>...</td>\n",
       "      <td>...</td>\n",
       "      <td>...</td>\n",
       "      <td>...</td>\n",
       "      <td>...</td>\n",
       "      <td>...</td>\n",
       "      <td>...</td>\n",
       "      <td>...</td>\n",
       "      <td>...</td>\n",
       "      <td>...</td>\n",
       "      <td>...</td>\n",
       "      <td>...</td>\n",
       "    </tr>\n",
       "    <tr>\n",
       "      <th>260556</th>\n",
       "      <td>False</td>\n",
       "      <td>False</td>\n",
       "      <td>False</td>\n",
       "      <td>False</td>\n",
       "      <td>False</td>\n",
       "      <td>True</td>\n",
       "      <td>True</td>\n",
       "      <td>True</td>\n",
       "      <td>False</td>\n",
       "      <td>False</td>\n",
       "      <td>...</td>\n",
       "      <td>False</td>\n",
       "      <td>True</td>\n",
       "      <td>True</td>\n",
       "      <td>False</td>\n",
       "      <td>False</td>\n",
       "      <td>False</td>\n",
       "      <td>False</td>\n",
       "      <td>False</td>\n",
       "      <td>False</td>\n",
       "      <td>False</td>\n",
       "    </tr>\n",
       "    <tr>\n",
       "      <th>190013</th>\n",
       "      <td>False</td>\n",
       "      <td>False</td>\n",
       "      <td>False</td>\n",
       "      <td>False</td>\n",
       "      <td>False</td>\n",
       "      <td>True</td>\n",
       "      <td>True</td>\n",
       "      <td>True</td>\n",
       "      <td>False</td>\n",
       "      <td>False</td>\n",
       "      <td>...</td>\n",
       "      <td>False</td>\n",
       "      <td>True</td>\n",
       "      <td>True</td>\n",
       "      <td>False</td>\n",
       "      <td>False</td>\n",
       "      <td>False</td>\n",
       "      <td>False</td>\n",
       "      <td>False</td>\n",
       "      <td>False</td>\n",
       "      <td>False</td>\n",
       "    </tr>\n",
       "    <tr>\n",
       "      <th>156091</th>\n",
       "      <td>False</td>\n",
       "      <td>False</td>\n",
       "      <td>False</td>\n",
       "      <td>False</td>\n",
       "      <td>False</td>\n",
       "      <td>True</td>\n",
       "      <td>True</td>\n",
       "      <td>True</td>\n",
       "      <td>False</td>\n",
       "      <td>False</td>\n",
       "      <td>...</td>\n",
       "      <td>False</td>\n",
       "      <td>True</td>\n",
       "      <td>True</td>\n",
       "      <td>False</td>\n",
       "      <td>False</td>\n",
       "      <td>False</td>\n",
       "      <td>False</td>\n",
       "      <td>False</td>\n",
       "      <td>False</td>\n",
       "      <td>False</td>\n",
       "    </tr>\n",
       "    <tr>\n",
       "      <th>322328</th>\n",
       "      <td>False</td>\n",
       "      <td>False</td>\n",
       "      <td>False</td>\n",
       "      <td>False</td>\n",
       "      <td>False</td>\n",
       "      <td>True</td>\n",
       "      <td>True</td>\n",
       "      <td>True</td>\n",
       "      <td>False</td>\n",
       "      <td>False</td>\n",
       "      <td>...</td>\n",
       "      <td>False</td>\n",
       "      <td>True</td>\n",
       "      <td>True</td>\n",
       "      <td>False</td>\n",
       "      <td>False</td>\n",
       "      <td>False</td>\n",
       "      <td>False</td>\n",
       "      <td>False</td>\n",
       "      <td>False</td>\n",
       "      <td>False</td>\n",
       "    </tr>\n",
       "    <tr>\n",
       "      <th>213818</th>\n",
       "      <td>False</td>\n",
       "      <td>False</td>\n",
       "      <td>False</td>\n",
       "      <td>False</td>\n",
       "      <td>False</td>\n",
       "      <td>True</td>\n",
       "      <td>True</td>\n",
       "      <td>True</td>\n",
       "      <td>False</td>\n",
       "      <td>False</td>\n",
       "      <td>...</td>\n",
       "      <td>False</td>\n",
       "      <td>True</td>\n",
       "      <td>True</td>\n",
       "      <td>False</td>\n",
       "      <td>False</td>\n",
       "      <td>False</td>\n",
       "      <td>False</td>\n",
       "      <td>False</td>\n",
       "      <td>False</td>\n",
       "      <td>False</td>\n",
       "    </tr>\n",
       "  </tbody>\n",
       "</table>\n",
       "<p>50000 rows × 26 columns</p>\n",
       "</div>"
      ],
      "text/plain": [
       "           id  state  stop_date  stop_time  location_raw  county_name  \\\n",
       "153602  False  False      False      False         False         True   \n",
       "130926  False  False      False      False         False         True   \n",
       "129235  False  False      False      False         False         True   \n",
       "462227  False  False      False      False         False         True   \n",
       "153079  False  False      False      False         False         True   \n",
       "...       ...    ...        ...        ...           ...          ...   \n",
       "260556  False  False      False      False         False         True   \n",
       "190013  False  False      False      False         False         True   \n",
       "156091  False  False      False      False         False         True   \n",
       "322328  False  False      False      False         False         True   \n",
       "213818  False  False      False      False         False         True   \n",
       "\n",
       "        county_fips  fine_grained_location  police_department  driver_gender  \\\n",
       "153602         True                   True              False          False   \n",
       "130926         True                   True              False          False   \n",
       "129235         True                   True              False          False   \n",
       "462227         True                   True              False          False   \n",
       "153079         True                   True              False          False   \n",
       "...             ...                    ...                ...            ...   \n",
       "260556         True                   True              False          False   \n",
       "190013         True                   True              False          False   \n",
       "156091         True                   True              False          False   \n",
       "322328         True                   True              False          False   \n",
       "213818         True                   True              False          False   \n",
       "\n",
       "        ...  search_conducted  search_type_raw  search_type  contraband_found  \\\n",
       "153602  ...             False             True         True             False   \n",
       "130926  ...             False             True         True             False   \n",
       "129235  ...             False             True         True             False   \n",
       "462227  ...             False             True         True             False   \n",
       "153079  ...             False             True         True             False   \n",
       "...     ...               ...              ...          ...               ...   \n",
       "260556  ...             False             True         True             False   \n",
       "190013  ...             False             True         True             False   \n",
       "156091  ...             False             True         True             False   \n",
       "322328  ...             False             True         True             False   \n",
       "213818  ...             False             True         True             False   \n",
       "\n",
       "        stop_outcome  is_arrested  stop_duration  out_of_state  \\\n",
       "153602         False        False          False         False   \n",
       "130926         False        False          False         False   \n",
       "129235         False        False          False         False   \n",
       "462227         False        False          False         False   \n",
       "153079         False        False          False         False   \n",
       "...              ...          ...            ...           ...   \n",
       "260556         False        False          False         False   \n",
       "190013         False        False          False         False   \n",
       "156091         False        False          False         False   \n",
       "322328         False        False          False         False   \n",
       "213818         False        False          False         False   \n",
       "\n",
       "        drugs_related_stop  district  \n",
       "153602               False     False  \n",
       "130926               False     False  \n",
       "129235               False     False  \n",
       "462227               False     False  \n",
       "153079               False     False  \n",
       "...                    ...       ...  \n",
       "260556               False     False  \n",
       "190013               False     False  \n",
       "156091               False     False  \n",
       "322328               False     False  \n",
       "213818               False     False  \n",
       "\n",
       "[50000 rows x 26 columns]"
      ]
     },
     "execution_count": 5,
     "metadata": {},
     "output_type": "execute_result"
    }
   ],
   "source": [
    "df.isnull()"
   ]
  },
  {
   "cell_type": "code",
   "execution_count": 6,
   "metadata": {},
   "outputs": [
    {
     "data": {
      "text/plain": [
       "id                           0\n",
       "state                        0\n",
       "stop_date                    1\n",
       "stop_time                    1\n",
       "location_raw                 0\n",
       "county_name              50000\n",
       "county_fips              50000\n",
       "fine_grained_location    50000\n",
       "police_department            1\n",
       "driver_gender             2942\n",
       "driver_age_raw            2936\n",
       "driver_age                3110\n",
       "driver_race_raw           2937\n",
       "driver_race               2937\n",
       "violation_raw             2937\n",
       "violation                 2937\n",
       "search_conducted             1\n",
       "search_type_raw          48186\n",
       "search_type              48186\n",
       "contraband_found             0\n",
       "stop_outcome              2937\n",
       "is_arrested               2937\n",
       "stop_duration             2937\n",
       "out_of_state              3023\n",
       "drugs_related_stop           0\n",
       "district                     0\n",
       "dtype: int64"
      ]
     },
     "execution_count": 6,
     "metadata": {},
     "output_type": "execute_result"
    }
   ],
   "source": [
    "df.isnull().sum()"
   ]
  },
  {
   "cell_type": "code",
   "execution_count": 7,
   "metadata": {},
   "outputs": [
    {
     "data": {
      "text/plain": [
       "153602    True\n",
       "130926    True\n",
       "129235    True\n",
       "462227    True\n",
       "153079    True\n",
       "          ... \n",
       "260556    True\n",
       "190013    True\n",
       "156091    True\n",
       "322328    True\n",
       "213818    True\n",
       "Name: county_fips, Length: 50000, dtype: bool"
      ]
     },
     "execution_count": 7,
     "metadata": {},
     "output_type": "execute_result"
    }
   ],
   "source": [
    "pd.isnull(df[\"county_fips\"])"
   ]
  },
  {
   "cell_type": "code",
   "execution_count": 8,
   "metadata": {},
   "outputs": [
    {
     "data": {
      "text/html": [
       "<div>\n",
       "<style scoped>\n",
       "    .dataframe tbody tr th:only-of-type {\n",
       "        vertical-align: middle;\n",
       "    }\n",
       "\n",
       "    .dataframe tbody tr th {\n",
       "        vertical-align: top;\n",
       "    }\n",
       "\n",
       "    .dataframe thead th {\n",
       "        text-align: right;\n",
       "    }\n",
       "</style>\n",
       "<table border=\"1\" class=\"dataframe\">\n",
       "  <thead>\n",
       "    <tr style=\"text-align: right;\">\n",
       "      <th></th>\n",
       "      <th>id</th>\n",
       "      <th>state</th>\n",
       "      <th>stop_date</th>\n",
       "      <th>stop_time</th>\n",
       "      <th>location_raw</th>\n",
       "      <th>county_name</th>\n",
       "      <th>county_fips</th>\n",
       "      <th>fine_grained_location</th>\n",
       "      <th>police_department</th>\n",
       "      <th>driver_gender</th>\n",
       "      <th>...</th>\n",
       "      <th>search_conducted</th>\n",
       "      <th>search_type_raw</th>\n",
       "      <th>search_type</th>\n",
       "      <th>contraband_found</th>\n",
       "      <th>stop_outcome</th>\n",
       "      <th>is_arrested</th>\n",
       "      <th>stop_duration</th>\n",
       "      <th>out_of_state</th>\n",
       "      <th>drugs_related_stop</th>\n",
       "      <th>district</th>\n",
       "    </tr>\n",
       "  </thead>\n",
       "  <tbody>\n",
       "    <tr>\n",
       "      <th>153602</th>\n",
       "      <td>RI-2008-27978</td>\n",
       "      <td>RI</td>\n",
       "      <td>2008-07-28</td>\n",
       "      <td>19:13</td>\n",
       "      <td>Zone X4</td>\n",
       "      <td>NaN</td>\n",
       "      <td>NaN</td>\n",
       "      <td>NaN</td>\n",
       "      <td>300</td>\n",
       "      <td>M</td>\n",
       "      <td>...</td>\n",
       "      <td>False</td>\n",
       "      <td>NaN</td>\n",
       "      <td>NaN</td>\n",
       "      <td>False</td>\n",
       "      <td>Citation</td>\n",
       "      <td>False</td>\n",
       "      <td>0-15 Min</td>\n",
       "      <td>True</td>\n",
       "      <td>False</td>\n",
       "      <td>Zone X4</td>\n",
       "    </tr>\n",
       "    <tr>\n",
       "      <th>130926</th>\n",
       "      <td>RI-2008-05302</td>\n",
       "      <td>RI</td>\n",
       "      <td>2008-02-07</td>\n",
       "      <td>20:20</td>\n",
       "      <td>Zone K3</td>\n",
       "      <td>NaN</td>\n",
       "      <td>NaN</td>\n",
       "      <td>NaN</td>\n",
       "      <td>300</td>\n",
       "      <td>M</td>\n",
       "      <td>...</td>\n",
       "      <td>False</td>\n",
       "      <td>NaN</td>\n",
       "      <td>NaN</td>\n",
       "      <td>False</td>\n",
       "      <td>Citation</td>\n",
       "      <td>False</td>\n",
       "      <td>0-15 Min</td>\n",
       "      <td>False</td>\n",
       "      <td>False</td>\n",
       "      <td>Zone K3</td>\n",
       "    </tr>\n",
       "    <tr>\n",
       "      <th>129235</th>\n",
       "      <td>RI-2008-03611</td>\n",
       "      <td>RI</td>\n",
       "      <td>2008-01-26</td>\n",
       "      <td>19:59</td>\n",
       "      <td>Zone K3</td>\n",
       "      <td>NaN</td>\n",
       "      <td>NaN</td>\n",
       "      <td>NaN</td>\n",
       "      <td>300</td>\n",
       "      <td>M</td>\n",
       "      <td>...</td>\n",
       "      <td>False</td>\n",
       "      <td>NaN</td>\n",
       "      <td>NaN</td>\n",
       "      <td>False</td>\n",
       "      <td>Citation</td>\n",
       "      <td>False</td>\n",
       "      <td>0-15 Min</td>\n",
       "      <td>True</td>\n",
       "      <td>False</td>\n",
       "      <td>Zone K3</td>\n",
       "    </tr>\n",
       "    <tr>\n",
       "      <th>462227</th>\n",
       "      <td>RI-2014-50432</td>\n",
       "      <td>RI</td>\n",
       "      <td>2014-12-28</td>\n",
       "      <td>17:23</td>\n",
       "      <td>Zone X4</td>\n",
       "      <td>NaN</td>\n",
       "      <td>NaN</td>\n",
       "      <td>NaN</td>\n",
       "      <td>500</td>\n",
       "      <td>F</td>\n",
       "      <td>...</td>\n",
       "      <td>False</td>\n",
       "      <td>NaN</td>\n",
       "      <td>NaN</td>\n",
       "      <td>False</td>\n",
       "      <td>Citation</td>\n",
       "      <td>False</td>\n",
       "      <td>0-15 Min</td>\n",
       "      <td>True</td>\n",
       "      <td>False</td>\n",
       "      <td>Zone X4</td>\n",
       "    </tr>\n",
       "    <tr>\n",
       "      <th>153079</th>\n",
       "      <td>RI-2008-27455</td>\n",
       "      <td>RI</td>\n",
       "      <td>2008-07-24</td>\n",
       "      <td>15:17</td>\n",
       "      <td>Zone K2</td>\n",
       "      <td>NaN</td>\n",
       "      <td>NaN</td>\n",
       "      <td>NaN</td>\n",
       "      <td>900</td>\n",
       "      <td>M</td>\n",
       "      <td>...</td>\n",
       "      <td>False</td>\n",
       "      <td>NaN</td>\n",
       "      <td>NaN</td>\n",
       "      <td>False</td>\n",
       "      <td>Citation</td>\n",
       "      <td>False</td>\n",
       "      <td>16-30 Min</td>\n",
       "      <td>False</td>\n",
       "      <td>False</td>\n",
       "      <td>Zone K2</td>\n",
       "    </tr>\n",
       "    <tr>\n",
       "      <th>...</th>\n",
       "      <td>...</td>\n",
       "      <td>...</td>\n",
       "      <td>...</td>\n",
       "      <td>...</td>\n",
       "      <td>...</td>\n",
       "      <td>...</td>\n",
       "      <td>...</td>\n",
       "      <td>...</td>\n",
       "      <td>...</td>\n",
       "      <td>...</td>\n",
       "      <td>...</td>\n",
       "      <td>...</td>\n",
       "      <td>...</td>\n",
       "      <td>...</td>\n",
       "      <td>...</td>\n",
       "      <td>...</td>\n",
       "      <td>...</td>\n",
       "      <td>...</td>\n",
       "      <td>...</td>\n",
       "      <td>...</td>\n",
       "      <td>...</td>\n",
       "    </tr>\n",
       "    <tr>\n",
       "      <th>260556</th>\n",
       "      <td>RI-2011-00069</td>\n",
       "      <td>RI</td>\n",
       "      <td>2011-01-01</td>\n",
       "      <td>13:23</td>\n",
       "      <td>Zone X3</td>\n",
       "      <td>NaN</td>\n",
       "      <td>NaN</td>\n",
       "      <td>NaN</td>\n",
       "      <td>200</td>\n",
       "      <td>F</td>\n",
       "      <td>...</td>\n",
       "      <td>False</td>\n",
       "      <td>NaN</td>\n",
       "      <td>NaN</td>\n",
       "      <td>False</td>\n",
       "      <td>Citation</td>\n",
       "      <td>False</td>\n",
       "      <td>0-15 Min</td>\n",
       "      <td>True</td>\n",
       "      <td>False</td>\n",
       "      <td>Zone X3</td>\n",
       "    </tr>\n",
       "    <tr>\n",
       "      <th>190013</th>\n",
       "      <td>RI-2009-15370</td>\n",
       "      <td>RI</td>\n",
       "      <td>2009-04-21</td>\n",
       "      <td>11:02</td>\n",
       "      <td>Zone K3</td>\n",
       "      <td>NaN</td>\n",
       "      <td>NaN</td>\n",
       "      <td>NaN</td>\n",
       "      <td>300</td>\n",
       "      <td>M</td>\n",
       "      <td>...</td>\n",
       "      <td>False</td>\n",
       "      <td>NaN</td>\n",
       "      <td>NaN</td>\n",
       "      <td>False</td>\n",
       "      <td>Citation</td>\n",
       "      <td>False</td>\n",
       "      <td>16-30 Min</td>\n",
       "      <td>True</td>\n",
       "      <td>False</td>\n",
       "      <td>Zone K3</td>\n",
       "    </tr>\n",
       "    <tr>\n",
       "      <th>156091</th>\n",
       "      <td>RI-2008-30467</td>\n",
       "      <td>RI</td>\n",
       "      <td>2008-08-15</td>\n",
       "      <td>15:21</td>\n",
       "      <td>Zone X4</td>\n",
       "      <td>NaN</td>\n",
       "      <td>NaN</td>\n",
       "      <td>NaN</td>\n",
       "      <td>500</td>\n",
       "      <td>M</td>\n",
       "      <td>...</td>\n",
       "      <td>False</td>\n",
       "      <td>NaN</td>\n",
       "      <td>NaN</td>\n",
       "      <td>False</td>\n",
       "      <td>Citation</td>\n",
       "      <td>False</td>\n",
       "      <td>0-15 Min</td>\n",
       "      <td>True</td>\n",
       "      <td>False</td>\n",
       "      <td>Zone X4</td>\n",
       "    </tr>\n",
       "    <tr>\n",
       "      <th>322328</th>\n",
       "      <td>RI-2012-16047</td>\n",
       "      <td>RI</td>\n",
       "      <td>2012-03-18</td>\n",
       "      <td>07:27</td>\n",
       "      <td>Zone K2</td>\n",
       "      <td>NaN</td>\n",
       "      <td>NaN</td>\n",
       "      <td>NaN</td>\n",
       "      <td>900</td>\n",
       "      <td>M</td>\n",
       "      <td>...</td>\n",
       "      <td>False</td>\n",
       "      <td>NaN</td>\n",
       "      <td>NaN</td>\n",
       "      <td>False</td>\n",
       "      <td>Citation</td>\n",
       "      <td>False</td>\n",
       "      <td>0-15 Min</td>\n",
       "      <td>True</td>\n",
       "      <td>False</td>\n",
       "      <td>Zone K2</td>\n",
       "    </tr>\n",
       "    <tr>\n",
       "      <th>213818</th>\n",
       "      <td>RI-2009-39175</td>\n",
       "      <td>RI</td>\n",
       "      <td>2009-11-21</td>\n",
       "      <td>13:21</td>\n",
       "      <td>Zone X3</td>\n",
       "      <td>NaN</td>\n",
       "      <td>NaN</td>\n",
       "      <td>NaN</td>\n",
       "      <td>200</td>\n",
       "      <td>F</td>\n",
       "      <td>...</td>\n",
       "      <td>False</td>\n",
       "      <td>NaN</td>\n",
       "      <td>NaN</td>\n",
       "      <td>False</td>\n",
       "      <td>Citation</td>\n",
       "      <td>False</td>\n",
       "      <td>0-15 Min</td>\n",
       "      <td>True</td>\n",
       "      <td>False</td>\n",
       "      <td>Zone X3</td>\n",
       "    </tr>\n",
       "  </tbody>\n",
       "</table>\n",
       "<p>50000 rows × 26 columns</p>\n",
       "</div>"
      ],
      "text/plain": [
       "                   id state   stop_date stop_time location_raw  county_name  \\\n",
       "153602  RI-2008-27978    RI  2008-07-28     19:13      Zone X4          NaN   \n",
       "130926  RI-2008-05302    RI  2008-02-07     20:20      Zone K3          NaN   \n",
       "129235  RI-2008-03611    RI  2008-01-26     19:59      Zone K3          NaN   \n",
       "462227  RI-2014-50432    RI  2014-12-28     17:23      Zone X4          NaN   \n",
       "153079  RI-2008-27455    RI  2008-07-24     15:17      Zone K2          NaN   \n",
       "...               ...   ...         ...       ...          ...          ...   \n",
       "260556  RI-2011-00069    RI  2011-01-01     13:23      Zone X3          NaN   \n",
       "190013  RI-2009-15370    RI  2009-04-21     11:02      Zone K3          NaN   \n",
       "156091  RI-2008-30467    RI  2008-08-15     15:21      Zone X4          NaN   \n",
       "322328  RI-2012-16047    RI  2012-03-18     07:27      Zone K2          NaN   \n",
       "213818  RI-2009-39175    RI  2009-11-21     13:21      Zone X3          NaN   \n",
       "\n",
       "        county_fips  fine_grained_location police_department driver_gender  \\\n",
       "153602          NaN                    NaN               300             M   \n",
       "130926          NaN                    NaN               300             M   \n",
       "129235          NaN                    NaN               300             M   \n",
       "462227          NaN                    NaN               500             F   \n",
       "153079          NaN                    NaN               900             M   \n",
       "...             ...                    ...               ...           ...   \n",
       "260556          NaN                    NaN               200             F   \n",
       "190013          NaN                    NaN               300             M   \n",
       "156091          NaN                    NaN               500             M   \n",
       "322328          NaN                    NaN               900             M   \n",
       "213818          NaN                    NaN               200             F   \n",
       "\n",
       "        ...  search_conducted  search_type_raw search_type contraband_found  \\\n",
       "153602  ...             False              NaN         NaN            False   \n",
       "130926  ...             False              NaN         NaN            False   \n",
       "129235  ...             False              NaN         NaN            False   \n",
       "462227  ...             False              NaN         NaN            False   \n",
       "153079  ...             False              NaN         NaN            False   \n",
       "...     ...               ...              ...         ...              ...   \n",
       "260556  ...             False              NaN         NaN            False   \n",
       "190013  ...             False              NaN         NaN            False   \n",
       "156091  ...             False              NaN         NaN            False   \n",
       "322328  ...             False              NaN         NaN            False   \n",
       "213818  ...             False              NaN         NaN            False   \n",
       "\n",
       "       stop_outcome is_arrested stop_duration out_of_state drugs_related_stop  \\\n",
       "153602     Citation       False      0-15 Min         True              False   \n",
       "130926     Citation       False      0-15 Min        False              False   \n",
       "129235     Citation       False      0-15 Min         True              False   \n",
       "462227     Citation       False      0-15 Min         True              False   \n",
       "153079     Citation       False     16-30 Min        False              False   \n",
       "...             ...         ...           ...          ...                ...   \n",
       "260556     Citation       False      0-15 Min         True              False   \n",
       "190013     Citation       False     16-30 Min         True              False   \n",
       "156091     Citation       False      0-15 Min         True              False   \n",
       "322328     Citation       False      0-15 Min         True              False   \n",
       "213818     Citation       False      0-15 Min         True              False   \n",
       "\n",
       "        district  \n",
       "153602   Zone X4  \n",
       "130926   Zone K3  \n",
       "129235   Zone K3  \n",
       "462227   Zone X4  \n",
       "153079   Zone K2  \n",
       "...          ...  \n",
       "260556   Zone X3  \n",
       "190013   Zone K3  \n",
       "156091   Zone X4  \n",
       "322328   Zone K2  \n",
       "213818   Zone X3  \n",
       "\n",
       "[50000 rows x 26 columns]"
      ]
     },
     "execution_count": 8,
     "metadata": {},
     "output_type": "execute_result"
    }
   ],
   "source": [
    "bool_series = pd.isnull(df[\"county_fips\"])\n",
    "df[bool_series]"
   ]
  },
  {
   "cell_type": "code",
   "execution_count": 9,
   "metadata": {},
   "outputs": [],
   "source": [
    "df.drop([\"county_name\",\"county_fips\" ,\"fine_grained_location\"],axis=1,inplace=True)"
   ]
  },
  {
   "cell_type": "code",
   "execution_count": 10,
   "metadata": {},
   "outputs": [
    {
     "data": {
      "text/plain": [
       "(50000, 23)"
      ]
     },
     "execution_count": 10,
     "metadata": {},
     "output_type": "execute_result"
    }
   ],
   "source": [
    "df.shape"
   ]
  },
  {
   "cell_type": "code",
   "execution_count": 11,
   "metadata": {},
   "outputs": [],
   "source": [
    "df.drop(\"state\",axis=1,inplace=True)"
   ]
  },
  {
   "cell_type": "code",
   "execution_count": 12,
   "metadata": {},
   "outputs": [
    {
     "data": {
      "text/plain": [
       "(50000, 22)"
      ]
     },
     "execution_count": 12,
     "metadata": {},
     "output_type": "execute_result"
    }
   ],
   "source": [
    "df.dropna(subset=[\"driver_gender\"])\n",
    "df.shape"
   ]
  },
  {
   "cell_type": "code",
   "execution_count": 13,
   "metadata": {},
   "outputs": [
    {
     "data": {
      "text/plain": [
       "(50000, 22)"
      ]
     },
     "execution_count": 13,
     "metadata": {},
     "output_type": "execute_result"
    }
   ],
   "source": [
    "df[\"driver_gender\"].isnull().sum()\n",
    "df.shape"
   ]
  },
  {
   "cell_type": "code",
   "execution_count": 14,
   "metadata": {},
   "outputs": [],
   "source": [
    "df.dropna(subset = [\"driver_gender\"],inplace=True)"
   ]
  },
  {
   "cell_type": "code",
   "execution_count": 15,
   "metadata": {},
   "outputs": [
    {
     "data": {
      "text/html": [
       "<div>\n",
       "<style scoped>\n",
       "    .dataframe tbody tr th:only-of-type {\n",
       "        vertical-align: middle;\n",
       "    }\n",
       "\n",
       "    .dataframe tbody tr th {\n",
       "        vertical-align: top;\n",
       "    }\n",
       "\n",
       "    .dataframe thead th {\n",
       "        text-align: right;\n",
       "    }\n",
       "</style>\n",
       "<table border=\"1\" class=\"dataframe\">\n",
       "  <thead>\n",
       "    <tr style=\"text-align: right;\">\n",
       "      <th></th>\n",
       "      <th>is_arrested</th>\n",
       "    </tr>\n",
       "  </thead>\n",
       "  <tbody>\n",
       "    <tr>\n",
       "      <th>153602</th>\n",
       "      <td>False</td>\n",
       "    </tr>\n",
       "    <tr>\n",
       "      <th>130926</th>\n",
       "      <td>False</td>\n",
       "    </tr>\n",
       "    <tr>\n",
       "      <th>129235</th>\n",
       "      <td>False</td>\n",
       "    </tr>\n",
       "    <tr>\n",
       "      <th>462227</th>\n",
       "      <td>False</td>\n",
       "    </tr>\n",
       "    <tr>\n",
       "      <th>153079</th>\n",
       "      <td>False</td>\n",
       "    </tr>\n",
       "    <tr>\n",
       "      <th>179740</th>\n",
       "      <td>False</td>\n",
       "    </tr>\n",
       "    <tr>\n",
       "      <th>216045</th>\n",
       "      <td>False</td>\n",
       "    </tr>\n",
       "    <tr>\n",
       "      <th>271106</th>\n",
       "      <td>True</td>\n",
       "    </tr>\n",
       "    <tr>\n",
       "      <th>436820</th>\n",
       "      <td>False</td>\n",
       "    </tr>\n",
       "    <tr>\n",
       "      <th>29077</th>\n",
       "      <td>False</td>\n",
       "    </tr>\n",
       "  </tbody>\n",
       "</table>\n",
       "</div>"
      ],
      "text/plain": [
       "       is_arrested\n",
       "153602       False\n",
       "130926       False\n",
       "129235       False\n",
       "462227       False\n",
       "153079       False\n",
       "179740       False\n",
       "216045       False\n",
       "271106        True\n",
       "436820       False\n",
       "29077        False"
      ]
     },
     "execution_count": 15,
     "metadata": {},
     "output_type": "execute_result"
    }
   ],
   "source": [
    "df[[\"is_arrested\"]].head(10)"
   ]
  },
  {
   "cell_type": "code",
   "execution_count": 16,
   "metadata": {},
   "outputs": [],
   "source": [
    "df[\"is_arrested\"]=df.is_arrested.astype(\"bool\")"
   ]
  },
  {
   "cell_type": "code",
   "execution_count": 17,
   "metadata": {},
   "outputs": [
    {
     "data": {
      "text/plain": [
       "dtype('bool')"
      ]
     },
     "execution_count": 17,
     "metadata": {},
     "output_type": "execute_result"
    }
   ],
   "source": [
    "df[\"is_arrested\"].dtype"
   ]
  },
  {
   "cell_type": "code",
   "execution_count": 18,
   "metadata": {},
   "outputs": [],
   "source": [
    "combined = df.stop_date.str.cat(df.stop_time,sep=\" \") #her iki serinin boyu aynı olmalıdır\n",
    "df[\"stop_datetime\"] = pd.to_datetime(combined)"
   ]
  },
  {
   "cell_type": "code",
   "execution_count": null,
   "metadata": {},
   "outputs": [],
   "source": []
  },
  {
   "cell_type": "code",
   "execution_count": 19,
   "metadata": {},
   "outputs": [
    {
     "data": {
      "text/plain": [
       "dtype('<M8[ns]')"
      ]
     },
     "execution_count": 19,
     "metadata": {},
     "output_type": "execute_result"
    }
   ],
   "source": [
    "df[\"stop_datetime\"].dtype"
   ]
  },
  {
   "cell_type": "code",
   "execution_count": 20,
   "metadata": {},
   "outputs": [
    {
     "data": {
      "text/plain": [
       "153602   2008-07-28 19:13:00\n",
       "130926   2008-02-07 20:20:00\n",
       "129235   2008-01-26 19:59:00\n",
       "462227   2014-12-28 17:23:00\n",
       "153079   2008-07-24 15:17:00\n",
       "                 ...        \n",
       "260556   2011-01-01 13:23:00\n",
       "190013   2009-04-21 11:02:00\n",
       "156091   2008-08-15 15:21:00\n",
       "322328   2012-03-18 07:27:00\n",
       "213818   2009-11-21 13:21:00\n",
       "Name: stop_datetime, Length: 47058, dtype: datetime64[ns]"
      ]
     },
     "execution_count": 20,
     "metadata": {},
     "output_type": "execute_result"
    }
   ],
   "source": [
    "df[\"stop_datetime\"]"
   ]
  },
  {
   "cell_type": "code",
   "execution_count": 21,
   "metadata": {},
   "outputs": [
    {
     "data": {
      "text/html": [
       "<div>\n",
       "<style scoped>\n",
       "    .dataframe tbody tr th:only-of-type {\n",
       "        vertical-align: middle;\n",
       "    }\n",
       "\n",
       "    .dataframe tbody tr th {\n",
       "        vertical-align: top;\n",
       "    }\n",
       "\n",
       "    .dataframe thead th {\n",
       "        text-align: right;\n",
       "    }\n",
       "</style>\n",
       "<table border=\"1\" class=\"dataframe\">\n",
       "  <thead>\n",
       "    <tr style=\"text-align: right;\">\n",
       "      <th></th>\n",
       "      <th>id</th>\n",
       "      <th>stop_date</th>\n",
       "      <th>stop_time</th>\n",
       "      <th>location_raw</th>\n",
       "      <th>police_department</th>\n",
       "      <th>driver_gender</th>\n",
       "      <th>driver_age_raw</th>\n",
       "      <th>driver_age</th>\n",
       "      <th>driver_race_raw</th>\n",
       "      <th>driver_race</th>\n",
       "      <th>...</th>\n",
       "      <th>search_type_raw</th>\n",
       "      <th>search_type</th>\n",
       "      <th>contraband_found</th>\n",
       "      <th>stop_outcome</th>\n",
       "      <th>is_arrested</th>\n",
       "      <th>stop_duration</th>\n",
       "      <th>out_of_state</th>\n",
       "      <th>drugs_related_stop</th>\n",
       "      <th>district</th>\n",
       "      <th>stop_datetime</th>\n",
       "    </tr>\n",
       "    <tr>\n",
       "      <th>stop_datetime</th>\n",
       "      <th></th>\n",
       "      <th></th>\n",
       "      <th></th>\n",
       "      <th></th>\n",
       "      <th></th>\n",
       "      <th></th>\n",
       "      <th></th>\n",
       "      <th></th>\n",
       "      <th></th>\n",
       "      <th></th>\n",
       "      <th></th>\n",
       "      <th></th>\n",
       "      <th></th>\n",
       "      <th></th>\n",
       "      <th></th>\n",
       "      <th></th>\n",
       "      <th></th>\n",
       "      <th></th>\n",
       "      <th></th>\n",
       "      <th></th>\n",
       "      <th></th>\n",
       "    </tr>\n",
       "  </thead>\n",
       "  <tbody>\n",
       "    <tr>\n",
       "      <th>2008-07-28 19:13:00</th>\n",
       "      <td>RI-2008-27978</td>\n",
       "      <td>2008-07-28</td>\n",
       "      <td>19:13</td>\n",
       "      <td>Zone X4</td>\n",
       "      <td>300</td>\n",
       "      <td>M</td>\n",
       "      <td>1971.0</td>\n",
       "      <td>37.0</td>\n",
       "      <td>B</td>\n",
       "      <td>Black</td>\n",
       "      <td>...</td>\n",
       "      <td>NaN</td>\n",
       "      <td>NaN</td>\n",
       "      <td>False</td>\n",
       "      <td>Citation</td>\n",
       "      <td>False</td>\n",
       "      <td>0-15 Min</td>\n",
       "      <td>True</td>\n",
       "      <td>False</td>\n",
       "      <td>Zone X4</td>\n",
       "      <td>2008-07-28 19:13:00</td>\n",
       "    </tr>\n",
       "    <tr>\n",
       "      <th>2008-02-07 20:20:00</th>\n",
       "      <td>RI-2008-05302</td>\n",
       "      <td>2008-02-07</td>\n",
       "      <td>20:20</td>\n",
       "      <td>Zone K3</td>\n",
       "      <td>300</td>\n",
       "      <td>M</td>\n",
       "      <td>1967.0</td>\n",
       "      <td>41.0</td>\n",
       "      <td>W</td>\n",
       "      <td>White</td>\n",
       "      <td>...</td>\n",
       "      <td>NaN</td>\n",
       "      <td>NaN</td>\n",
       "      <td>False</td>\n",
       "      <td>Citation</td>\n",
       "      <td>False</td>\n",
       "      <td>0-15 Min</td>\n",
       "      <td>False</td>\n",
       "      <td>False</td>\n",
       "      <td>Zone K3</td>\n",
       "      <td>2008-02-07 20:20:00</td>\n",
       "    </tr>\n",
       "    <tr>\n",
       "      <th>2008-01-26 19:59:00</th>\n",
       "      <td>RI-2008-03611</td>\n",
       "      <td>2008-01-26</td>\n",
       "      <td>19:59</td>\n",
       "      <td>Zone K3</td>\n",
       "      <td>300</td>\n",
       "      <td>M</td>\n",
       "      <td>1986.0</td>\n",
       "      <td>22.0</td>\n",
       "      <td>W</td>\n",
       "      <td>White</td>\n",
       "      <td>...</td>\n",
       "      <td>NaN</td>\n",
       "      <td>NaN</td>\n",
       "      <td>False</td>\n",
       "      <td>Citation</td>\n",
       "      <td>False</td>\n",
       "      <td>0-15 Min</td>\n",
       "      <td>True</td>\n",
       "      <td>False</td>\n",
       "      <td>Zone K3</td>\n",
       "      <td>2008-01-26 19:59:00</td>\n",
       "    </tr>\n",
       "    <tr>\n",
       "      <th>2014-12-28 17:23:00</th>\n",
       "      <td>RI-2014-50432</td>\n",
       "      <td>2014-12-28</td>\n",
       "      <td>17:23</td>\n",
       "      <td>Zone X4</td>\n",
       "      <td>500</td>\n",
       "      <td>F</td>\n",
       "      <td>1967.0</td>\n",
       "      <td>47.0</td>\n",
       "      <td>W</td>\n",
       "      <td>White</td>\n",
       "      <td>...</td>\n",
       "      <td>NaN</td>\n",
       "      <td>NaN</td>\n",
       "      <td>False</td>\n",
       "      <td>Citation</td>\n",
       "      <td>False</td>\n",
       "      <td>0-15 Min</td>\n",
       "      <td>True</td>\n",
       "      <td>False</td>\n",
       "      <td>Zone X4</td>\n",
       "      <td>2014-12-28 17:23:00</td>\n",
       "    </tr>\n",
       "    <tr>\n",
       "      <th>2008-07-24 15:17:00</th>\n",
       "      <td>RI-2008-27455</td>\n",
       "      <td>2008-07-24</td>\n",
       "      <td>15:17</td>\n",
       "      <td>Zone K2</td>\n",
       "      <td>900</td>\n",
       "      <td>M</td>\n",
       "      <td>1941.0</td>\n",
       "      <td>67.0</td>\n",
       "      <td>W</td>\n",
       "      <td>White</td>\n",
       "      <td>...</td>\n",
       "      <td>NaN</td>\n",
       "      <td>NaN</td>\n",
       "      <td>False</td>\n",
       "      <td>Citation</td>\n",
       "      <td>False</td>\n",
       "      <td>16-30 Min</td>\n",
       "      <td>False</td>\n",
       "      <td>False</td>\n",
       "      <td>Zone K2</td>\n",
       "      <td>2008-07-24 15:17:00</td>\n",
       "    </tr>\n",
       "  </tbody>\n",
       "</table>\n",
       "<p>5 rows × 23 columns</p>\n",
       "</div>"
      ],
      "text/plain": [
       "                                id   stop_date stop_time location_raw  \\\n",
       "stop_datetime                                                           \n",
       "2008-07-28 19:13:00  RI-2008-27978  2008-07-28     19:13      Zone X4   \n",
       "2008-02-07 20:20:00  RI-2008-05302  2008-02-07     20:20      Zone K3   \n",
       "2008-01-26 19:59:00  RI-2008-03611  2008-01-26     19:59      Zone K3   \n",
       "2014-12-28 17:23:00  RI-2014-50432  2014-12-28     17:23      Zone X4   \n",
       "2008-07-24 15:17:00  RI-2008-27455  2008-07-24     15:17      Zone K2   \n",
       "\n",
       "                    police_department driver_gender  driver_age_raw  \\\n",
       "stop_datetime                                                         \n",
       "2008-07-28 19:13:00               300             M          1971.0   \n",
       "2008-02-07 20:20:00               300             M          1967.0   \n",
       "2008-01-26 19:59:00               300             M          1986.0   \n",
       "2014-12-28 17:23:00               500             F          1967.0   \n",
       "2008-07-24 15:17:00               900             M          1941.0   \n",
       "\n",
       "                     driver_age driver_race_raw driver_race  ...  \\\n",
       "stop_datetime                                                ...   \n",
       "2008-07-28 19:13:00        37.0               B       Black  ...   \n",
       "2008-02-07 20:20:00        41.0               W       White  ...   \n",
       "2008-01-26 19:59:00        22.0               W       White  ...   \n",
       "2014-12-28 17:23:00        47.0               W       White  ...   \n",
       "2008-07-24 15:17:00        67.0               W       White  ...   \n",
       "\n",
       "                    search_type_raw search_type contraband_found stop_outcome  \\\n",
       "stop_datetime                                                                   \n",
       "2008-07-28 19:13:00             NaN         NaN            False     Citation   \n",
       "2008-02-07 20:20:00             NaN         NaN            False     Citation   \n",
       "2008-01-26 19:59:00             NaN         NaN            False     Citation   \n",
       "2014-12-28 17:23:00             NaN         NaN            False     Citation   \n",
       "2008-07-24 15:17:00             NaN         NaN            False     Citation   \n",
       "\n",
       "                    is_arrested  stop_duration out_of_state  \\\n",
       "stop_datetime                                                 \n",
       "2008-07-28 19:13:00       False       0-15 Min         True   \n",
       "2008-02-07 20:20:00       False       0-15 Min        False   \n",
       "2008-01-26 19:59:00       False       0-15 Min         True   \n",
       "2014-12-28 17:23:00       False       0-15 Min         True   \n",
       "2008-07-24 15:17:00       False      16-30 Min        False   \n",
       "\n",
       "                     drugs_related_stop district       stop_datetime  \n",
       "stop_datetime                                                         \n",
       "2008-07-28 19:13:00               False  Zone X4 2008-07-28 19:13:00  \n",
       "2008-02-07 20:20:00               False  Zone K3 2008-02-07 20:20:00  \n",
       "2008-01-26 19:59:00               False  Zone K3 2008-01-26 19:59:00  \n",
       "2014-12-28 17:23:00               False  Zone X4 2014-12-28 17:23:00  \n",
       "2008-07-24 15:17:00               False  Zone K2 2008-07-24 15:17:00  \n",
       "\n",
       "[5 rows x 23 columns]"
      ]
     },
     "execution_count": 21,
     "metadata": {},
     "output_type": "execute_result"
    }
   ],
   "source": [
    "df = df.set_index(pd.DatetimeIndex(df[\"stop_datetime\"]))\n",
    "df.head()"
   ]
  },
  {
   "cell_type": "code",
   "execution_count": 22,
   "metadata": {},
   "outputs": [
    {
     "data": {
      "text/plain": [
       "'Sunday'"
      ]
     },
     "execution_count": 22,
     "metadata": {},
     "output_type": "execute_result"
    }
   ],
   "source": [
    "day=pd.Timestamp(\"2005-01-02\")\n",
    "day.day_name()"
   ]
  },
  {
   "cell_type": "code",
   "execution_count": 23,
   "metadata": {},
   "outputs": [
    {
     "data": {
      "text/plain": [
       "Speeding               26464\n",
       "Moving violation        8771\n",
       "Equipment               5941\n",
       "Other                   2394\n",
       "Registration/plates     1898\n",
       "Seat belt               1590\n",
       "Name: violation, dtype: int64"
      ]
     },
     "execution_count": 23,
     "metadata": {},
     "output_type": "execute_result"
    }
   ],
   "source": [
    "df[\"violation\"].value_counts() # Count the unique values in the violation to see what violations are being committed by all drivers."
   ]
  },
  {
   "cell_type": "code",
   "execution_count": 24,
   "metadata": {},
   "outputs": [
    {
     "data": {
      "text/plain": [
       "Speeding               0.562370\n",
       "Moving violation       0.186387\n",
       "Equipment              0.126248\n",
       "Other                  0.050873\n",
       "Registration/plates    0.040333\n",
       "Seat belt              0.033788\n",
       "Name: violation, dtype: float64"
      ]
     },
     "execution_count": 24,
     "metadata": {},
     "output_type": "execute_result"
    }
   ],
   "source": [
    "df[\"violation\"].value_counts(normalize=True) "
   ]
  },
  {
   "cell_type": "code",
   "execution_count": 25,
   "metadata": {},
   "outputs": [
    {
     "data": {
      "text/html": [
       "<div>\n",
       "<style scoped>\n",
       "    .dataframe tbody tr th:only-of-type {\n",
       "        vertical-align: middle;\n",
       "    }\n",
       "\n",
       "    .dataframe tbody tr th {\n",
       "        vertical-align: top;\n",
       "    }\n",
       "\n",
       "    .dataframe thead th {\n",
       "        text-align: right;\n",
       "    }\n",
       "</style>\n",
       "<table border=\"1\" class=\"dataframe\">\n",
       "  <thead>\n",
       "    <tr style=\"text-align: right;\">\n",
       "      <th></th>\n",
       "      <th>id</th>\n",
       "      <th>stop_date</th>\n",
       "      <th>stop_time</th>\n",
       "      <th>location_raw</th>\n",
       "      <th>police_department</th>\n",
       "      <th>driver_gender</th>\n",
       "      <th>driver_age_raw</th>\n",
       "      <th>driver_age</th>\n",
       "      <th>driver_race_raw</th>\n",
       "      <th>driver_race</th>\n",
       "      <th>...</th>\n",
       "      <th>search_type_raw</th>\n",
       "      <th>search_type</th>\n",
       "      <th>contraband_found</th>\n",
       "      <th>stop_outcome</th>\n",
       "      <th>is_arrested</th>\n",
       "      <th>stop_duration</th>\n",
       "      <th>out_of_state</th>\n",
       "      <th>drugs_related_stop</th>\n",
       "      <th>district</th>\n",
       "      <th>stop_datetime</th>\n",
       "    </tr>\n",
       "    <tr>\n",
       "      <th>stop_datetime</th>\n",
       "      <th></th>\n",
       "      <th></th>\n",
       "      <th></th>\n",
       "      <th></th>\n",
       "      <th></th>\n",
       "      <th></th>\n",
       "      <th></th>\n",
       "      <th></th>\n",
       "      <th></th>\n",
       "      <th></th>\n",
       "      <th></th>\n",
       "      <th></th>\n",
       "      <th></th>\n",
       "      <th></th>\n",
       "      <th></th>\n",
       "      <th></th>\n",
       "      <th></th>\n",
       "      <th></th>\n",
       "      <th></th>\n",
       "      <th></th>\n",
       "      <th></th>\n",
       "    </tr>\n",
       "  </thead>\n",
       "  <tbody>\n",
       "    <tr>\n",
       "      <th>2008-07-28 19:13:00</th>\n",
       "      <td>RI-2008-27978</td>\n",
       "      <td>2008-07-28</td>\n",
       "      <td>19:13</td>\n",
       "      <td>Zone X4</td>\n",
       "      <td>300</td>\n",
       "      <td>M</td>\n",
       "      <td>1971.0</td>\n",
       "      <td>37.0</td>\n",
       "      <td>B</td>\n",
       "      <td>Black</td>\n",
       "      <td>...</td>\n",
       "      <td>NaN</td>\n",
       "      <td>NaN</td>\n",
       "      <td>False</td>\n",
       "      <td>Citation</td>\n",
       "      <td>False</td>\n",
       "      <td>0-15 Min</td>\n",
       "      <td>True</td>\n",
       "      <td>False</td>\n",
       "      <td>Zone X4</td>\n",
       "      <td>2008-07-28 19:13:00</td>\n",
       "    </tr>\n",
       "    <tr>\n",
       "      <th>2008-02-07 20:20:00</th>\n",
       "      <td>RI-2008-05302</td>\n",
       "      <td>2008-02-07</td>\n",
       "      <td>20:20</td>\n",
       "      <td>Zone K3</td>\n",
       "      <td>300</td>\n",
       "      <td>M</td>\n",
       "      <td>1967.0</td>\n",
       "      <td>41.0</td>\n",
       "      <td>W</td>\n",
       "      <td>White</td>\n",
       "      <td>...</td>\n",
       "      <td>NaN</td>\n",
       "      <td>NaN</td>\n",
       "      <td>False</td>\n",
       "      <td>Citation</td>\n",
       "      <td>False</td>\n",
       "      <td>0-15 Min</td>\n",
       "      <td>False</td>\n",
       "      <td>False</td>\n",
       "      <td>Zone K3</td>\n",
       "      <td>2008-02-07 20:20:00</td>\n",
       "    </tr>\n",
       "    <tr>\n",
       "      <th>2008-01-26 19:59:00</th>\n",
       "      <td>RI-2008-03611</td>\n",
       "      <td>2008-01-26</td>\n",
       "      <td>19:59</td>\n",
       "      <td>Zone K3</td>\n",
       "      <td>300</td>\n",
       "      <td>M</td>\n",
       "      <td>1986.0</td>\n",
       "      <td>22.0</td>\n",
       "      <td>W</td>\n",
       "      <td>White</td>\n",
       "      <td>...</td>\n",
       "      <td>NaN</td>\n",
       "      <td>NaN</td>\n",
       "      <td>False</td>\n",
       "      <td>Citation</td>\n",
       "      <td>False</td>\n",
       "      <td>0-15 Min</td>\n",
       "      <td>True</td>\n",
       "      <td>False</td>\n",
       "      <td>Zone K3</td>\n",
       "      <td>2008-01-26 19:59:00</td>\n",
       "    </tr>\n",
       "    <tr>\n",
       "      <th>2008-07-24 15:17:00</th>\n",
       "      <td>RI-2008-27455</td>\n",
       "      <td>2008-07-24</td>\n",
       "      <td>15:17</td>\n",
       "      <td>Zone K2</td>\n",
       "      <td>900</td>\n",
       "      <td>M</td>\n",
       "      <td>1941.0</td>\n",
       "      <td>67.0</td>\n",
       "      <td>W</td>\n",
       "      <td>White</td>\n",
       "      <td>...</td>\n",
       "      <td>NaN</td>\n",
       "      <td>NaN</td>\n",
       "      <td>False</td>\n",
       "      <td>Citation</td>\n",
       "      <td>False</td>\n",
       "      <td>16-30 Min</td>\n",
       "      <td>False</td>\n",
       "      <td>False</td>\n",
       "      <td>Zone K2</td>\n",
       "      <td>2008-07-24 15:17:00</td>\n",
       "    </tr>\n",
       "    <tr>\n",
       "      <th>2009-02-08 06:56:00</th>\n",
       "      <td>RI-2009-05097</td>\n",
       "      <td>2009-02-08</td>\n",
       "      <td>06:56</td>\n",
       "      <td>Zone K3</td>\n",
       "      <td>300</td>\n",
       "      <td>M</td>\n",
       "      <td>1983.0</td>\n",
       "      <td>26.0</td>\n",
       "      <td>W</td>\n",
       "      <td>White</td>\n",
       "      <td>...</td>\n",
       "      <td>NaN</td>\n",
       "      <td>NaN</td>\n",
       "      <td>False</td>\n",
       "      <td>Citation</td>\n",
       "      <td>False</td>\n",
       "      <td>0-15 Min</td>\n",
       "      <td>True</td>\n",
       "      <td>False</td>\n",
       "      <td>Zone K3</td>\n",
       "      <td>2009-02-08 06:56:00</td>\n",
       "    </tr>\n",
       "  </tbody>\n",
       "</table>\n",
       "<p>5 rows × 23 columns</p>\n",
       "</div>"
      ],
      "text/plain": [
       "                                id   stop_date stop_time location_raw  \\\n",
       "stop_datetime                                                           \n",
       "2008-07-28 19:13:00  RI-2008-27978  2008-07-28     19:13      Zone X4   \n",
       "2008-02-07 20:20:00  RI-2008-05302  2008-02-07     20:20      Zone K3   \n",
       "2008-01-26 19:59:00  RI-2008-03611  2008-01-26     19:59      Zone K3   \n",
       "2008-07-24 15:17:00  RI-2008-27455  2008-07-24     15:17      Zone K2   \n",
       "2009-02-08 06:56:00  RI-2009-05097  2009-02-08     06:56      Zone K3   \n",
       "\n",
       "                    police_department driver_gender  driver_age_raw  \\\n",
       "stop_datetime                                                         \n",
       "2008-07-28 19:13:00               300             M          1971.0   \n",
       "2008-02-07 20:20:00               300             M          1967.0   \n",
       "2008-01-26 19:59:00               300             M          1986.0   \n",
       "2008-07-24 15:17:00               900             M          1941.0   \n",
       "2009-02-08 06:56:00               300             M          1983.0   \n",
       "\n",
       "                     driver_age driver_race_raw driver_race  ...  \\\n",
       "stop_datetime                                                ...   \n",
       "2008-07-28 19:13:00        37.0               B       Black  ...   \n",
       "2008-02-07 20:20:00        41.0               W       White  ...   \n",
       "2008-01-26 19:59:00        22.0               W       White  ...   \n",
       "2008-07-24 15:17:00        67.0               W       White  ...   \n",
       "2009-02-08 06:56:00        26.0               W       White  ...   \n",
       "\n",
       "                    search_type_raw search_type contraband_found stop_outcome  \\\n",
       "stop_datetime                                                                   \n",
       "2008-07-28 19:13:00             NaN         NaN            False     Citation   \n",
       "2008-02-07 20:20:00             NaN         NaN            False     Citation   \n",
       "2008-01-26 19:59:00             NaN         NaN            False     Citation   \n",
       "2008-07-24 15:17:00             NaN         NaN            False     Citation   \n",
       "2009-02-08 06:56:00             NaN         NaN            False     Citation   \n",
       "\n",
       "                    is_arrested  stop_duration out_of_state  \\\n",
       "stop_datetime                                                 \n",
       "2008-07-28 19:13:00       False       0-15 Min         True   \n",
       "2008-02-07 20:20:00       False       0-15 Min        False   \n",
       "2008-01-26 19:59:00       False       0-15 Min         True   \n",
       "2008-07-24 15:17:00       False      16-30 Min        False   \n",
       "2009-02-08 06:56:00       False       0-15 Min         True   \n",
       "\n",
       "                     drugs_related_stop district       stop_datetime  \n",
       "stop_datetime                                                         \n",
       "2008-07-28 19:13:00               False  Zone X4 2008-07-28 19:13:00  \n",
       "2008-02-07 20:20:00               False  Zone K3 2008-02-07 20:20:00  \n",
       "2008-01-26 19:59:00               False  Zone K3 2008-01-26 19:59:00  \n",
       "2008-07-24 15:17:00               False  Zone K2 2008-07-24 15:17:00  \n",
       "2009-02-08 06:56:00               False  Zone K3 2009-02-08 06:56:00  \n",
       "\n",
       "[5 rows x 23 columns]"
      ]
     },
     "execution_count": 25,
     "metadata": {},
     "output_type": "execute_result"
    }
   ],
   "source": [
    "df_male = df[df[\"driver_gender\"] == \"M\" ]\n",
    "df_male.head() #The question we're trying to answer is whether male and female drivers tend to commit different types of traffic violations."
   ]
  },
  {
   "cell_type": "code",
   "execution_count": 26,
   "metadata": {},
   "outputs": [
    {
     "data": {
      "text/html": [
       "<div>\n",
       "<style scoped>\n",
       "    .dataframe tbody tr th:only-of-type {\n",
       "        vertical-align: middle;\n",
       "    }\n",
       "\n",
       "    .dataframe tbody tr th {\n",
       "        vertical-align: top;\n",
       "    }\n",
       "\n",
       "    .dataframe thead th {\n",
       "        text-align: right;\n",
       "    }\n",
       "</style>\n",
       "<table border=\"1\" class=\"dataframe\">\n",
       "  <thead>\n",
       "    <tr style=\"text-align: right;\">\n",
       "      <th></th>\n",
       "      <th>id</th>\n",
       "      <th>stop_date</th>\n",
       "      <th>stop_time</th>\n",
       "      <th>location_raw</th>\n",
       "      <th>police_department</th>\n",
       "      <th>driver_gender</th>\n",
       "      <th>driver_age_raw</th>\n",
       "      <th>driver_age</th>\n",
       "      <th>driver_race_raw</th>\n",
       "      <th>driver_race</th>\n",
       "      <th>...</th>\n",
       "      <th>search_type_raw</th>\n",
       "      <th>search_type</th>\n",
       "      <th>contraband_found</th>\n",
       "      <th>stop_outcome</th>\n",
       "      <th>is_arrested</th>\n",
       "      <th>stop_duration</th>\n",
       "      <th>out_of_state</th>\n",
       "      <th>drugs_related_stop</th>\n",
       "      <th>district</th>\n",
       "      <th>stop_datetime</th>\n",
       "    </tr>\n",
       "    <tr>\n",
       "      <th>stop_datetime</th>\n",
       "      <th></th>\n",
       "      <th></th>\n",
       "      <th></th>\n",
       "      <th></th>\n",
       "      <th></th>\n",
       "      <th></th>\n",
       "      <th></th>\n",
       "      <th></th>\n",
       "      <th></th>\n",
       "      <th></th>\n",
       "      <th></th>\n",
       "      <th></th>\n",
       "      <th></th>\n",
       "      <th></th>\n",
       "      <th></th>\n",
       "      <th></th>\n",
       "      <th></th>\n",
       "      <th></th>\n",
       "      <th></th>\n",
       "      <th></th>\n",
       "      <th></th>\n",
       "    </tr>\n",
       "  </thead>\n",
       "  <tbody>\n",
       "    <tr>\n",
       "      <th>2014-12-28 17:23:00</th>\n",
       "      <td>RI-2014-50432</td>\n",
       "      <td>2014-12-28</td>\n",
       "      <td>17:23</td>\n",
       "      <td>Zone X4</td>\n",
       "      <td>500</td>\n",
       "      <td>F</td>\n",
       "      <td>1967.0</td>\n",
       "      <td>47.0</td>\n",
       "      <td>W</td>\n",
       "      <td>White</td>\n",
       "      <td>...</td>\n",
       "      <td>NaN</td>\n",
       "      <td>NaN</td>\n",
       "      <td>False</td>\n",
       "      <td>Citation</td>\n",
       "      <td>False</td>\n",
       "      <td>0-15 Min</td>\n",
       "      <td>True</td>\n",
       "      <td>False</td>\n",
       "      <td>Zone X4</td>\n",
       "      <td>2014-12-28 17:23:00</td>\n",
       "    </tr>\n",
       "    <tr>\n",
       "      <th>2011-04-09 03:02:00</th>\n",
       "      <td>RI-2011-10619</td>\n",
       "      <td>2011-04-09</td>\n",
       "      <td>03:02</td>\n",
       "      <td>Zone X4</td>\n",
       "      <td>500</td>\n",
       "      <td>F</td>\n",
       "      <td>1972.0</td>\n",
       "      <td>39.0</td>\n",
       "      <td>W</td>\n",
       "      <td>White</td>\n",
       "      <td>...</td>\n",
       "      <td>NaN</td>\n",
       "      <td>NaN</td>\n",
       "      <td>False</td>\n",
       "      <td>Arrest Driver</td>\n",
       "      <td>True</td>\n",
       "      <td>30+ Min</td>\n",
       "      <td>False</td>\n",
       "      <td>False</td>\n",
       "      <td>Zone X4</td>\n",
       "      <td>2011-04-09 03:02:00</td>\n",
       "    </tr>\n",
       "    <tr>\n",
       "      <th>2014-06-18 23:13:00</th>\n",
       "      <td>RI-2014-25025</td>\n",
       "      <td>2014-06-18</td>\n",
       "      <td>23:13</td>\n",
       "      <td>Zone K2</td>\n",
       "      <td>900</td>\n",
       "      <td>F</td>\n",
       "      <td>1993.0</td>\n",
       "      <td>21.0</td>\n",
       "      <td>W</td>\n",
       "      <td>White</td>\n",
       "      <td>...</td>\n",
       "      <td>NaN</td>\n",
       "      <td>NaN</td>\n",
       "      <td>False</td>\n",
       "      <td>Citation</td>\n",
       "      <td>False</td>\n",
       "      <td>0-15 Min</td>\n",
       "      <td>True</td>\n",
       "      <td>False</td>\n",
       "      <td>Zone K2</td>\n",
       "      <td>2014-06-18 23:13:00</td>\n",
       "    </tr>\n",
       "    <tr>\n",
       "      <th>2010-05-30 07:38:00</th>\n",
       "      <td>RI-2010-18816</td>\n",
       "      <td>2010-05-30</td>\n",
       "      <td>07:38</td>\n",
       "      <td>Zone K1</td>\n",
       "      <td>600</td>\n",
       "      <td>F</td>\n",
       "      <td>1985.0</td>\n",
       "      <td>25.0</td>\n",
       "      <td>W</td>\n",
       "      <td>White</td>\n",
       "      <td>...</td>\n",
       "      <td>NaN</td>\n",
       "      <td>NaN</td>\n",
       "      <td>False</td>\n",
       "      <td>Citation</td>\n",
       "      <td>False</td>\n",
       "      <td>0-15 Min</td>\n",
       "      <td>False</td>\n",
       "      <td>False</td>\n",
       "      <td>Zone K1</td>\n",
       "      <td>2010-05-30 07:38:00</td>\n",
       "    </tr>\n",
       "    <tr>\n",
       "      <th>2009-05-22 22:34:00</th>\n",
       "      <td>RI-2009-19123</td>\n",
       "      <td>2009-05-22</td>\n",
       "      <td>22:34</td>\n",
       "      <td>Zone K1</td>\n",
       "      <td>600</td>\n",
       "      <td>F</td>\n",
       "      <td>1981.0</td>\n",
       "      <td>28.0</td>\n",
       "      <td>W</td>\n",
       "      <td>White</td>\n",
       "      <td>...</td>\n",
       "      <td>NaN</td>\n",
       "      <td>NaN</td>\n",
       "      <td>False</td>\n",
       "      <td>Citation</td>\n",
       "      <td>False</td>\n",
       "      <td>0-15 Min</td>\n",
       "      <td>True</td>\n",
       "      <td>False</td>\n",
       "      <td>Zone K1</td>\n",
       "      <td>2009-05-22 22:34:00</td>\n",
       "    </tr>\n",
       "  </tbody>\n",
       "</table>\n",
       "<p>5 rows × 23 columns</p>\n",
       "</div>"
      ],
      "text/plain": [
       "                                id   stop_date stop_time location_raw  \\\n",
       "stop_datetime                                                           \n",
       "2014-12-28 17:23:00  RI-2014-50432  2014-12-28     17:23      Zone X4   \n",
       "2011-04-09 03:02:00  RI-2011-10619  2011-04-09     03:02      Zone X4   \n",
       "2014-06-18 23:13:00  RI-2014-25025  2014-06-18     23:13      Zone K2   \n",
       "2010-05-30 07:38:00  RI-2010-18816  2010-05-30     07:38      Zone K1   \n",
       "2009-05-22 22:34:00  RI-2009-19123  2009-05-22     22:34      Zone K1   \n",
       "\n",
       "                    police_department driver_gender  driver_age_raw  \\\n",
       "stop_datetime                                                         \n",
       "2014-12-28 17:23:00               500             F          1967.0   \n",
       "2011-04-09 03:02:00               500             F          1972.0   \n",
       "2014-06-18 23:13:00               900             F          1993.0   \n",
       "2010-05-30 07:38:00               600             F          1985.0   \n",
       "2009-05-22 22:34:00               600             F          1981.0   \n",
       "\n",
       "                     driver_age driver_race_raw driver_race  ...  \\\n",
       "stop_datetime                                                ...   \n",
       "2014-12-28 17:23:00        47.0               W       White  ...   \n",
       "2011-04-09 03:02:00        39.0               W       White  ...   \n",
       "2014-06-18 23:13:00        21.0               W       White  ...   \n",
       "2010-05-30 07:38:00        25.0               W       White  ...   \n",
       "2009-05-22 22:34:00        28.0               W       White  ...   \n",
       "\n",
       "                    search_type_raw search_type contraband_found  \\\n",
       "stop_datetime                                                      \n",
       "2014-12-28 17:23:00             NaN         NaN            False   \n",
       "2011-04-09 03:02:00             NaN         NaN            False   \n",
       "2014-06-18 23:13:00             NaN         NaN            False   \n",
       "2010-05-30 07:38:00             NaN         NaN            False   \n",
       "2009-05-22 22:34:00             NaN         NaN            False   \n",
       "\n",
       "                      stop_outcome is_arrested  stop_duration out_of_state  \\\n",
       "stop_datetime                                                                \n",
       "2014-12-28 17:23:00       Citation       False       0-15 Min         True   \n",
       "2011-04-09 03:02:00  Arrest Driver        True        30+ Min        False   \n",
       "2014-06-18 23:13:00       Citation       False       0-15 Min         True   \n",
       "2010-05-30 07:38:00       Citation       False       0-15 Min        False   \n",
       "2009-05-22 22:34:00       Citation       False       0-15 Min         True   \n",
       "\n",
       "                     drugs_related_stop district       stop_datetime  \n",
       "stop_datetime                                                         \n",
       "2014-12-28 17:23:00               False  Zone X4 2014-12-28 17:23:00  \n",
       "2011-04-09 03:02:00               False  Zone X4 2011-04-09 03:02:00  \n",
       "2014-06-18 23:13:00               False  Zone K2 2014-06-18 23:13:00  \n",
       "2010-05-30 07:38:00               False  Zone K1 2010-05-30 07:38:00  \n",
       "2009-05-22 22:34:00               False  Zone K1 2009-05-22 22:34:00  \n",
       "\n",
       "[5 rows x 23 columns]"
      ]
     },
     "execution_count": 26,
     "metadata": {},
     "output_type": "execute_result"
    }
   ],
   "source": [
    "df_female = df[df[\"driver_gender\"] == \"F\"]\n",
    "df_female.head()"
   ]
  },
  {
   "cell_type": "code",
   "execution_count": 27,
   "metadata": {},
   "outputs": [
    {
     "data": {
      "text/plain": [
       "Speeding               8506\n",
       "Moving violation       1704\n",
       "Equipment              1311\n",
       "Registration/plates     542\n",
       "Other                   398\n",
       "Seat belt               360\n",
       "Name: violation, dtype: int64"
      ]
     },
     "execution_count": 27,
     "metadata": {},
     "output_type": "execute_result"
    }
   ],
   "source": [
    "df_female.violation.value_counts() # committed crimes by females"
   ]
  },
  {
   "cell_type": "code",
   "execution_count": 28,
   "metadata": {},
   "outputs": [
    {
     "data": {
      "text/plain": [
       "Speeding               0.663443\n",
       "Moving violation       0.132907\n",
       "Equipment              0.102254\n",
       "Registration/plates    0.042274\n",
       "Other                  0.031043\n",
       "Seat belt              0.028079\n",
       "Name: violation, dtype: float64"
      ]
     },
     "execution_count": 28,
     "metadata": {},
     "output_type": "execute_result"
    }
   ],
   "source": [
    "df_female.violation.value_counts(normalize=True) # to Express the counts as proportions we use normalize"
   ]
  },
  {
   "cell_type": "code",
   "execution_count": 29,
   "metadata": {},
   "outputs": [
    {
     "data": {
      "text/plain": [
       "Speeding               17958\n",
       "Moving violation        7067\n",
       "Equipment               4630\n",
       "Other                   1996\n",
       "Registration/plates     1356\n",
       "Seat belt               1230\n",
       "Name: violation, dtype: int64"
      ]
     },
     "execution_count": 29,
     "metadata": {},
     "output_type": "execute_result"
    }
   ],
   "source": [
    "df_male.violation.value_counts() # committed crimes by male"
   ]
  },
  {
   "cell_type": "code",
   "execution_count": 30,
   "metadata": {},
   "outputs": [
    {
     "data": {
      "text/plain": [
       "Speeding               0.524520\n",
       "Moving violation       0.206414\n",
       "Equipment              0.135234\n",
       "Other                  0.058300\n",
       "Registration/plates    0.039606\n",
       "Seat belt              0.035926\n",
       "Name: violation, dtype: float64"
      ]
     },
     "execution_count": 30,
     "metadata": {},
     "output_type": "execute_result"
    }
   ],
   "source": [
    "df_male.violation.value_counts(normalize=True) # violation proportions for male"
   ]
  },
  {
   "cell_type": "code",
   "execution_count": 31,
   "metadata": {},
   "outputs": [],
   "source": [
    "female_speeding = df_female[df_female[\"violation\"]== \"Speeding\" ]          #Comparing speeding outcomes by gender¶"
   ]
  },
  {
   "cell_type": "code",
   "execution_count": 32,
   "metadata": {},
   "outputs": [],
   "source": [
    "male_speeding = df_male[df_male.violation == \"Speeding\"]"
   ]
  },
  {
   "cell_type": "code",
   "execution_count": 33,
   "metadata": {},
   "outputs": [
    {
     "data": {
      "text/html": [
       "<div>\n",
       "<style scoped>\n",
       "    .dataframe tbody tr th:only-of-type {\n",
       "        vertical-align: middle;\n",
       "    }\n",
       "\n",
       "    .dataframe tbody tr th {\n",
       "        vertical-align: top;\n",
       "    }\n",
       "\n",
       "    .dataframe thead th {\n",
       "        text-align: right;\n",
       "    }\n",
       "</style>\n",
       "<table border=\"1\" class=\"dataframe\">\n",
       "  <thead>\n",
       "    <tr style=\"text-align: right;\">\n",
       "      <th></th>\n",
       "      <th>id</th>\n",
       "      <th>stop_date</th>\n",
       "      <th>stop_time</th>\n",
       "      <th>location_raw</th>\n",
       "      <th>police_department</th>\n",
       "      <th>driver_gender</th>\n",
       "      <th>driver_age_raw</th>\n",
       "      <th>driver_age</th>\n",
       "      <th>driver_race_raw</th>\n",
       "      <th>driver_race</th>\n",
       "      <th>...</th>\n",
       "      <th>search_type_raw</th>\n",
       "      <th>search_type</th>\n",
       "      <th>contraband_found</th>\n",
       "      <th>stop_outcome</th>\n",
       "      <th>is_arrested</th>\n",
       "      <th>stop_duration</th>\n",
       "      <th>out_of_state</th>\n",
       "      <th>drugs_related_stop</th>\n",
       "      <th>district</th>\n",
       "      <th>stop_datetime</th>\n",
       "    </tr>\n",
       "    <tr>\n",
       "      <th>stop_datetime</th>\n",
       "      <th></th>\n",
       "      <th></th>\n",
       "      <th></th>\n",
       "      <th></th>\n",
       "      <th></th>\n",
       "      <th></th>\n",
       "      <th></th>\n",
       "      <th></th>\n",
       "      <th></th>\n",
       "      <th></th>\n",
       "      <th></th>\n",
       "      <th></th>\n",
       "      <th></th>\n",
       "      <th></th>\n",
       "      <th></th>\n",
       "      <th></th>\n",
       "      <th></th>\n",
       "      <th></th>\n",
       "      <th></th>\n",
       "      <th></th>\n",
       "      <th></th>\n",
       "    </tr>\n",
       "  </thead>\n",
       "  <tbody>\n",
       "    <tr>\n",
       "      <th>2008-02-07 20:20:00</th>\n",
       "      <td>RI-2008-05302</td>\n",
       "      <td>2008-02-07</td>\n",
       "      <td>20:20</td>\n",
       "      <td>Zone K3</td>\n",
       "      <td>300</td>\n",
       "      <td>M</td>\n",
       "      <td>1967.0</td>\n",
       "      <td>41.0</td>\n",
       "      <td>W</td>\n",
       "      <td>White</td>\n",
       "      <td>...</td>\n",
       "      <td>NaN</td>\n",
       "      <td>NaN</td>\n",
       "      <td>False</td>\n",
       "      <td>Citation</td>\n",
       "      <td>False</td>\n",
       "      <td>0-15 Min</td>\n",
       "      <td>False</td>\n",
       "      <td>False</td>\n",
       "      <td>Zone K3</td>\n",
       "      <td>2008-02-07 20:20:00</td>\n",
       "    </tr>\n",
       "    <tr>\n",
       "      <th>2008-01-26 19:59:00</th>\n",
       "      <td>RI-2008-03611</td>\n",
       "      <td>2008-01-26</td>\n",
       "      <td>19:59</td>\n",
       "      <td>Zone K3</td>\n",
       "      <td>300</td>\n",
       "      <td>M</td>\n",
       "      <td>1986.0</td>\n",
       "      <td>22.0</td>\n",
       "      <td>W</td>\n",
       "      <td>White</td>\n",
       "      <td>...</td>\n",
       "      <td>NaN</td>\n",
       "      <td>NaN</td>\n",
       "      <td>False</td>\n",
       "      <td>Citation</td>\n",
       "      <td>False</td>\n",
       "      <td>0-15 Min</td>\n",
       "      <td>True</td>\n",
       "      <td>False</td>\n",
       "      <td>Zone K3</td>\n",
       "      <td>2008-01-26 19:59:00</td>\n",
       "    </tr>\n",
       "    <tr>\n",
       "      <th>2009-02-08 06:56:00</th>\n",
       "      <td>RI-2009-05097</td>\n",
       "      <td>2009-02-08</td>\n",
       "      <td>06:56</td>\n",
       "      <td>Zone K3</td>\n",
       "      <td>300</td>\n",
       "      <td>M</td>\n",
       "      <td>1983.0</td>\n",
       "      <td>26.0</td>\n",
       "      <td>W</td>\n",
       "      <td>White</td>\n",
       "      <td>...</td>\n",
       "      <td>NaN</td>\n",
       "      <td>NaN</td>\n",
       "      <td>False</td>\n",
       "      <td>Citation</td>\n",
       "      <td>False</td>\n",
       "      <td>0-15 Min</td>\n",
       "      <td>True</td>\n",
       "      <td>False</td>\n",
       "      <td>Zone K3</td>\n",
       "      <td>2009-02-08 06:56:00</td>\n",
       "    </tr>\n",
       "    <tr>\n",
       "      <th>2006-04-02 03:40:00</th>\n",
       "      <td>RI-2006-14999</td>\n",
       "      <td>2006-04-02</td>\n",
       "      <td>03:40</td>\n",
       "      <td>Zone K2</td>\n",
       "      <td>900</td>\n",
       "      <td>M</td>\n",
       "      <td>1976.0</td>\n",
       "      <td>30.0</td>\n",
       "      <td>W</td>\n",
       "      <td>White</td>\n",
       "      <td>...</td>\n",
       "      <td>NaN</td>\n",
       "      <td>NaN</td>\n",
       "      <td>False</td>\n",
       "      <td>Citation</td>\n",
       "      <td>False</td>\n",
       "      <td>0-15 Min</td>\n",
       "      <td>True</td>\n",
       "      <td>False</td>\n",
       "      <td>Zone K2</td>\n",
       "      <td>2006-04-02 03:40:00</td>\n",
       "    </tr>\n",
       "    <tr>\n",
       "      <th>2007-07-03 15:00:00</th>\n",
       "      <td>RI-2007-28928</td>\n",
       "      <td>2007-07-03</td>\n",
       "      <td>15:00</td>\n",
       "      <td>Zone X3</td>\n",
       "      <td>200</td>\n",
       "      <td>M</td>\n",
       "      <td>1977.0</td>\n",
       "      <td>30.0</td>\n",
       "      <td>W</td>\n",
       "      <td>White</td>\n",
       "      <td>...</td>\n",
       "      <td>NaN</td>\n",
       "      <td>NaN</td>\n",
       "      <td>False</td>\n",
       "      <td>Citation</td>\n",
       "      <td>False</td>\n",
       "      <td>0-15 Min</td>\n",
       "      <td>True</td>\n",
       "      <td>False</td>\n",
       "      <td>Zone X3</td>\n",
       "      <td>2007-07-03 15:00:00</td>\n",
       "    </tr>\n",
       "  </tbody>\n",
       "</table>\n",
       "<p>5 rows × 23 columns</p>\n",
       "</div>"
      ],
      "text/plain": [
       "                                id   stop_date stop_time location_raw  \\\n",
       "stop_datetime                                                           \n",
       "2008-02-07 20:20:00  RI-2008-05302  2008-02-07     20:20      Zone K3   \n",
       "2008-01-26 19:59:00  RI-2008-03611  2008-01-26     19:59      Zone K3   \n",
       "2009-02-08 06:56:00  RI-2009-05097  2009-02-08     06:56      Zone K3   \n",
       "2006-04-02 03:40:00  RI-2006-14999  2006-04-02     03:40      Zone K2   \n",
       "2007-07-03 15:00:00  RI-2007-28928  2007-07-03     15:00      Zone X3   \n",
       "\n",
       "                    police_department driver_gender  driver_age_raw  \\\n",
       "stop_datetime                                                         \n",
       "2008-02-07 20:20:00               300             M          1967.0   \n",
       "2008-01-26 19:59:00               300             M          1986.0   \n",
       "2009-02-08 06:56:00               300             M          1983.0   \n",
       "2006-04-02 03:40:00               900             M          1976.0   \n",
       "2007-07-03 15:00:00               200             M          1977.0   \n",
       "\n",
       "                     driver_age driver_race_raw driver_race  ...  \\\n",
       "stop_datetime                                                ...   \n",
       "2008-02-07 20:20:00        41.0               W       White  ...   \n",
       "2008-01-26 19:59:00        22.0               W       White  ...   \n",
       "2009-02-08 06:56:00        26.0               W       White  ...   \n",
       "2006-04-02 03:40:00        30.0               W       White  ...   \n",
       "2007-07-03 15:00:00        30.0               W       White  ...   \n",
       "\n",
       "                    search_type_raw search_type contraband_found stop_outcome  \\\n",
       "stop_datetime                                                                   \n",
       "2008-02-07 20:20:00             NaN         NaN            False     Citation   \n",
       "2008-01-26 19:59:00             NaN         NaN            False     Citation   \n",
       "2009-02-08 06:56:00             NaN         NaN            False     Citation   \n",
       "2006-04-02 03:40:00             NaN         NaN            False     Citation   \n",
       "2007-07-03 15:00:00             NaN         NaN            False     Citation   \n",
       "\n",
       "                    is_arrested  stop_duration out_of_state  \\\n",
       "stop_datetime                                                 \n",
       "2008-02-07 20:20:00       False       0-15 Min        False   \n",
       "2008-01-26 19:59:00       False       0-15 Min         True   \n",
       "2009-02-08 06:56:00       False       0-15 Min         True   \n",
       "2006-04-02 03:40:00       False       0-15 Min         True   \n",
       "2007-07-03 15:00:00       False       0-15 Min         True   \n",
       "\n",
       "                     drugs_related_stop district       stop_datetime  \n",
       "stop_datetime                                                         \n",
       "2008-02-07 20:20:00               False  Zone K3 2008-02-07 20:20:00  \n",
       "2008-01-26 19:59:00               False  Zone K3 2008-01-26 19:59:00  \n",
       "2009-02-08 06:56:00               False  Zone K3 2009-02-08 06:56:00  \n",
       "2006-04-02 03:40:00               False  Zone K2 2006-04-02 03:40:00  \n",
       "2007-07-03 15:00:00               False  Zone X3 2007-07-03 15:00:00  \n",
       "\n",
       "[5 rows x 23 columns]"
      ]
     },
     "execution_count": 33,
     "metadata": {},
     "output_type": "execute_result"
    }
   ],
   "source": [
    "male_speeding.head()"
   ]
  },
  {
   "cell_type": "code",
   "execution_count": 34,
   "metadata": {},
   "outputs": [
    {
     "data": {
      "text/html": [
       "<div>\n",
       "<style scoped>\n",
       "    .dataframe tbody tr th:only-of-type {\n",
       "        vertical-align: middle;\n",
       "    }\n",
       "\n",
       "    .dataframe tbody tr th {\n",
       "        vertical-align: top;\n",
       "    }\n",
       "\n",
       "    .dataframe thead th {\n",
       "        text-align: right;\n",
       "    }\n",
       "</style>\n",
       "<table border=\"1\" class=\"dataframe\">\n",
       "  <thead>\n",
       "    <tr style=\"text-align: right;\">\n",
       "      <th></th>\n",
       "      <th>id</th>\n",
       "      <th>stop_date</th>\n",
       "      <th>stop_time</th>\n",
       "      <th>location_raw</th>\n",
       "      <th>police_department</th>\n",
       "      <th>driver_gender</th>\n",
       "      <th>driver_age_raw</th>\n",
       "      <th>driver_age</th>\n",
       "      <th>driver_race_raw</th>\n",
       "      <th>driver_race</th>\n",
       "      <th>...</th>\n",
       "      <th>search_type_raw</th>\n",
       "      <th>search_type</th>\n",
       "      <th>contraband_found</th>\n",
       "      <th>stop_outcome</th>\n",
       "      <th>is_arrested</th>\n",
       "      <th>stop_duration</th>\n",
       "      <th>out_of_state</th>\n",
       "      <th>drugs_related_stop</th>\n",
       "      <th>district</th>\n",
       "      <th>stop_datetime</th>\n",
       "    </tr>\n",
       "    <tr>\n",
       "      <th>stop_datetime</th>\n",
       "      <th></th>\n",
       "      <th></th>\n",
       "      <th></th>\n",
       "      <th></th>\n",
       "      <th></th>\n",
       "      <th></th>\n",
       "      <th></th>\n",
       "      <th></th>\n",
       "      <th></th>\n",
       "      <th></th>\n",
       "      <th></th>\n",
       "      <th></th>\n",
       "      <th></th>\n",
       "      <th></th>\n",
       "      <th></th>\n",
       "      <th></th>\n",
       "      <th></th>\n",
       "      <th></th>\n",
       "      <th></th>\n",
       "      <th></th>\n",
       "      <th></th>\n",
       "    </tr>\n",
       "  </thead>\n",
       "  <tbody>\n",
       "    <tr>\n",
       "      <th>2014-12-28 17:23:00</th>\n",
       "      <td>RI-2014-50432</td>\n",
       "      <td>2014-12-28</td>\n",
       "      <td>17:23</td>\n",
       "      <td>Zone X4</td>\n",
       "      <td>500</td>\n",
       "      <td>F</td>\n",
       "      <td>1967.0</td>\n",
       "      <td>47.0</td>\n",
       "      <td>W</td>\n",
       "      <td>White</td>\n",
       "      <td>...</td>\n",
       "      <td>NaN</td>\n",
       "      <td>NaN</td>\n",
       "      <td>False</td>\n",
       "      <td>Citation</td>\n",
       "      <td>False</td>\n",
       "      <td>0-15 Min</td>\n",
       "      <td>True</td>\n",
       "      <td>False</td>\n",
       "      <td>Zone X4</td>\n",
       "      <td>2014-12-28 17:23:00</td>\n",
       "    </tr>\n",
       "    <tr>\n",
       "      <th>2014-06-18 23:13:00</th>\n",
       "      <td>RI-2014-25025</td>\n",
       "      <td>2014-06-18</td>\n",
       "      <td>23:13</td>\n",
       "      <td>Zone K2</td>\n",
       "      <td>900</td>\n",
       "      <td>F</td>\n",
       "      <td>1993.0</td>\n",
       "      <td>21.0</td>\n",
       "      <td>W</td>\n",
       "      <td>White</td>\n",
       "      <td>...</td>\n",
       "      <td>NaN</td>\n",
       "      <td>NaN</td>\n",
       "      <td>False</td>\n",
       "      <td>Citation</td>\n",
       "      <td>False</td>\n",
       "      <td>0-15 Min</td>\n",
       "      <td>True</td>\n",
       "      <td>False</td>\n",
       "      <td>Zone K2</td>\n",
       "      <td>2014-06-18 23:13:00</td>\n",
       "    </tr>\n",
       "    <tr>\n",
       "      <th>2010-05-30 07:38:00</th>\n",
       "      <td>RI-2010-18816</td>\n",
       "      <td>2010-05-30</td>\n",
       "      <td>07:38</td>\n",
       "      <td>Zone K1</td>\n",
       "      <td>600</td>\n",
       "      <td>F</td>\n",
       "      <td>1985.0</td>\n",
       "      <td>25.0</td>\n",
       "      <td>W</td>\n",
       "      <td>White</td>\n",
       "      <td>...</td>\n",
       "      <td>NaN</td>\n",
       "      <td>NaN</td>\n",
       "      <td>False</td>\n",
       "      <td>Citation</td>\n",
       "      <td>False</td>\n",
       "      <td>0-15 Min</td>\n",
       "      <td>False</td>\n",
       "      <td>False</td>\n",
       "      <td>Zone K1</td>\n",
       "      <td>2010-05-30 07:38:00</td>\n",
       "    </tr>\n",
       "    <tr>\n",
       "      <th>2009-05-22 22:34:00</th>\n",
       "      <td>RI-2009-19123</td>\n",
       "      <td>2009-05-22</td>\n",
       "      <td>22:34</td>\n",
       "      <td>Zone K1</td>\n",
       "      <td>600</td>\n",
       "      <td>F</td>\n",
       "      <td>1981.0</td>\n",
       "      <td>28.0</td>\n",
       "      <td>W</td>\n",
       "      <td>White</td>\n",
       "      <td>...</td>\n",
       "      <td>NaN</td>\n",
       "      <td>NaN</td>\n",
       "      <td>False</td>\n",
       "      <td>Citation</td>\n",
       "      <td>False</td>\n",
       "      <td>0-15 Min</td>\n",
       "      <td>True</td>\n",
       "      <td>False</td>\n",
       "      <td>Zone K1</td>\n",
       "      <td>2009-05-22 22:34:00</td>\n",
       "    </tr>\n",
       "    <tr>\n",
       "      <th>2007-01-04 01:25:00</th>\n",
       "      <td>RI-2007-00419</td>\n",
       "      <td>2007-01-04</td>\n",
       "      <td>01:25</td>\n",
       "      <td>Zone K1</td>\n",
       "      <td>600</td>\n",
       "      <td>F</td>\n",
       "      <td>1986.0</td>\n",
       "      <td>21.0</td>\n",
       "      <td>W</td>\n",
       "      <td>White</td>\n",
       "      <td>...</td>\n",
       "      <td>NaN</td>\n",
       "      <td>NaN</td>\n",
       "      <td>False</td>\n",
       "      <td>Citation</td>\n",
       "      <td>False</td>\n",
       "      <td>0-15 Min</td>\n",
       "      <td>True</td>\n",
       "      <td>False</td>\n",
       "      <td>Zone K1</td>\n",
       "      <td>2007-01-04 01:25:00</td>\n",
       "    </tr>\n",
       "  </tbody>\n",
       "</table>\n",
       "<p>5 rows × 23 columns</p>\n",
       "</div>"
      ],
      "text/plain": [
       "                                id   stop_date stop_time location_raw  \\\n",
       "stop_datetime                                                           \n",
       "2014-12-28 17:23:00  RI-2014-50432  2014-12-28     17:23      Zone X4   \n",
       "2014-06-18 23:13:00  RI-2014-25025  2014-06-18     23:13      Zone K2   \n",
       "2010-05-30 07:38:00  RI-2010-18816  2010-05-30     07:38      Zone K1   \n",
       "2009-05-22 22:34:00  RI-2009-19123  2009-05-22     22:34      Zone K1   \n",
       "2007-01-04 01:25:00  RI-2007-00419  2007-01-04     01:25      Zone K1   \n",
       "\n",
       "                    police_department driver_gender  driver_age_raw  \\\n",
       "stop_datetime                                                         \n",
       "2014-12-28 17:23:00               500             F          1967.0   \n",
       "2014-06-18 23:13:00               900             F          1993.0   \n",
       "2010-05-30 07:38:00               600             F          1985.0   \n",
       "2009-05-22 22:34:00               600             F          1981.0   \n",
       "2007-01-04 01:25:00               600             F          1986.0   \n",
       "\n",
       "                     driver_age driver_race_raw driver_race  ...  \\\n",
       "stop_datetime                                                ...   \n",
       "2014-12-28 17:23:00        47.0               W       White  ...   \n",
       "2014-06-18 23:13:00        21.0               W       White  ...   \n",
       "2010-05-30 07:38:00        25.0               W       White  ...   \n",
       "2009-05-22 22:34:00        28.0               W       White  ...   \n",
       "2007-01-04 01:25:00        21.0               W       White  ...   \n",
       "\n",
       "                    search_type_raw search_type contraband_found stop_outcome  \\\n",
       "stop_datetime                                                                   \n",
       "2014-12-28 17:23:00             NaN         NaN            False     Citation   \n",
       "2014-06-18 23:13:00             NaN         NaN            False     Citation   \n",
       "2010-05-30 07:38:00             NaN         NaN            False     Citation   \n",
       "2009-05-22 22:34:00             NaN         NaN            False     Citation   \n",
       "2007-01-04 01:25:00             NaN         NaN            False     Citation   \n",
       "\n",
       "                    is_arrested  stop_duration out_of_state  \\\n",
       "stop_datetime                                                 \n",
       "2014-12-28 17:23:00       False       0-15 Min         True   \n",
       "2014-06-18 23:13:00       False       0-15 Min         True   \n",
       "2010-05-30 07:38:00       False       0-15 Min        False   \n",
       "2009-05-22 22:34:00       False       0-15 Min         True   \n",
       "2007-01-04 01:25:00       False       0-15 Min         True   \n",
       "\n",
       "                     drugs_related_stop district       stop_datetime  \n",
       "stop_datetime                                                         \n",
       "2014-12-28 17:23:00               False  Zone X4 2014-12-28 17:23:00  \n",
       "2014-06-18 23:13:00               False  Zone K2 2014-06-18 23:13:00  \n",
       "2010-05-30 07:38:00               False  Zone K1 2010-05-30 07:38:00  \n",
       "2009-05-22 22:34:00               False  Zone K1 2009-05-22 22:34:00  \n",
       "2007-01-04 01:25:00               False  Zone K1 2007-01-04 01:25:00  \n",
       "\n",
       "[5 rows x 23 columns]"
      ]
     },
     "execution_count": 34,
     "metadata": {},
     "output_type": "execute_result"
    }
   ],
   "source": [
    "female_speeding.head()"
   ]
  },
  {
   "cell_type": "code",
   "execution_count": 35,
   "metadata": {},
   "outputs": [
    {
     "data": {
      "text/plain": [
       "Index(['id', 'stop_date', 'stop_time', 'location_raw', 'police_department',\n",
       "       'driver_gender', 'driver_age_raw', 'driver_age', 'driver_race_raw',\n",
       "       'driver_race', 'violation_raw', 'violation', 'search_conducted',\n",
       "       'search_type_raw', 'search_type', 'contraband_found', 'stop_outcome',\n",
       "       'is_arrested', 'stop_duration', 'out_of_state', 'drugs_related_stop',\n",
       "       'district', 'stop_datetime'],\n",
       "      dtype='object')"
      ]
     },
     "execution_count": 35,
     "metadata": {},
     "output_type": "execute_result"
    }
   ],
   "source": [
    "df_female.columns"
   ]
  },
  {
   "cell_type": "code",
   "execution_count": 36,
   "metadata": {},
   "outputs": [
    {
     "data": {
      "text/plain": [
       "Citation            8103\n",
       "Warning              340\n",
       "Arrest Driver         45\n",
       "N/D                    8\n",
       "Arrest Passenger       7\n",
       "No Action              3\n",
       "Name: stop_outcome, dtype: int64"
      ]
     },
     "execution_count": 36,
     "metadata": {},
     "output_type": "execute_result"
    }
   ],
   "source": [
    "female_speeding.stop_outcome.value_counts() #penalties for speeding male drivers"
   ]
  },
  {
   "cell_type": "code",
   "execution_count": 37,
   "metadata": {},
   "outputs": [
    {
     "data": {
      "text/plain": [
       "0.03385677692393362"
      ]
     },
     "execution_count": 37,
     "metadata": {},
     "output_type": "execute_result"
    }
   ],
   "source": [
    "warning_prp_male = male_speeding.stop_outcome.value_counts(normalize=True)[1]\n",
    "warning_prp_male # warning proportion for male drivers"
   ]
  },
  {
   "cell_type": "code",
   "execution_count": 38,
   "metadata": {},
   "outputs": [
    {
     "data": {
      "text/plain": [
       "0.03997178462261933"
      ]
     },
     "execution_count": 38,
     "metadata": {},
     "output_type": "execute_result"
    }
   ],
   "source": [
    "warning_prp_fmale = female_speeding.stop_outcome.value_counts(normalize=True)[1]\n",
    "warning_prp_fmale"
   ]
  },
  {
   "cell_type": "markdown",
   "metadata": {},
   "source": [
    "Calculating the search rate"
   ]
  },
  {
   "cell_type": "code",
   "execution_count": 39,
   "metadata": {},
   "outputs": [
    {
     "data": {
      "text/plain": [
       "dtype('O')"
      ]
     },
     "execution_count": 39,
     "metadata": {},
     "output_type": "execute_result"
    }
   ],
   "source": [
    "df[\"search_conducted\"].dtype"
   ]
  },
  {
   "cell_type": "code",
   "execution_count": 40,
   "metadata": {},
   "outputs": [],
   "source": [
    "df[\"search_conducted\"]=df.search_conducted.astype(\"bool\")"
   ]
  },
  {
   "cell_type": "code",
   "execution_count": 41,
   "metadata": {},
   "outputs": [
    {
     "data": {
      "text/plain": [
       "dtype('bool')"
      ]
     },
     "execution_count": 41,
     "metadata": {},
     "output_type": "execute_result"
    }
   ],
   "source": [
    "df[\"search_conducted\"].dtype"
   ]
  },
  {
   "cell_type": "code",
   "execution_count": 42,
   "metadata": {},
   "outputs": [],
   "source": [
    "search = df[[\"search_conducted\"]].sum() # only counts the true ones"
   ]
  },
  {
   "cell_type": "code",
   "execution_count": 43,
   "metadata": {},
   "outputs": [
    {
     "data": {
      "text/plain": [
       "False    0.961452\n",
       "True     0.038548\n",
       "Name: search_conducted, dtype: float64"
      ]
     },
     "execution_count": 43,
     "metadata": {},
     "output_type": "execute_result"
    }
   ],
   "source": [
    "df.search_conducted.value_counts(normalize=True) # Calculate the search rate by counting the values"
   ]
  },
  {
   "cell_type": "code",
   "execution_count": 44,
   "metadata": {},
   "outputs": [
    {
     "data": {
      "text/plain": [
       "0.03854817459305538"
      ]
     },
     "execution_count": 44,
     "metadata": {},
     "output_type": "execute_result"
    }
   ],
   "source": [
    "df.search_conducted.mean() # Calculate the search rate by taking the mean"
   ]
  },
  {
   "cell_type": "code",
   "execution_count": 45,
   "metadata": {},
   "outputs": [],
   "source": [
    "#df.loc[236912,['search_conducted', 'search_type_raw']]"
   ]
  },
  {
   "cell_type": "code",
   "execution_count": 46,
   "metadata": {},
   "outputs": [
    {
     "data": {
      "text/plain": [
       "Index(['id', 'stop_date', 'stop_time', 'location_raw', 'police_department',\n",
       "       'driver_gender', 'driver_age_raw', 'driver_age', 'driver_race_raw',\n",
       "       'driver_race', 'violation_raw', 'violation', 'search_conducted',\n",
       "       'search_type_raw', 'search_type', 'contraband_found', 'stop_outcome',\n",
       "       'is_arrested', 'stop_duration', 'out_of_state', 'drugs_related_stop',\n",
       "       'district', 'stop_datetime'],\n",
       "      dtype='object')"
      ]
     },
     "execution_count": 46,
     "metadata": {},
     "output_type": "execute_result"
    }
   ],
   "source": [
    "df.columns"
   ]
  },
  {
   "cell_type": "markdown",
   "metadata": {},
   "source": [
    "## Comparing search rates by gender"
   ]
  },
  {
   "cell_type": "code",
   "execution_count": 47,
   "metadata": {},
   "outputs": [
    {
     "data": {
      "text/plain": [
       "search_conducted    0.018485\n",
       "dtype: float64"
      ]
     },
     "execution_count": 47,
     "metadata": {},
     "output_type": "execute_result"
    }
   ],
   "source": [
    "df_female[[\"search_conducted\"]].mean()"
   ]
  },
  {
   "cell_type": "code",
   "execution_count": 48,
   "metadata": {},
   "outputs": [
    {
     "data": {
      "text/plain": [
       "False    0.953939\n",
       "True     0.046061\n",
       "Name: search_conducted, dtype: float64"
      ]
     },
     "execution_count": 48,
     "metadata": {},
     "output_type": "execute_result"
    }
   ],
   "source": [
    "df_male.search_conducted.value_counts(normalize=True)\n",
    "#Filter the DataFrame to only include male drivers, and then repeat the search rate calculation."
   ]
  },
  {
   "cell_type": "code",
   "execution_count": 49,
   "metadata": {},
   "outputs": [
    {
     "data": {
      "text/plain": [
       "search_conducted    0.046061\n",
       "dtype: float64"
      ]
     },
     "execution_count": 49,
     "metadata": {},
     "output_type": "execute_result"
    }
   ],
   "source": [
    "df_male[[\"search_conducted\"]].mean()"
   ]
  },
  {
   "cell_type": "code",
   "execution_count": 50,
   "metadata": {},
   "outputs": [
    {
     "data": {
      "text/html": [
       "<div>\n",
       "<style scoped>\n",
       "    .dataframe tbody tr th:only-of-type {\n",
       "        vertical-align: middle;\n",
       "    }\n",
       "\n",
       "    .dataframe tbody tr th {\n",
       "        vertical-align: top;\n",
       "    }\n",
       "\n",
       "    .dataframe thead th {\n",
       "        text-align: right;\n",
       "    }\n",
       "</style>\n",
       "<table border=\"1\" class=\"dataframe\">\n",
       "  <thead>\n",
       "    <tr style=\"text-align: right;\">\n",
       "      <th></th>\n",
       "      <th>search_conducted</th>\n",
       "    </tr>\n",
       "    <tr>\n",
       "      <th>driver_gender</th>\n",
       "      <th></th>\n",
       "    </tr>\n",
       "  </thead>\n",
       "  <tbody>\n",
       "    <tr>\n",
       "      <th>F</th>\n",
       "      <td>0.018485</td>\n",
       "    </tr>\n",
       "    <tr>\n",
       "      <th>M</th>\n",
       "      <td>0.046061</td>\n",
       "    </tr>\n",
       "  </tbody>\n",
       "</table>\n",
       "</div>"
      ],
      "text/plain": [
       "               search_conducted\n",
       "driver_gender                  \n",
       "F                      0.018485\n",
       "M                      0.046061"
      ]
     },
     "execution_count": 50,
     "metadata": {},
     "output_type": "execute_result"
    }
   ],
   "source": [
    "df[[\"search_conducted\",\"driver_gender\"]].groupby(\"driver_gender\").mean() # proportion of search for each gender\n",
    "#Group by driver gender to calculate the search rate for both groups simultaneously. "
   ]
  },
  {
   "cell_type": "markdown",
   "metadata": {},
   "source": [
    "## Adding a second factor to the analysis"
   ]
  },
  {
   "cell_type": "code",
   "execution_count": 51,
   "metadata": {},
   "outputs": [
    {
     "data": {
      "text/plain": [
       "driver_gender  violation          \n",
       "F              Equipment              0.034325\n",
       "               Moving violation       0.041080\n",
       "               Other                  0.045226\n",
       "               Registration/plates    0.060886\n",
       "               Seat belt              0.008333\n",
       "               Speeding               0.007994\n",
       "M              Equipment              0.075594\n",
       "               Moving violation       0.061129\n",
       "               Other                  0.046092\n",
       "               Registration/plates    0.122419\n",
       "               Seat belt              0.030894\n",
       "               Speeding               0.027787\n",
       "Name: search_conducted, dtype: float64"
      ]
     },
     "execution_count": 51,
     "metadata": {},
     "output_type": "execute_result"
    }
   ],
   "source": [
    "df.groupby([\"driver_gender\",\"violation\"] ).search_conducted.mean()"
   ]
  },
  {
   "cell_type": "code",
   "execution_count": 52,
   "metadata": {},
   "outputs": [
    {
     "data": {
      "text/plain": [
       "Index(['id', 'stop_date', 'stop_time', 'location_raw', 'police_department',\n",
       "       'driver_gender', 'driver_age_raw', 'driver_age', 'driver_race_raw',\n",
       "       'driver_race', 'violation_raw', 'violation', 'search_conducted',\n",
       "       'search_type_raw', 'search_type', 'contraband_found', 'stop_outcome',\n",
       "       'is_arrested', 'stop_duration', 'out_of_state', 'drugs_related_stop',\n",
       "       'district', 'stop_datetime'],\n",
       "      dtype='object')"
      ]
     },
     "execution_count": 52,
     "metadata": {},
     "output_type": "execute_result"
    }
   ],
   "source": [
    "df.columns"
   ]
  },
  {
   "cell_type": "code",
   "execution_count": 53,
   "metadata": {},
   "outputs": [
    {
     "data": {
      "text/plain": [
       "violation            driver_gender\n",
       "Equipment            F                0.034325\n",
       "                     M                0.075594\n",
       "Moving violation     F                0.041080\n",
       "                     M                0.061129\n",
       "Other                F                0.045226\n",
       "                     M                0.046092\n",
       "Registration/plates  F                0.060886\n",
       "                     M                0.122419\n",
       "Seat belt            F                0.008333\n",
       "                     M                0.030894\n",
       "Speeding             F                0.007994\n",
       "                     M                0.027787\n",
       "Name: search_conducted, dtype: float64"
      ]
     },
     "execution_count": 53,
     "metadata": {},
     "output_type": "execute_result"
    }
   ],
   "source": [
    "df.groupby([\"violation\",\"driver_gender\"] ).search_conducted.mean()"
   ]
  },
  {
   "cell_type": "markdown",
   "metadata": {},
   "source": [
    "## Counting protective frisks"
   ]
  },
  {
   "cell_type": "code",
   "execution_count": 54,
   "metadata": {},
   "outputs": [
    {
     "data": {
      "text/html": [
       "<div>\n",
       "<style scoped>\n",
       "    .dataframe tbody tr th:only-of-type {\n",
       "        vertical-align: middle;\n",
       "    }\n",
       "\n",
       "    .dataframe tbody tr th {\n",
       "        vertical-align: top;\n",
       "    }\n",
       "\n",
       "    .dataframe thead th {\n",
       "        text-align: right;\n",
       "    }\n",
       "</style>\n",
       "<table border=\"1\" class=\"dataframe\">\n",
       "  <thead>\n",
       "    <tr style=\"text-align: right;\">\n",
       "      <th></th>\n",
       "      <th>search_type</th>\n",
       "      <th>driver_gender</th>\n",
       "    </tr>\n",
       "    <tr>\n",
       "      <th>stop_datetime</th>\n",
       "      <th></th>\n",
       "      <th></th>\n",
       "    </tr>\n",
       "  </thead>\n",
       "  <tbody>\n",
       "    <tr>\n",
       "      <th>2008-04-19 13:20:00</th>\n",
       "      <td>Probable Cause</td>\n",
       "      <td>M</td>\n",
       "    </tr>\n",
       "    <tr>\n",
       "      <th>2007-04-30 14:54:00</th>\n",
       "      <td>Protective Frisk</td>\n",
       "      <td>M</td>\n",
       "    </tr>\n",
       "    <tr>\n",
       "      <th>2013-09-23 09:35:00</th>\n",
       "      <td>Inventory</td>\n",
       "      <td>M</td>\n",
       "    </tr>\n",
       "    <tr>\n",
       "      <th>2014-01-28 09:02:00</th>\n",
       "      <td>Protective Frisk</td>\n",
       "      <td>M</td>\n",
       "    </tr>\n",
       "    <tr>\n",
       "      <th>2010-12-15 01:39:00</th>\n",
       "      <td>Incident to Arrest,Probable Cause</td>\n",
       "      <td>M</td>\n",
       "    </tr>\n",
       "    <tr>\n",
       "      <th>...</th>\n",
       "      <td>...</td>\n",
       "      <td>...</td>\n",
       "    </tr>\n",
       "    <tr>\n",
       "      <th>2006-07-23 20:40:00</th>\n",
       "      <td>Probable Cause</td>\n",
       "      <td>M</td>\n",
       "    </tr>\n",
       "    <tr>\n",
       "      <th>2007-04-26 20:50:00</th>\n",
       "      <td>Probable Cause</td>\n",
       "      <td>M</td>\n",
       "    </tr>\n",
       "    <tr>\n",
       "      <th>2015-01-28 15:37:00</th>\n",
       "      <td>Incident to Arrest</td>\n",
       "      <td>M</td>\n",
       "    </tr>\n",
       "    <tr>\n",
       "      <th>2010-06-02 19:03:00</th>\n",
       "      <td>Incident to Arrest</td>\n",
       "      <td>M</td>\n",
       "    </tr>\n",
       "    <tr>\n",
       "      <th>2010-09-15 03:37:00</th>\n",
       "      <td>Reasonable Suspicion</td>\n",
       "      <td>F</td>\n",
       "    </tr>\n",
       "  </tbody>\n",
       "</table>\n",
       "<p>1814 rows × 2 columns</p>\n",
       "</div>"
      ],
      "text/plain": [
       "                                           search_type driver_gender\n",
       "stop_datetime                                                       \n",
       "2008-04-19 13:20:00                     Probable Cause             M\n",
       "2007-04-30 14:54:00                   Protective Frisk             M\n",
       "2013-09-23 09:35:00                          Inventory             M\n",
       "2014-01-28 09:02:00                   Protective Frisk             M\n",
       "2010-12-15 01:39:00  Incident to Arrest,Probable Cause             M\n",
       "...                                                ...           ...\n",
       "2006-07-23 20:40:00                     Probable Cause             M\n",
       "2007-04-26 20:50:00                     Probable Cause             M\n",
       "2015-01-28 15:37:00                 Incident to Arrest             M\n",
       "2010-06-02 19:03:00                 Incident to Arrest             M\n",
       "2010-09-15 03:37:00               Reasonable Suspicion             F\n",
       "\n",
       "[1814 rows x 2 columns]"
      ]
     },
     "execution_count": 54,
     "metadata": {},
     "output_type": "execute_result"
    }
   ],
   "source": [
    "df[df.search_type.notnull()][[\"search_type\",\"driver_gender\"] ]"
   ]
  },
  {
   "cell_type": "code",
   "execution_count": 55,
   "metadata": {},
   "outputs": [
    {
     "data": {
      "text/plain": [
       "89"
      ]
     },
     "execution_count": 55,
     "metadata": {},
     "output_type": "execute_result"
    }
   ],
   "source": [
    "df[df.search_type == \"Protective Frisk\"][\"search_type\"].count() # 89 times protective frisk was only search type"
   ]
  },
  {
   "cell_type": "code",
   "execution_count": 56,
   "metadata": {},
   "outputs": [
    {
     "data": {
      "text/plain": [
       "stop_datetime\n",
       "2007-04-30 14:54:00    True\n",
       "2014-01-28 09:02:00    True\n",
       "2007-11-12 20:37:00    True\n",
       "2008-10-27 00:49:00    True\n",
       "2007-01-28 08:53:00    True\n",
       "                       ... \n",
       "2009-12-30 05:28:00    True\n",
       "2008-01-13 02:47:00    True\n",
       "2005-10-29 15:55:00    True\n",
       "2007-03-06 07:30:00    True\n",
       "2006-06-10 15:45:00    True\n",
       "Name: frisk, Length: 174, dtype: bool"
      ]
     },
     "execution_count": 56,
     "metadata": {},
     "output_type": "execute_result"
    }
   ],
   "source": [
    "frisk_bool = df[\"frisk\"] = df.search_type.str.contains(\"Protective Frisk\",na = False)\n",
    "df[df.frisk == True][\"frisk\"]"
   ]
  },
  {
   "cell_type": "code",
   "execution_count": 57,
   "metadata": {},
   "outputs": [
    {
     "data": {
      "text/plain": [
       "dtype('bool')"
      ]
     },
     "execution_count": 57,
     "metadata": {},
     "output_type": "execute_result"
    }
   ],
   "source": [
    "frisk_bool.dtype"
   ]
  },
  {
   "cell_type": "code",
   "execution_count": 58,
   "metadata": {},
   "outputs": [
    {
     "data": {
      "text/plain": [
       "174"
      ]
     },
     "execution_count": 58,
     "metadata": {},
     "output_type": "execute_result"
    }
   ],
   "source": [
    "frisk_sum = df[df.frisk == True][\"frisk\"].sum()\n",
    "frisk_sum"
   ]
  },
  {
   "cell_type": "code",
   "execution_count": 59,
   "metadata": {},
   "outputs": [],
   "source": [
    "import numpy as np"
   ]
  },
  {
   "cell_type": "markdown",
   "metadata": {},
   "source": [
    "## Comparing frisk rates by gender"
   ]
  },
  {
   "cell_type": "code",
   "execution_count": 60,
   "metadata": {},
   "outputs": [
    {
     "data": {
      "text/html": [
       "<div>\n",
       "<style scoped>\n",
       "    .dataframe tbody tr th:only-of-type {\n",
       "        vertical-align: middle;\n",
       "    }\n",
       "\n",
       "    .dataframe tbody tr th {\n",
       "        vertical-align: top;\n",
       "    }\n",
       "\n",
       "    .dataframe thead th {\n",
       "        text-align: right;\n",
       "    }\n",
       "</style>\n",
       "<table border=\"1\" class=\"dataframe\">\n",
       "  <thead>\n",
       "    <tr style=\"text-align: right;\">\n",
       "      <th></th>\n",
       "      <th>id</th>\n",
       "      <th>stop_date</th>\n",
       "      <th>stop_time</th>\n",
       "      <th>location_raw</th>\n",
       "      <th>police_department</th>\n",
       "      <th>driver_gender</th>\n",
       "      <th>driver_age_raw</th>\n",
       "      <th>driver_age</th>\n",
       "      <th>driver_race_raw</th>\n",
       "      <th>driver_race</th>\n",
       "      <th>...</th>\n",
       "      <th>search_type</th>\n",
       "      <th>contraband_found</th>\n",
       "      <th>stop_outcome</th>\n",
       "      <th>is_arrested</th>\n",
       "      <th>stop_duration</th>\n",
       "      <th>out_of_state</th>\n",
       "      <th>drugs_related_stop</th>\n",
       "      <th>district</th>\n",
       "      <th>stop_datetime</th>\n",
       "      <th>frisk</th>\n",
       "    </tr>\n",
       "    <tr>\n",
       "      <th>stop_datetime</th>\n",
       "      <th></th>\n",
       "      <th></th>\n",
       "      <th></th>\n",
       "      <th></th>\n",
       "      <th></th>\n",
       "      <th></th>\n",
       "      <th></th>\n",
       "      <th></th>\n",
       "      <th></th>\n",
       "      <th></th>\n",
       "      <th></th>\n",
       "      <th></th>\n",
       "      <th></th>\n",
       "      <th></th>\n",
       "      <th></th>\n",
       "      <th></th>\n",
       "      <th></th>\n",
       "      <th></th>\n",
       "      <th></th>\n",
       "      <th></th>\n",
       "      <th></th>\n",
       "    </tr>\n",
       "  </thead>\n",
       "  <tbody>\n",
       "    <tr>\n",
       "      <th>2008-04-19 13:20:00</th>\n",
       "      <td>RI-2008-14242</td>\n",
       "      <td>2008-04-19</td>\n",
       "      <td>13:20</td>\n",
       "      <td>Zone K3</td>\n",
       "      <td>300</td>\n",
       "      <td>M</td>\n",
       "      <td>1972.0</td>\n",
       "      <td>36.0</td>\n",
       "      <td>W</td>\n",
       "      <td>White</td>\n",
       "      <td>...</td>\n",
       "      <td>Probable Cause</td>\n",
       "      <td>True</td>\n",
       "      <td>Citation</td>\n",
       "      <td>False</td>\n",
       "      <td>16-30 Min</td>\n",
       "      <td>False</td>\n",
       "      <td>False</td>\n",
       "      <td>Zone K3</td>\n",
       "      <td>2008-04-19 13:20:00</td>\n",
       "      <td>False</td>\n",
       "    </tr>\n",
       "    <tr>\n",
       "      <th>2007-04-30 14:54:00</th>\n",
       "      <td>RI-2007-18973</td>\n",
       "      <td>2007-04-30</td>\n",
       "      <td>14:54</td>\n",
       "      <td>Zone X4</td>\n",
       "      <td>500</td>\n",
       "      <td>M</td>\n",
       "      <td>1946.0</td>\n",
       "      <td>61.0</td>\n",
       "      <td>W</td>\n",
       "      <td>White</td>\n",
       "      <td>...</td>\n",
       "      <td>Protective Frisk</td>\n",
       "      <td>False</td>\n",
       "      <td>No Action</td>\n",
       "      <td>False</td>\n",
       "      <td>16-30 Min</td>\n",
       "      <td>False</td>\n",
       "      <td>False</td>\n",
       "      <td>Zone X4</td>\n",
       "      <td>2007-04-30 14:54:00</td>\n",
       "      <td>True</td>\n",
       "    </tr>\n",
       "    <tr>\n",
       "      <th>2013-09-23 09:35:00</th>\n",
       "      <td>RI-2013-32900</td>\n",
       "      <td>2013-09-23</td>\n",
       "      <td>09:35</td>\n",
       "      <td>Zone X4</td>\n",
       "      <td>500</td>\n",
       "      <td>M</td>\n",
       "      <td>1986.0</td>\n",
       "      <td>27.0</td>\n",
       "      <td>B</td>\n",
       "      <td>Black</td>\n",
       "      <td>...</td>\n",
       "      <td>Inventory</td>\n",
       "      <td>False</td>\n",
       "      <td>Citation</td>\n",
       "      <td>False</td>\n",
       "      <td>0-15 Min</td>\n",
       "      <td>False</td>\n",
       "      <td>False</td>\n",
       "      <td>Zone X4</td>\n",
       "      <td>2013-09-23 09:35:00</td>\n",
       "      <td>False</td>\n",
       "    </tr>\n",
       "  </tbody>\n",
       "</table>\n",
       "<p>3 rows × 24 columns</p>\n",
       "</div>"
      ],
      "text/plain": [
       "                                id   stop_date stop_time location_raw  \\\n",
       "stop_datetime                                                           \n",
       "2008-04-19 13:20:00  RI-2008-14242  2008-04-19     13:20      Zone K3   \n",
       "2007-04-30 14:54:00  RI-2007-18973  2007-04-30     14:54      Zone X4   \n",
       "2013-09-23 09:35:00  RI-2013-32900  2013-09-23     09:35      Zone X4   \n",
       "\n",
       "                    police_department driver_gender  driver_age_raw  \\\n",
       "stop_datetime                                                         \n",
       "2008-04-19 13:20:00               300             M          1972.0   \n",
       "2007-04-30 14:54:00               500             M          1946.0   \n",
       "2013-09-23 09:35:00               500             M          1986.0   \n",
       "\n",
       "                     driver_age driver_race_raw driver_race  ...  \\\n",
       "stop_datetime                                                ...   \n",
       "2008-04-19 13:20:00        36.0               W       White  ...   \n",
       "2007-04-30 14:54:00        61.0               W       White  ...   \n",
       "2013-09-23 09:35:00        27.0               B       Black  ...   \n",
       "\n",
       "                          search_type contraband_found  stop_outcome  \\\n",
       "stop_datetime                                                          \n",
       "2008-04-19 13:20:00    Probable Cause             True      Citation   \n",
       "2007-04-30 14:54:00  Protective Frisk            False     No Action   \n",
       "2013-09-23 09:35:00         Inventory            False      Citation   \n",
       "\n",
       "                    is_arrested stop_duration  out_of_state  \\\n",
       "stop_datetime                                                 \n",
       "2008-04-19 13:20:00       False     16-30 Min         False   \n",
       "2007-04-30 14:54:00       False     16-30 Min         False   \n",
       "2013-09-23 09:35:00       False      0-15 Min         False   \n",
       "\n",
       "                    drugs_related_stop  district       stop_datetime  frisk  \n",
       "stop_datetime                                                                \n",
       "2008-04-19 13:20:00              False   Zone K3 2008-04-19 13:20:00  False  \n",
       "2007-04-30 14:54:00              False   Zone X4 2007-04-30 14:54:00   True  \n",
       "2013-09-23 09:35:00              False   Zone X4 2013-09-23 09:35:00  False  \n",
       "\n",
       "[3 rows x 24 columns]"
      ]
     },
     "execution_count": 60,
     "metadata": {},
     "output_type": "execute_result"
    }
   ],
   "source": [
    "df_search = df[df.search_conducted == True]\n",
    "df_search.head(3)"
   ]
  },
  {
   "cell_type": "code",
   "execution_count": 61,
   "metadata": {},
   "outputs": [
    {
     "data": {
      "text/plain": [
       "driver_gender\n",
       "F    0.075949\n",
       "M    0.098922\n",
       "Name: frisk, dtype: float64"
      ]
     },
     "execution_count": 61,
     "metadata": {},
     "output_type": "execute_result"
    }
   ],
   "source": [
    "df_search.groupby([\"driver_gender\"]).frisk.mean()"
   ]
  },
  {
   "cell_type": "code",
   "execution_count": null,
   "metadata": {},
   "outputs": [],
   "source": []
  },
  {
   "cell_type": "code",
   "execution_count": null,
   "metadata": {},
   "outputs": [],
   "source": []
  },
  {
   "cell_type": "markdown",
   "metadata": {},
   "source": [
    "**INSTRUCTIONS**\n",
    "\n",
    "*   Take the mean of the ``is_arrested`` column to calculate the overall arrest rate.\n",
    "*   Group by the ``hour`` attribute of the ``DataFrame`` index to calculate the hourly arrest rate.\n",
    "*   Save the **hourly arrest rate** ``Series`` as a new object, ``hourly_arrest_rate``."
   ]
  },
  {
   "cell_type": "code",
   "execution_count": 62,
   "metadata": {},
   "outputs": [
    {
     "data": {
      "text/plain": [
       "0.03491436100131752"
      ]
     },
     "execution_count": 62,
     "metadata": {},
     "output_type": "execute_result"
    }
   ],
   "source": [
    "df[\"is_arrested\"].mean()"
   ]
  },
  {
   "cell_type": "code",
   "execution_count": 63,
   "metadata": {},
   "outputs": [],
   "source": [
    "hourly_arrest_rate = df.groupby(df.index.hour).is_arrested.mean()"
   ]
  },
  {
   "cell_type": "code",
   "execution_count": 64,
   "metadata": {},
   "outputs": [
    {
     "data": {
      "text/plain": [
       "stop_datetime\n",
       "0     0.046207\n",
       "1     0.061641\n",
       "2     0.059835\n",
       "3     0.057866\n",
       "4     0.056000\n",
       "5     0.019417\n",
       "6     0.014577\n",
       "7     0.014561\n",
       "8     0.020725\n",
       "9     0.022533\n",
       "10    0.027027\n",
       "11    0.031028\n",
       "12    0.032770\n",
       "13    0.027305\n",
       "14    0.032099\n",
       "15    0.029493\n",
       "16    0.034826\n",
       "17    0.045390\n",
       "18    0.038835\n",
       "19    0.035878\n",
       "20    0.035861\n",
       "21    0.075691\n",
       "22    0.048456\n",
       "23    0.047536\n",
       "Name: is_arrested, dtype: float64"
      ]
     },
     "execution_count": 64,
     "metadata": {},
     "output_type": "execute_result"
    }
   ],
   "source": [
    "hourly_arrest_rate"
   ]
  },
  {
   "cell_type": "code",
   "execution_count": null,
   "metadata": {},
   "outputs": [],
   "source": []
  },
  {
   "cell_type": "markdown",
   "metadata": {},
   "source": [
    "***"
   ]
  },
  {
   "cell_type": "markdown",
   "metadata": {},
   "source": [
    "## Plotting the hourly arrest rate"
   ]
  },
  {
   "cell_type": "markdown",
   "metadata": {},
   "source": [
    "You'll create a line plot from the ``hourly_arrest_rate`` object. A line plot is appropriate in this case because you're showing how a quantity changes over time.\n",
    "\n",
    "This plot should help you to spot some trends that may not have been obvious when examining the raw numbers!"
   ]
  },
  {
   "cell_type": "markdown",
   "metadata": {},
   "source": [
    "**INSTRUCTIONS**\n",
    "\n",
    "*   Import ``matplotlib.pyplot`` using the alias ``plt``.\n",
    "*   Create a **line plot** of ``hourly_arrest_rate`` using the ``.plot()`` method.\n",
    "*   Label the ``x-axis`` as ``'Hour'``, label the ``y-axis`` as ``'Arrest Rate'``, and title the plot ``'Arrest Rate by Time of Day'``.\n",
    "*   Display the plot using the ``.show()`` function."
   ]
  },
  {
   "cell_type": "code",
   "execution_count": 65,
   "metadata": {},
   "outputs": [],
   "source": [
    "import matplotlib.pyplot as plt"
   ]
  },
  {
   "cell_type": "code",
   "execution_count": 73,
   "metadata": {},
   "outputs": [
    {
     "data": {
      "image/png": "[encoded data removed]",
      "text/plain": [
       "<Figure size 432x288 with 1 Axes>"
      ]
     },
     "metadata": {
      "needs_background": "light"
     },
     "output_type": "display_data"
    }
   ],
   "source": [
    "fig = plt.figure()\n",
    "axes1 = fig.add_axes([0.1,0.1,0.8,0.8])\n",
    "axes1.plot(hourly_arrest_rate)\n",
    "axes1.set_xlabel(\"Hour\")\n",
    "axes1.set_ylabel(\"Arrest Rate\")\n",
    "axes1.set_title(\"Arrest Rate by Time of Day\")\n",
    "plt.show()"
   ]
  },
  {
   "cell_type": "markdown",
   "metadata": {},
   "source": [
    "***"
   ]
  },
  {
   "cell_type": "markdown",
   "metadata": {},
   "source": [
    "## Plotting drug-related stops"
   ]
  },
  {
   "cell_type": "markdown",
   "metadata": {},
   "source": [
    "In a small portion of traffic stops, drugs are found in the vehicle during a search. You'll assess whether these **drug-related stops** are becoming more common over time.\n",
    "\n",
    "The Boolean column ``drugs_related_stop`` indicates whether drugs were found during a given stop. You'll calculate the **annual drug rate** by **resampling** this column, and then you'll use a line plot to visualize how the rate has changed over time."
   ]
  },
  {
   "cell_type": "markdown",
   "metadata": {},
   "source": [
    "**INSTRUCTIONS**\n",
    "\n",
    "*   Calculate the **annual rate** of drug-related stops by **resampling** the ``drugs_related_stop`` column (on the ``'A'`` frequency) and taking the mean.\n",
    "*   Save the annual drug rate ``Series`` as a new object, ``annual_drug_rate``.\n",
    "*   Create a line plot of ``annual_drug_rate`` using the ``.plot()`` method.\n",
    "*   Display the plot using the ``.show()`` function."
   ]
  },
  {
   "cell_type": "code",
   "execution_count": 78,
   "metadata": {},
   "outputs": [
    {
     "data": {
      "text/plain": [
       "stop_datetime\n",
       "0     0.023104\n",
       "1     0.022173\n",
       "2     0.015818\n",
       "3     0.016275\n",
       "4     0.024000\n",
       "5     0.009709\n",
       "6     0.002332\n",
       "7     0.000857\n",
       "8     0.005922\n",
       "9     0.005134\n",
       "10    0.006822\n",
       "11    0.008403\n",
       "12    0.006871\n",
       "13    0.007123\n",
       "14    0.005291\n",
       "15    0.008651\n",
       "16    0.005970\n",
       "17    0.010638\n",
       "18    0.008826\n",
       "19    0.007634\n",
       "20    0.008818\n",
       "21    0.014556\n",
       "22    0.013845\n",
       "23    0.015961\n",
       "Name: drugs_related_stop, dtype: float64"
      ]
     },
     "execution_count": 78,
     "metadata": {},
     "output_type": "execute_result"
    }
   ],
   "source": [
    "annual_drugs_rate = df.drugs_related_stop.groupby(df.index.hour).mean()\n",
    "annual_drugs_rate"
   ]
  },
  {
   "cell_type": "code",
   "execution_count": 82,
   "metadata": {},
   "outputs": [
    {
     "data": {
      "text/plain": [
       "Text(0, 0.5, 'Drugs Rate')"
      ]
     },
     "execution_count": 82,
     "metadata": {},
     "output_type": "execute_result"
    },
    {
     "data": {
      "image/png": "[encoded data removed]",
      "text/plain": [
       "<Figure size 432x288 with 1 Axes>"
      ]
     },
     "metadata": {
      "needs_background": "light"
     },
     "output_type": "display_data"
    }
   ],
   "source": [
    "plt.plot(annual_drugs_rate)\n",
    "plt.xlabel(\"Hour\")\n",
    "plt.ylabel(\"Drugs Rate\")"
   ]
  },
  {
   "cell_type": "markdown",
   "metadata": {},
   "source": [
    "***"
   ]
  },
  {
   "cell_type": "markdown",
   "metadata": {},
   "source": [
    "## Comparing drug and search rates (to be deleted)"
   ]
  },
  {
   "cell_type": "markdown",
   "metadata": {},
   "source": [
    "As you saw in the last exercise, the rate of **drug-related stops** increased significantly between ``2005`` and ``2015``. You might hypothesize that the rate of vehicle searches was also increasing, which would have led to an increase in drug-related stops even if more drivers were not carrying drugs.\n",
    "\n",
    "You can test this hypothesis by calculating the annual search rate, and then plotting it against the annual drug rate. If the hypothesis is true, then you'll see both rates increasing over time."
   ]
  },
  {
   "cell_type": "markdown",
   "metadata": {},
   "source": [
    "**INSTRUCTIONS**\n",
    "\n",
    "*   Calculate the annual search rate by **resampling** the ``search_conducted`` column, and save the result as ``annual_search_rate``.\n",
    "*   Concatenate ``annual_drug_rate`` and ``annual_search_rate`` along the ``columns axis``, and save the result as ``annual``.\n",
    "*   Create subplots of the drug and search rates from the ``annual`` ``DataFrame``.\n",
    "*   Display the subplots."
   ]
  },
  {
   "cell_type": "code",
   "execution_count": 87,
   "metadata": {
    "scrolled": true
   },
   "outputs": [
    {
     "data": {
      "text/plain": [
       "stop_datetime\n",
       "2005    0.045593\n",
       "2006    0.044564\n",
       "2007    0.044353\n",
       "2008    0.042223\n",
       "2009    0.049373\n",
       "2010    0.043467\n",
       "2011    0.037857\n",
       "2012    0.034033\n",
       "2013    0.030744\n",
       "2014    0.029949\n",
       "2015    0.027617\n",
       "Name: search_conducted, dtype: float64"
      ]
     },
     "execution_count": 87,
     "metadata": {},
     "output_type": "execute_result"
    }
   ],
   "source": [
    "annual_drugs_rate = df.drugs_related_stop.groupby(df.index.year).mean()\n",
    "annual_search_rate = df.search_conducted.groupby(df.index.year).mean()\n",
    "annual_search_rate"
   ]
  },
  {
   "cell_type": "code",
   "execution_count": 116,
   "metadata": {},
   "outputs": [
    {
     "data": {
      "text/plain": [
       "stop_datetime\n",
       "2005-12-31    0.004559\n",
       "2006-12-31    0.007027\n",
       "2007-12-31    0.006982\n",
       "2008-12-31    0.007657\n",
       "2009-12-31    0.008020\n",
       "2010-12-31    0.010212\n",
       "2011-12-31    0.012381\n",
       "2012-12-31    0.009875\n",
       "2013-12-31    0.011916\n",
       "2014-12-31    0.012957\n",
       "2015-12-31    0.010907\n",
       "Freq: A-DEC, Name: drugs_related_stop, dtype: float64"
      ]
     },
     "execution_count": 116,
     "metadata": {},
     "output_type": "execute_result"
    }
   ],
   "source": [
    "df.drugs_related_stop.resample(\"A\").mean()"
   ]
  },
  {
   "cell_type": "code",
   "execution_count": 109,
   "metadata": {},
   "outputs": [
    {
     "data": {
      "text/html": [
       "<div>\n",
       "<style scoped>\n",
       "    .dataframe tbody tr th:only-of-type {\n",
       "        vertical-align: middle;\n",
       "    }\n",
       "\n",
       "    .dataframe tbody tr th {\n",
       "        vertical-align: top;\n",
       "    }\n",
       "\n",
       "    .dataframe thead th {\n",
       "        text-align: right;\n",
       "    }\n",
       "</style>\n",
       "<table border=\"1\" class=\"dataframe\">\n",
       "  <thead>\n",
       "    <tr style=\"text-align: right;\">\n",
       "      <th></th>\n",
       "      <th>drugs_related_stop</th>\n",
       "      <th>search_conducted</th>\n",
       "    </tr>\n",
       "    <tr>\n",
       "      <th>stop_datetime</th>\n",
       "      <th></th>\n",
       "      <th></th>\n",
       "    </tr>\n",
       "  </thead>\n",
       "  <tbody>\n",
       "    <tr>\n",
       "      <th>2005</th>\n",
       "      <td>0.004559</td>\n",
       "      <td>0.045593</td>\n",
       "    </tr>\n",
       "    <tr>\n",
       "      <th>2006</th>\n",
       "      <td>0.007027</td>\n",
       "      <td>0.044564</td>\n",
       "    </tr>\n",
       "    <tr>\n",
       "      <th>2007</th>\n",
       "      <td>0.006982</td>\n",
       "      <td>0.044353</td>\n",
       "    </tr>\n",
       "    <tr>\n",
       "      <th>2008</th>\n",
       "      <td>0.007657</td>\n",
       "      <td>0.042223</td>\n",
       "    </tr>\n",
       "    <tr>\n",
       "      <th>2009</th>\n",
       "      <td>0.008020</td>\n",
       "      <td>0.049373</td>\n",
       "    </tr>\n",
       "    <tr>\n",
       "      <th>2010</th>\n",
       "      <td>0.010212</td>\n",
       "      <td>0.043467</td>\n",
       "    </tr>\n",
       "    <tr>\n",
       "      <th>2011</th>\n",
       "      <td>0.012381</td>\n",
       "      <td>0.037857</td>\n",
       "    </tr>\n",
       "    <tr>\n",
       "      <th>2012</th>\n",
       "      <td>0.009875</td>\n",
       "      <td>0.034033</td>\n",
       "    </tr>\n",
       "    <tr>\n",
       "      <th>2013</th>\n",
       "      <td>0.011916</td>\n",
       "      <td>0.030744</td>\n",
       "    </tr>\n",
       "    <tr>\n",
       "      <th>2014</th>\n",
       "      <td>0.012957</td>\n",
       "      <td>0.029949</td>\n",
       "    </tr>\n",
       "    <tr>\n",
       "      <th>2015</th>\n",
       "      <td>0.010907</td>\n",
       "      <td>0.027617</td>\n",
       "    </tr>\n",
       "  </tbody>\n",
       "</table>\n",
       "</div>"
      ],
      "text/plain": [
       "               drugs_related_stop  search_conducted\n",
       "stop_datetime                                      \n",
       "2005                     0.004559          0.045593\n",
       "2006                     0.007027          0.044564\n",
       "2007                     0.006982          0.044353\n",
       "2008                     0.007657          0.042223\n",
       "2009                     0.008020          0.049373\n",
       "2010                     0.010212          0.043467\n",
       "2011                     0.012381          0.037857\n",
       "2012                     0.009875          0.034033\n",
       "2013                     0.011916          0.030744\n",
       "2014                     0.012957          0.029949\n",
       "2015                     0.010907          0.027617"
      ]
     },
     "execution_count": 109,
     "metadata": {},
     "output_type": "execute_result"
    }
   ],
   "source": [
    "annual = pd.concat([annual_drugs_rate,annual_search_rate],axis=\"columns\")\n",
    "annual"
   ]
  },
  {
   "cell_type": "code",
   "execution_count": 107,
   "metadata": {},
   "outputs": [
    {
     "data": {
      "text/plain": [
       "[<matplotlib.lines.Line2D at 0x1d3e433ea30>,\n",
       " <matplotlib.lines.Line2D at 0x1d3e433eb20>]"
      ]
     },
     "execution_count": 107,
     "metadata": {},
     "output_type": "execute_result"
    },
    {
     "data": {
      "image/png": "[encoded data removed]",
      "text/plain": [
       "<Figure size 432x288 with 1 Axes>"
      ]
     },
     "metadata": {
      "needs_background": "light"
     },
     "output_type": "display_data"
    }
   ],
   "source": [
    "plt.plot(annual)"
   ]
  },
  {
   "cell_type": "code",
   "execution_count": 96,
   "metadata": {},
   "outputs": [
    {
     "data": {
      "text/plain": [
       "stop_datetime\n",
       "2005    0.004559\n",
       "2006    0.007027\n",
       "2007    0.006982\n",
       "2008    0.007657\n",
       "2009    0.008020\n",
       "2010    0.010212\n",
       "2011    0.012381\n",
       "2012    0.009875\n",
       "2013    0.011916\n",
       "2014    0.012957\n",
       "2015    0.010907\n",
       "Name: drugs_related_stop, dtype: float64"
      ]
     },
     "execution_count": 96,
     "metadata": {},
     "output_type": "execute_result"
    }
   ],
   "source": [
    "annual_drugs_rate"
   ]
  },
  {
   "cell_type": "code",
   "execution_count": 100,
   "metadata": {},
   "outputs": [
    {
     "data": {
      "text/plain": [
       "<matplotlib.legend.Legend at 0x1d3e42c6430>"
      ]
     },
     "execution_count": 100,
     "metadata": {},
     "output_type": "execute_result"
    },
    {
     "data": {
      "image/png": "[encoded data removed]",
      "text/plain": [
       "<Figure size 432x288 with 1 Axes>"
      ]
     },
     "metadata": {
      "needs_background": "light"
     },
     "output_type": "display_data"
    }
   ],
   "source": [
    "fig = plt.figure()\n",
    "ax1 = fig.add_axes([0,0,1,1])\n",
    "ax1.plot(annual_drugs_rate,label=\"drugs related stop\") # while drugs related stop increasing year by year search rate decreasing year by year\n",
    "ax1.plot(annual_search_rate, label= \"search rate\")\n",
    "plt.legend()"
   ]
  },
  {
   "cell_type": "code",
   "execution_count": 97,
   "metadata": {},
   "outputs": [
    {
     "data": {
      "text/plain": [
       "[<matplotlib.lines.Line2D at 0x1d3e41f62b0>]"
      ]
     },
     "execution_count": 97,
     "metadata": {},
     "output_type": "execute_result"
    },
    {
     "data": {
      "image/png": "[encoded data removed]",
      "text/plain": [
       "<Figure size 432x288 with 1 Axes>"
      ]
     },
     "metadata": {
      "needs_background": "light"
     },
     "output_type": "display_data"
    }
   ],
   "source": [
    "fig = plt.figure()\n",
    "ax2 = fig.add_axes([0,0,1,1])\n",
    "ax2.plot(annual_search_rate)"
   ]
  },
  {
   "cell_type": "markdown",
   "metadata": {},
   "source": [
    "***"
   ]
  },
  {
   "cell_type": "markdown",
   "metadata": {},
   "source": [
    "## Tallying violations by district"
   ]
  },
  {
   "cell_type": "markdown",
   "metadata": {},
   "source": [
    "The state of **Rhode Island** is broken into six police districts, also known as zones. How do the zones compare in terms of what violations are caught by police?\n",
    "\n",
    "In this exercise, you'll create a frequency table to determine how many violations of each type took place in each of the six zones. Then, you'll filter the table to focus on the ``\"K\"`` zones, which you'll examine further in the next exercise."
   ]
  },
  {
   "cell_type": "markdown",
   "metadata": {},
   "source": [
    "**INSTRUCTIONS**\n",
    "\n",
    "*   Create a ``frequency table`` from the ``district`` and ``violation`` columns using the ``pd.crosstab()`` function.\n",
    "*   Save the ``frequency table`` as a new object, ``all_zones``.\n",
    "*   Select rows ``'Zone K1'`` through ``'Zone K3'`` from ``all_zones`` using the ``.loc[]`` accessor.\n",
    "*   Save the smaller table as a new object, ``k_zones``."
   ]
  },
  {
   "cell_type": "code",
   "execution_count": 135,
   "metadata": {},
   "outputs": [
    {
     "data": {
      "text/html": [
       "<div>\n",
       "<style scoped>\n",
       "    .dataframe tbody tr th:only-of-type {\n",
       "        vertical-align: middle;\n",
       "    }\n",
       "\n",
       "    .dataframe tbody tr th {\n",
       "        vertical-align: top;\n",
       "    }\n",
       "\n",
       "    .dataframe thead th {\n",
       "        text-align: right;\n",
       "    }\n",
       "</style>\n",
       "<table border=\"1\" class=\"dataframe\">\n",
       "  <thead>\n",
       "    <tr style=\"text-align: right;\">\n",
       "      <th>violation</th>\n",
       "      <th>Equipment</th>\n",
       "      <th>Moving violation</th>\n",
       "      <th>Other</th>\n",
       "      <th>Registration/plates</th>\n",
       "      <th>Seat belt</th>\n",
       "      <th>Speeding</th>\n",
       "    </tr>\n",
       "    <tr>\n",
       "      <th>location_raw</th>\n",
       "      <th></th>\n",
       "      <th></th>\n",
       "      <th></th>\n",
       "      <th></th>\n",
       "      <th></th>\n",
       "      <th></th>\n",
       "    </tr>\n",
       "  </thead>\n",
       "  <tbody>\n",
       "    <tr>\n",
       "      <th>Zone K1</th>\n",
       "      <td>371</td>\n",
       "      <td>682</td>\n",
       "      <td>140</td>\n",
       "      <td>52</td>\n",
       "      <td>0</td>\n",
       "      <td>3303</td>\n",
       "    </tr>\n",
       "    <tr>\n",
       "      <th>Zone K2</th>\n",
       "      <td>1140</td>\n",
       "      <td>1618</td>\n",
       "      <td>520</td>\n",
       "      <td>377</td>\n",
       "      <td>284</td>\n",
       "      <td>5636</td>\n",
       "    </tr>\n",
       "    <tr>\n",
       "      <th>Zone K3</th>\n",
       "      <td>1241</td>\n",
       "      <td>1559</td>\n",
       "      <td>387</td>\n",
       "      <td>392</td>\n",
       "      <td>351</td>\n",
       "      <td>6746</td>\n",
       "    </tr>\n",
       "    <tr>\n",
       "      <th>Zone X1</th>\n",
       "      <td>166</td>\n",
       "      <td>349</td>\n",
       "      <td>87</td>\n",
       "      <td>18</td>\n",
       "      <td>46</td>\n",
       "      <td>586</td>\n",
       "    </tr>\n",
       "    <tr>\n",
       "      <th>Zone X3</th>\n",
       "      <td>1090</td>\n",
       "      <td>1682</td>\n",
       "      <td>419</td>\n",
       "      <td>358</td>\n",
       "      <td>436</td>\n",
       "      <td>4755</td>\n",
       "    </tr>\n",
       "    <tr>\n",
       "      <th>Zone X4</th>\n",
       "      <td>1933</td>\n",
       "      <td>2881</td>\n",
       "      <td>841</td>\n",
       "      <td>701</td>\n",
       "      <td>473</td>\n",
       "      <td>5438</td>\n",
       "    </tr>\n",
       "  </tbody>\n",
       "</table>\n",
       "</div>"
      ],
      "text/plain": [
       "violation     Equipment  Moving violation  Other  Registration/plates  \\\n",
       "location_raw                                                            \n",
       "Zone K1             371               682    140                   52   \n",
       "Zone K2            1140              1618    520                  377   \n",
       "Zone K3            1241              1559    387                  392   \n",
       "Zone X1             166               349     87                   18   \n",
       "Zone X3            1090              1682    419                  358   \n",
       "Zone X4            1933              2881    841                  701   \n",
       "\n",
       "violation     Seat belt  Speeding  \n",
       "location_raw                       \n",
       "Zone K1               0      3303  \n",
       "Zone K2             284      5636  \n",
       "Zone K3             351      6746  \n",
       "Zone X1              46       586  \n",
       "Zone X3             436      4755  \n",
       "Zone X4             473      5438  "
      ]
     },
     "execution_count": 135,
     "metadata": {},
     "output_type": "execute_result"
    }
   ],
   "source": [
    "all_zones = pd.crosstab(df.location_raw,df.violation)\n",
    "all_zones"
   ]
  },
  {
   "cell_type": "code",
   "execution_count": 133,
   "metadata": {},
   "outputs": [],
   "source": [
    "k_zones = all_zones.loc[\"Zone K1\":\"Zone K3\"]"
   ]
  },
  {
   "cell_type": "code",
   "execution_count": 139,
   "metadata": {},
   "outputs": [
    {
     "data": {
      "text/html": [
       "<div>\n",
       "<style scoped>\n",
       "    .dataframe tbody tr th:only-of-type {\n",
       "        vertical-align: middle;\n",
       "    }\n",
       "\n",
       "    .dataframe tbody tr th {\n",
       "        vertical-align: top;\n",
       "    }\n",
       "\n",
       "    .dataframe thead th {\n",
       "        text-align: right;\n",
       "    }\n",
       "</style>\n",
       "<table border=\"1\" class=\"dataframe\">\n",
       "  <thead>\n",
       "    <tr style=\"text-align: right;\">\n",
       "      <th>violation</th>\n",
       "      <th>Equipment</th>\n",
       "      <th>Moving violation</th>\n",
       "      <th>Other</th>\n",
       "      <th>Registration/plates</th>\n",
       "      <th>Seat belt</th>\n",
       "      <th>Speeding</th>\n",
       "    </tr>\n",
       "    <tr>\n",
       "      <th>location_raw</th>\n",
       "      <th></th>\n",
       "      <th></th>\n",
       "      <th></th>\n",
       "      <th></th>\n",
       "      <th></th>\n",
       "      <th></th>\n",
       "    </tr>\n",
       "  </thead>\n",
       "  <tbody>\n",
       "    <tr>\n",
       "      <th>Zone K1</th>\n",
       "      <td>371</td>\n",
       "      <td>682</td>\n",
       "      <td>140</td>\n",
       "      <td>52</td>\n",
       "      <td>0</td>\n",
       "      <td>3303</td>\n",
       "    </tr>\n",
       "    <tr>\n",
       "      <th>Zone K2</th>\n",
       "      <td>1140</td>\n",
       "      <td>1618</td>\n",
       "      <td>520</td>\n",
       "      <td>377</td>\n",
       "      <td>284</td>\n",
       "      <td>5636</td>\n",
       "    </tr>\n",
       "    <tr>\n",
       "      <th>Zone K3</th>\n",
       "      <td>1241</td>\n",
       "      <td>1559</td>\n",
       "      <td>387</td>\n",
       "      <td>392</td>\n",
       "      <td>351</td>\n",
       "      <td>6746</td>\n",
       "    </tr>\n",
       "  </tbody>\n",
       "</table>\n",
       "</div>"
      ],
      "text/plain": [
       "violation     Equipment  Moving violation  Other  Registration/plates  \\\n",
       "location_raw                                                            \n",
       "Zone K1             371               682    140                   52   \n",
       "Zone K2            1140              1618    520                  377   \n",
       "Zone K3            1241              1559    387                  392   \n",
       "\n",
       "violation     Seat belt  Speeding  \n",
       "location_raw                       \n",
       "Zone K1               0      3303  \n",
       "Zone K2             284      5636  \n",
       "Zone K3             351      6746  "
      ]
     },
     "execution_count": 139,
     "metadata": {},
     "output_type": "execute_result"
    }
   ],
   "source": [
    "k_zones"
   ]
  },
  {
   "cell_type": "code",
   "execution_count": 120,
   "metadata": {},
   "outputs": [
    {
     "data": {
      "text/plain": [
       "Index(['id', 'stop_date', 'stop_time', 'location_raw', 'police_department',\n",
       "       'driver_gender', 'driver_age_raw', 'driver_age', 'driver_race_raw',\n",
       "       'driver_race', 'violation_raw', 'violation', 'search_conducted',\n",
       "       'search_type_raw', 'search_type', 'contraband_found', 'stop_outcome',\n",
       "       'is_arrested', 'stop_duration', 'out_of_state', 'drugs_related_stop',\n",
       "       'district', 'stop_datetime', 'frisk'],\n",
       "      dtype='object')"
      ]
     },
     "execution_count": 120,
     "metadata": {},
     "output_type": "execute_result"
    }
   ],
   "source": [
    "df.columns"
   ]
  },
  {
   "cell_type": "markdown",
   "metadata": {},
   "source": [
    "***"
   ]
  },
  {
   "cell_type": "markdown",
   "metadata": {},
   "source": [
    "## Plotting violations by district"
   ]
  },
  {
   "cell_type": "markdown",
   "metadata": {},
   "source": [
    "Now that you've created a frequency table focused on the ``\"K\"`` zones, you'll visualize the data to help you compare what violations are being caught in each zone.\n",
    "\n",
    "First you'll create a **bar plot**, which is an appropriate plot type since you're comparing categorical data. Then you'll create a **stacked bar plot** in order to get a slightly different look at the data. Which plot do you find to be more insightful?"
   ]
  },
  {
   "cell_type": "markdown",
   "metadata": {},
   "source": [
    "**INSTRUCTIONS 1/2**\n",
    "\n",
    "*   Create a bar plot of ``k_zones``.\n",
    "*   Display the plot and examine it. What do you notice about each of the zones?"
   ]
  },
  {
   "cell_type": "code",
   "execution_count": 148,
   "metadata": {},
   "outputs": [
    {
     "data": {
      "text/plain": [
       "<matplotlib.axes._subplots.AxesSubplot at 0x1d3e4860dc0>"
      ]
     },
     "execution_count": 148,
     "metadata": {},
     "output_type": "execute_result"
    },
    {
     "data": {
      "image/png": "[encoded data removed]",
      "text/plain": [
       "<Figure size 720x360 with 1 Axes>"
      ]
     },
     "metadata": {
      "needs_background": "light"
     },
     "output_type": "display_data"
    }
   ],
   "source": [
    "k_zones.plot(kind=\"bar\",figsize=(10,5)) # most violation each zone is speeding violation"
   ]
  },
  {
   "cell_type": "markdown",
   "metadata": {},
   "source": [
    "**INSTRUCTIONS 2/2**\n",
    "\n",
    "*   Create a stacked bar plot of ``k_zones``.\n",
    "*   Display the plot and examine it. Do you notice anything different about the data than you did previously?"
   ]
  },
  {
   "cell_type": "code",
   "execution_count": 155,
   "metadata": {},
   "outputs": [
    {
     "data": {
      "text/plain": [
       "<matplotlib.axes._subplots.AxesSubplot at 0x1d3e465f940>"
      ]
     },
     "execution_count": 155,
     "metadata": {},
     "output_type": "execute_result"
    },
    {
     "data": {
      "image/png": "[encoded data removed]",
      "text/plain": [
       "<Figure size 720x504 with 1 Axes>"
      ]
     },
     "metadata": {
      "needs_background": "light"
     },
     "output_type": "display_data"
    }
   ],
   "source": [
    "k_zones.plot(kind=\"bar\",stacked=True,figsize=(10,7)) # less clear and understanable than non-stucked bar plot"
   ]
  },
  {
   "cell_type": "markdown",
   "metadata": {},
   "source": [
    "***"
   ]
  },
  {
   "cell_type": "markdown",
   "metadata": {},
   "source": [
    "## Converting stop durations to numbers"
   ]
  },
  {
   "cell_type": "markdown",
   "metadata": {},
   "source": [
    "In the traffic stops dataset, the ``stop_duration`` column tells you approximately how long the driver was detained by the officer. Unfortunately, the durations are stored as ``strings``, such as ``'0-15 Min'``. How can you make this data easier to analyze?\n",
    "\n",
    "In this exercise, you'll convert the **stop durations** to ``integers``. Because the precise durations are not available, you'll have to estimate the numbers using reasonable values:\n",
    "\n",
    "*   Convert ``'0-15 Min'`` to ``8``\n",
    "*   Convert ``'16-30 Min'`` to ``23``\n",
    "*   Convert ``'30+ Min'`` to ``45``"
   ]
  },
  {
   "cell_type": "markdown",
   "metadata": {},
   "source": [
    "**INSTRUCTIONS**\n",
    "\n",
    "*   Print the **unique values** in the ``stop_duration`` column. (This has been done for you.)\n",
    "*   Create a ``dictionary`` called ``mapping`` that maps the ``stop_duration`` strings to the integers specified above.\n",
    "*   Convert the ``stop_duration`` strings to integers using the ``mapping``, and store the results in a new column called ``stop_minutes``.\n",
    "*   Print the unique values in the ``stop_minutes`` column, to verify that the durations were properly converted to integers."
   ]
  },
  {
   "cell_type": "code",
   "execution_count": 159,
   "metadata": {},
   "outputs": [
    {
     "data": {
      "text/plain": [
       "array(['0-15 Min', '16-30 Min', '30+ Min', '1'], dtype=object)"
      ]
     },
     "execution_count": 159,
     "metadata": {},
     "output_type": "execute_result"
    }
   ],
   "source": [
    "df.stop_duration.unique()"
   ]
  },
  {
   "cell_type": "code",
   "execution_count": 167,
   "metadata": {},
   "outputs": [],
   "source": [
    "mapp = {\"0-15 Min\": 8,\"16-30 Min\":23, \"30+ Min\":45}"
   ]
  },
  {
   "cell_type": "code",
   "execution_count": 168,
   "metadata": {},
   "outputs": [
    {
     "data": {
      "text/html": [
       "<div>\n",
       "<style scoped>\n",
       "    .dataframe tbody tr th:only-of-type {\n",
       "        vertical-align: middle;\n",
       "    }\n",
       "\n",
       "    .dataframe tbody tr th {\n",
       "        vertical-align: top;\n",
       "    }\n",
       "\n",
       "    .dataframe thead th {\n",
       "        text-align: right;\n",
       "    }\n",
       "</style>\n",
       "<table border=\"1\" class=\"dataframe\">\n",
       "  <thead>\n",
       "    <tr style=\"text-align: right;\">\n",
       "      <th></th>\n",
       "      <th>id</th>\n",
       "      <th>stop_date</th>\n",
       "      <th>stop_time</th>\n",
       "      <th>location_raw</th>\n",
       "      <th>police_department</th>\n",
       "      <th>driver_gender</th>\n",
       "      <th>driver_age_raw</th>\n",
       "      <th>driver_age</th>\n",
       "      <th>driver_race_raw</th>\n",
       "      <th>driver_race</th>\n",
       "      <th>...</th>\n",
       "      <th>contraband_found</th>\n",
       "      <th>stop_outcome</th>\n",
       "      <th>is_arrested</th>\n",
       "      <th>stop_duration</th>\n",
       "      <th>out_of_state</th>\n",
       "      <th>drugs_related_stop</th>\n",
       "      <th>district</th>\n",
       "      <th>stop_datetime</th>\n",
       "      <th>frisk</th>\n",
       "      <th>stop_minutes</th>\n",
       "    </tr>\n",
       "    <tr>\n",
       "      <th>stop_datetime</th>\n",
       "      <th></th>\n",
       "      <th></th>\n",
       "      <th></th>\n",
       "      <th></th>\n",
       "      <th></th>\n",
       "      <th></th>\n",
       "      <th></th>\n",
       "      <th></th>\n",
       "      <th></th>\n",
       "      <th></th>\n",
       "      <th></th>\n",
       "      <th></th>\n",
       "      <th></th>\n",
       "      <th></th>\n",
       "      <th></th>\n",
       "      <th></th>\n",
       "      <th></th>\n",
       "      <th></th>\n",
       "      <th></th>\n",
       "      <th></th>\n",
       "      <th></th>\n",
       "    </tr>\n",
       "  </thead>\n",
       "  <tbody>\n",
       "    <tr>\n",
       "      <th>2008-07-28 19:13:00</th>\n",
       "      <td>RI-2008-27978</td>\n",
       "      <td>2008-07-28</td>\n",
       "      <td>19:13</td>\n",
       "      <td>Zone X4</td>\n",
       "      <td>300</td>\n",
       "      <td>M</td>\n",
       "      <td>1971.0</td>\n",
       "      <td>37.0</td>\n",
       "      <td>B</td>\n",
       "      <td>Black</td>\n",
       "      <td>...</td>\n",
       "      <td>False</td>\n",
       "      <td>Citation</td>\n",
       "      <td>False</td>\n",
       "      <td>0-15 Min</td>\n",
       "      <td>True</td>\n",
       "      <td>False</td>\n",
       "      <td>Zone X4</td>\n",
       "      <td>2008-07-28 19:13:00</td>\n",
       "      <td>False</td>\n",
       "      <td>8.0</td>\n",
       "    </tr>\n",
       "    <tr>\n",
       "      <th>2008-02-07 20:20:00</th>\n",
       "      <td>RI-2008-05302</td>\n",
       "      <td>2008-02-07</td>\n",
       "      <td>20:20</td>\n",
       "      <td>Zone K3</td>\n",
       "      <td>300</td>\n",
       "      <td>M</td>\n",
       "      <td>1967.0</td>\n",
       "      <td>41.0</td>\n",
       "      <td>W</td>\n",
       "      <td>White</td>\n",
       "      <td>...</td>\n",
       "      <td>False</td>\n",
       "      <td>Citation</td>\n",
       "      <td>False</td>\n",
       "      <td>0-15 Min</td>\n",
       "      <td>False</td>\n",
       "      <td>False</td>\n",
       "      <td>Zone K3</td>\n",
       "      <td>2008-02-07 20:20:00</td>\n",
       "      <td>False</td>\n",
       "      <td>8.0</td>\n",
       "    </tr>\n",
       "    <tr>\n",
       "      <th>2008-01-26 19:59:00</th>\n",
       "      <td>RI-2008-03611</td>\n",
       "      <td>2008-01-26</td>\n",
       "      <td>19:59</td>\n",
       "      <td>Zone K3</td>\n",
       "      <td>300</td>\n",
       "      <td>M</td>\n",
       "      <td>1986.0</td>\n",
       "      <td>22.0</td>\n",
       "      <td>W</td>\n",
       "      <td>White</td>\n",
       "      <td>...</td>\n",
       "      <td>False</td>\n",
       "      <td>Citation</td>\n",
       "      <td>False</td>\n",
       "      <td>0-15 Min</td>\n",
       "      <td>True</td>\n",
       "      <td>False</td>\n",
       "      <td>Zone K3</td>\n",
       "      <td>2008-01-26 19:59:00</td>\n",
       "      <td>False</td>\n",
       "      <td>8.0</td>\n",
       "    </tr>\n",
       "    <tr>\n",
       "      <th>2014-12-28 17:23:00</th>\n",
       "      <td>RI-2014-50432</td>\n",
       "      <td>2014-12-28</td>\n",
       "      <td>17:23</td>\n",
       "      <td>Zone X4</td>\n",
       "      <td>500</td>\n",
       "      <td>F</td>\n",
       "      <td>1967.0</td>\n",
       "      <td>47.0</td>\n",
       "      <td>W</td>\n",
       "      <td>White</td>\n",
       "      <td>...</td>\n",
       "      <td>False</td>\n",
       "      <td>Citation</td>\n",
       "      <td>False</td>\n",
       "      <td>0-15 Min</td>\n",
       "      <td>True</td>\n",
       "      <td>False</td>\n",
       "      <td>Zone X4</td>\n",
       "      <td>2014-12-28 17:23:00</td>\n",
       "      <td>False</td>\n",
       "      <td>8.0</td>\n",
       "    </tr>\n",
       "    <tr>\n",
       "      <th>2008-07-24 15:17:00</th>\n",
       "      <td>RI-2008-27455</td>\n",
       "      <td>2008-07-24</td>\n",
       "      <td>15:17</td>\n",
       "      <td>Zone K2</td>\n",
       "      <td>900</td>\n",
       "      <td>M</td>\n",
       "      <td>1941.0</td>\n",
       "      <td>67.0</td>\n",
       "      <td>W</td>\n",
       "      <td>White</td>\n",
       "      <td>...</td>\n",
       "      <td>False</td>\n",
       "      <td>Citation</td>\n",
       "      <td>False</td>\n",
       "      <td>16-30 Min</td>\n",
       "      <td>False</td>\n",
       "      <td>False</td>\n",
       "      <td>Zone K2</td>\n",
       "      <td>2008-07-24 15:17:00</td>\n",
       "      <td>False</td>\n",
       "      <td>23.0</td>\n",
       "    </tr>\n",
       "    <tr>\n",
       "      <th>...</th>\n",
       "      <td>...</td>\n",
       "      <td>...</td>\n",
       "      <td>...</td>\n",
       "      <td>...</td>\n",
       "      <td>...</td>\n",
       "      <td>...</td>\n",
       "      <td>...</td>\n",
       "      <td>...</td>\n",
       "      <td>...</td>\n",
       "      <td>...</td>\n",
       "      <td>...</td>\n",
       "      <td>...</td>\n",
       "      <td>...</td>\n",
       "      <td>...</td>\n",
       "      <td>...</td>\n",
       "      <td>...</td>\n",
       "      <td>...</td>\n",
       "      <td>...</td>\n",
       "      <td>...</td>\n",
       "      <td>...</td>\n",
       "      <td>...</td>\n",
       "    </tr>\n",
       "    <tr>\n",
       "      <th>2011-01-01 13:23:00</th>\n",
       "      <td>RI-2011-00069</td>\n",
       "      <td>2011-01-01</td>\n",
       "      <td>13:23</td>\n",
       "      <td>Zone X3</td>\n",
       "      <td>200</td>\n",
       "      <td>F</td>\n",
       "      <td>1963.0</td>\n",
       "      <td>48.0</td>\n",
       "      <td>W</td>\n",
       "      <td>White</td>\n",
       "      <td>...</td>\n",
       "      <td>False</td>\n",
       "      <td>Citation</td>\n",
       "      <td>False</td>\n",
       "      <td>0-15 Min</td>\n",
       "      <td>True</td>\n",
       "      <td>False</td>\n",
       "      <td>Zone X3</td>\n",
       "      <td>2011-01-01 13:23:00</td>\n",
       "      <td>False</td>\n",
       "      <td>8.0</td>\n",
       "    </tr>\n",
       "    <tr>\n",
       "      <th>2009-04-21 11:02:00</th>\n",
       "      <td>RI-2009-15370</td>\n",
       "      <td>2009-04-21</td>\n",
       "      <td>11:02</td>\n",
       "      <td>Zone K3</td>\n",
       "      <td>300</td>\n",
       "      <td>M</td>\n",
       "      <td>1968.0</td>\n",
       "      <td>41.0</td>\n",
       "      <td>W</td>\n",
       "      <td>White</td>\n",
       "      <td>...</td>\n",
       "      <td>False</td>\n",
       "      <td>Citation</td>\n",
       "      <td>False</td>\n",
       "      <td>16-30 Min</td>\n",
       "      <td>True</td>\n",
       "      <td>False</td>\n",
       "      <td>Zone K3</td>\n",
       "      <td>2009-04-21 11:02:00</td>\n",
       "      <td>False</td>\n",
       "      <td>23.0</td>\n",
       "    </tr>\n",
       "    <tr>\n",
       "      <th>2008-08-15 15:21:00</th>\n",
       "      <td>RI-2008-30467</td>\n",
       "      <td>2008-08-15</td>\n",
       "      <td>15:21</td>\n",
       "      <td>Zone X4</td>\n",
       "      <td>500</td>\n",
       "      <td>M</td>\n",
       "      <td>1935.0</td>\n",
       "      <td>73.0</td>\n",
       "      <td>W</td>\n",
       "      <td>White</td>\n",
       "      <td>...</td>\n",
       "      <td>False</td>\n",
       "      <td>Citation</td>\n",
       "      <td>False</td>\n",
       "      <td>0-15 Min</td>\n",
       "      <td>True</td>\n",
       "      <td>False</td>\n",
       "      <td>Zone X4</td>\n",
       "      <td>2008-08-15 15:21:00</td>\n",
       "      <td>False</td>\n",
       "      <td>8.0</td>\n",
       "    </tr>\n",
       "    <tr>\n",
       "      <th>2012-03-18 07:27:00</th>\n",
       "      <td>RI-2012-16047</td>\n",
       "      <td>2012-03-18</td>\n",
       "      <td>07:27</td>\n",
       "      <td>Zone K2</td>\n",
       "      <td>900</td>\n",
       "      <td>M</td>\n",
       "      <td>1967.0</td>\n",
       "      <td>45.0</td>\n",
       "      <td>W</td>\n",
       "      <td>White</td>\n",
       "      <td>...</td>\n",
       "      <td>False</td>\n",
       "      <td>Citation</td>\n",
       "      <td>False</td>\n",
       "      <td>0-15 Min</td>\n",
       "      <td>True</td>\n",
       "      <td>False</td>\n",
       "      <td>Zone K2</td>\n",
       "      <td>2012-03-18 07:27:00</td>\n",
       "      <td>False</td>\n",
       "      <td>8.0</td>\n",
       "    </tr>\n",
       "    <tr>\n",
       "      <th>2009-11-21 13:21:00</th>\n",
       "      <td>RI-2009-39175</td>\n",
       "      <td>2009-11-21</td>\n",
       "      <td>13:21</td>\n",
       "      <td>Zone X3</td>\n",
       "      <td>200</td>\n",
       "      <td>F</td>\n",
       "      <td>1985.0</td>\n",
       "      <td>24.0</td>\n",
       "      <td>W</td>\n",
       "      <td>White</td>\n",
       "      <td>...</td>\n",
       "      <td>False</td>\n",
       "      <td>Citation</td>\n",
       "      <td>False</td>\n",
       "      <td>0-15 Min</td>\n",
       "      <td>True</td>\n",
       "      <td>False</td>\n",
       "      <td>Zone X3</td>\n",
       "      <td>2009-11-21 13:21:00</td>\n",
       "      <td>False</td>\n",
       "      <td>8.0</td>\n",
       "    </tr>\n",
       "  </tbody>\n",
       "</table>\n",
       "<p>47058 rows × 25 columns</p>\n",
       "</div>"
      ],
      "text/plain": [
       "                                id   stop_date stop_time location_raw  \\\n",
       "stop_datetime                                                           \n",
       "2008-07-28 19:13:00  RI-2008-27978  2008-07-28     19:13      Zone X4   \n",
       "2008-02-07 20:20:00  RI-2008-05302  2008-02-07     20:20      Zone K3   \n",
       "2008-01-26 19:59:00  RI-2008-03611  2008-01-26     19:59      Zone K3   \n",
       "2014-12-28 17:23:00  RI-2014-50432  2014-12-28     17:23      Zone X4   \n",
       "2008-07-24 15:17:00  RI-2008-27455  2008-07-24     15:17      Zone K2   \n",
       "...                            ...         ...       ...          ...   \n",
       "2011-01-01 13:23:00  RI-2011-00069  2011-01-01     13:23      Zone X3   \n",
       "2009-04-21 11:02:00  RI-2009-15370  2009-04-21     11:02      Zone K3   \n",
       "2008-08-15 15:21:00  RI-2008-30467  2008-08-15     15:21      Zone X4   \n",
       "2012-03-18 07:27:00  RI-2012-16047  2012-03-18     07:27      Zone K2   \n",
       "2009-11-21 13:21:00  RI-2009-39175  2009-11-21     13:21      Zone X3   \n",
       "\n",
       "                    police_department driver_gender  driver_age_raw  \\\n",
       "stop_datetime                                                         \n",
       "2008-07-28 19:13:00               300             M          1971.0   \n",
       "2008-02-07 20:20:00               300             M          1967.0   \n",
       "2008-01-26 19:59:00               300             M          1986.0   \n",
       "2014-12-28 17:23:00               500             F          1967.0   \n",
       "2008-07-24 15:17:00               900             M          1941.0   \n",
       "...                               ...           ...             ...   \n",
       "2011-01-01 13:23:00               200             F          1963.0   \n",
       "2009-04-21 11:02:00               300             M          1968.0   \n",
       "2008-08-15 15:21:00               500             M          1935.0   \n",
       "2012-03-18 07:27:00               900             M          1967.0   \n",
       "2009-11-21 13:21:00               200             F          1985.0   \n",
       "\n",
       "                     driver_age driver_race_raw driver_race  ...  \\\n",
       "stop_datetime                                                ...   \n",
       "2008-07-28 19:13:00        37.0               B       Black  ...   \n",
       "2008-02-07 20:20:00        41.0               W       White  ...   \n",
       "2008-01-26 19:59:00        22.0               W       White  ...   \n",
       "2014-12-28 17:23:00        47.0               W       White  ...   \n",
       "2008-07-24 15:17:00        67.0               W       White  ...   \n",
       "...                         ...             ...         ...  ...   \n",
       "2011-01-01 13:23:00        48.0               W       White  ...   \n",
       "2009-04-21 11:02:00        41.0               W       White  ...   \n",
       "2008-08-15 15:21:00        73.0               W       White  ...   \n",
       "2012-03-18 07:27:00        45.0               W       White  ...   \n",
       "2009-11-21 13:21:00        24.0               W       White  ...   \n",
       "\n",
       "                    contraband_found stop_outcome  is_arrested stop_duration  \\\n",
       "stop_datetime                                                                  \n",
       "2008-07-28 19:13:00            False     Citation        False      0-15 Min   \n",
       "2008-02-07 20:20:00            False     Citation        False      0-15 Min   \n",
       "2008-01-26 19:59:00            False     Citation        False      0-15 Min   \n",
       "2014-12-28 17:23:00            False     Citation        False      0-15 Min   \n",
       "2008-07-24 15:17:00            False     Citation        False     16-30 Min   \n",
       "...                              ...          ...          ...           ...   \n",
       "2011-01-01 13:23:00            False     Citation        False      0-15 Min   \n",
       "2009-04-21 11:02:00            False     Citation        False     16-30 Min   \n",
       "2008-08-15 15:21:00            False     Citation        False      0-15 Min   \n",
       "2012-03-18 07:27:00            False     Citation        False      0-15 Min   \n",
       "2009-11-21 13:21:00            False     Citation        False      0-15 Min   \n",
       "\n",
       "                    out_of_state  drugs_related_stop district  \\\n",
       "stop_datetime                                                   \n",
       "2008-07-28 19:13:00         True               False  Zone X4   \n",
       "2008-02-07 20:20:00        False               False  Zone K3   \n",
       "2008-01-26 19:59:00         True               False  Zone K3   \n",
       "2014-12-28 17:23:00         True               False  Zone X4   \n",
       "2008-07-24 15:17:00        False               False  Zone K2   \n",
       "...                          ...                 ...      ...   \n",
       "2011-01-01 13:23:00         True               False  Zone X3   \n",
       "2009-04-21 11:02:00         True               False  Zone K3   \n",
       "2008-08-15 15:21:00         True               False  Zone X4   \n",
       "2012-03-18 07:27:00         True               False  Zone K2   \n",
       "2009-11-21 13:21:00         True               False  Zone X3   \n",
       "\n",
       "                          stop_datetime  frisk stop_minutes  \n",
       "stop_datetime                                                \n",
       "2008-07-28 19:13:00 2008-07-28 19:13:00  False          8.0  \n",
       "2008-02-07 20:20:00 2008-02-07 20:20:00  False          8.0  \n",
       "2008-01-26 19:59:00 2008-01-26 19:59:00  False          8.0  \n",
       "2014-12-28 17:23:00 2014-12-28 17:23:00  False          8.0  \n",
       "2008-07-24 15:17:00 2008-07-24 15:17:00  False         23.0  \n",
       "...                                 ...    ...          ...  \n",
       "2011-01-01 13:23:00 2011-01-01 13:23:00  False          8.0  \n",
       "2009-04-21 11:02:00 2009-04-21 11:02:00  False         23.0  \n",
       "2008-08-15 15:21:00 2008-08-15 15:21:00  False          8.0  \n",
       "2012-03-18 07:27:00 2012-03-18 07:27:00  False          8.0  \n",
       "2009-11-21 13:21:00 2009-11-21 13:21:00  False          8.0  \n",
       "\n",
       "[47058 rows x 25 columns]"
      ]
     },
     "execution_count": 168,
     "metadata": {},
     "output_type": "execute_result"
    }
   ],
   "source": [
    "df[\"stop_minutes\"] = df.stop_duration.map(mapp)\n",
    "df"
   ]
  },
  {
   "cell_type": "markdown",
   "metadata": {},
   "source": [
    "***"
   ]
  },
  {
   "cell_type": "markdown",
   "metadata": {},
   "source": [
    "## Plotting stop length"
   ]
  },
  {
   "cell_type": "raw",
   "metadata": {},
   "source": [
    "If you were stopped for a particular violation, how long might you expect to be detained?\n",
    "\n",
    "In this exercise, you'll visualize the **average length** of time drivers are stopped for each **type** of **violation**. Rather than using the ``violation`` column in this exercise, you'll use ``violation_raw`` since it contains more detailed descriptions of the violations."
   ]
  },
  {
   "cell_type": "markdown",
   "metadata": {},
   "source": [
    "**INSTRUCTIONS**\n",
    "\n",
    "*   For each value in the ``violation_raw`` column, calculate the **mean number** of ``stop_minutes`` that a driver is detained.\n",
    "*   Save the resulting ``Series`` as a new object, ``stop_length``.\n",
    "*   Sort ``stop_length`` by its values, and then visualize it using a **horizontal bar plot**.\n",
    "*   Display the plot."
   ]
  },
  {
   "cell_type": "code",
   "execution_count": 171,
   "metadata": {},
   "outputs": [],
   "source": [
    "stop_length = df.groupby(\"violation_raw\").stop_minutes.mean()"
   ]
  },
  {
   "cell_type": "code",
   "execution_count": 172,
   "metadata": {},
   "outputs": [
    {
     "data": {
      "text/plain": [
       "<matplotlib.axes._subplots.AxesSubplot at 0x1d3e44a2250>"
      ]
     },
     "execution_count": 172,
     "metadata": {},
     "output_type": "execute_result"
    },
    {
     "data": {
      "image/png": "[encoded data removed]",
      "text/plain": [
       "<Figure size 432x288 with 1 Axes>"
      ]
     },
     "metadata": {
      "needs_background": "light"
     },
     "output_type": "display_data"
    }
   ],
   "source": [
    "stop_length.plot(kind=\"barh\")"
   ]
  }
 ],
 "metadata": {
  "kernelspec": {
   "display_name": "Python 3",
   "language": "python",
   "name": "python3"
  },
  "language_info": {
   "codemirror_mode": {
    "name": "ipython",
    "version": 3
   },
   "file_extension": ".py",
   "mimetype": "text/x-python",
   "name": "python",
   "nbconvert_exporter": "python",
   "pygments_lexer": "ipython3",
   "version": "3.8.3"
  }
 },
 "nbformat": 4,
 "nbformat_minor": 4
}
