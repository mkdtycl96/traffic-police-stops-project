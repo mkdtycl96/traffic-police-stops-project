{
 "cells": [
  {
   "cell_type": "markdown",
   "metadata": {},
   "source": [
    "___\n",
    "\n",
    "<p style=\"text-align: center;\"><img src=\"https://docs.google.com/uc?id=1lY0Uj5R04yMY3-ZppPWxqCr5pvBLYPnV\" class=\"img-fluid\" alt=\"CLRSWY\"></p>\n",
    "\n",
    "___"
   ]
  },
  {
   "cell_type": "markdown",
   "metadata": {},
   "source": [
    "## Calculating the hourly arrest rate"
   ]
  },
  {
   "cell_type": "markdown",
   "metadata": {},
   "source": [
    "> Before starting your work in this section **repeat the steps which you did in the first chapter for preparing the data.** Continue to this chapter based on where you were in the end of the first chapter."
   ]
  },
  {
   "cell_type": "code",
   "execution_count": 85,
   "metadata": {},
   "outputs": [
    {
     "data": {
      "text/plain": [
       "driver_gender\n",
       "F    0.075949\n",
       "M    0.098922\n",
       "Name: frisk, dtype: float64"
      ]
     },
     "execution_count": 85,
     "metadata": {},
     "output_type": "execute_result"
    }
   ],
   "source": [
    "import pandas as pd\n",
    "df = pd.read_csv(\"RI_cleaned.csv\",skiprows =0).sample(n=50000, random_state = 1)\n",
    "\n",
    "df.isnull()\n",
    "df.isnull().sum()\n",
    "pd.isnull(df[\"county_fips\"])\n",
    "bool_series = pd.isnull(df[\"county_fips\"])\n",
    "df[bool_series]\n",
    "df.drop([\"county_name\",\"county_fips\" ,\"fine_grained_location\"],axis=1,inplace=True)\n",
    "df.shape\n",
    "df.drop(\"state\",axis=1,inplace=True)\n",
    "df[\"driver_gender\"].isnull().sum()\n",
    "df.shape\n",
    "df.dropna(subset = [\"driver_gender\"],inplace=True)\n",
    "df.shape\n",
    "df[[\"is_arrested\"]].head(10)\n",
    "df[\"is_arrested\"]=df.is_arrested.astype(\"bool\")\n",
    "df[\"is_arrested\"].dtype\n",
    "combined = df.stop_date.str.cat(df.stop_time,sep=\" \") #her iki serinin boyu aynı olmalıdır\n",
    "df[\"stop_datetime\"] = pd.to_datetime(combined)\n",
    "df[\"stop_datetime\"].dtype\n",
    "df[\"stop_datetime\"]\n",
    "df = df.set_index(pd.DatetimeIndex(df[\"stop_datetime\"]))\n",
    "df.head()\n",
    "day=pd.Timestamp(\"2005-01-02\")\n",
    "day.day_name()\n",
    "df[\"violation\"].value_counts() # Count the unique values in the violation to see what violations are being committed by all drivers.\n",
    "df[\"violation\"].value_counts(normalize=True) \n",
    "df_male = df[df[\"driver_gender\"] == \"M\" ]\n",
    "df_male.head() #The question we're trying to answer is whether male and female drivers tend to commit different types of traffic violations.\n",
    "df_female = df[df[\"driver_gender\"] == \"F\"]\n",
    "df_female.head()\n",
    "df_female.violation.value_counts() # committed crimes by females\n",
    "df_female.violation.value_counts(normalize=True) # to Express the counts as proportions we use normalize\n",
    "df_male.violation.value_counts() # committed crimes by male\n",
    "df_male.violation.value_counts(normalize=True) # violation proportions for male\n",
    "female_speeding = df_female[df_female[\"violation\"]== \"Speeding\" ]          #Comparing speeding outcomes by gender¶\n",
    "male_speeding = df_male[df_male.violation == \"Speeding\"]\n",
    "male_speeding.head()\n",
    "female_speeding.head()\n",
    "df_female.columns\n",
    "female_speeding.stop_outcome.value_counts() #penalties for speeding male drivers\n",
    "warning_prp_male = male_speeding.stop_outcome.value_counts(normalize=True)[1]\n",
    "warning_prp_male # warning proportion for male drivers\n",
    "warning_prp_fmale = female_speeding.stop_outcome.value_counts(normalize=True)[1]\n",
    "warning_prp_fmale\n",
    "\n",
    "df[\"search_conducted\"].dtype\n",
    "df[\"search_conducted\"]=df.search_conducted.astype(\"bool\")\n",
    "df[\"search_conducted\"].dtype\n",
    "search = df[[\"search_conducted\"]].sum() # only counts the true ones\n",
    "df.search_conducted.value_counts(normalize=True) # Calculate the search rate by counting the values\n",
    "df.search_conducted.mean() # Calculate the search rate by taking the mean\n",
    "#df.loc[236912,['search_conducted', 'search_type_raw']]\n",
    "df.columns\n",
    "## Comparing search rates by gender\n",
    "df_female[[\"search_conducted\"]].mean()\n",
    "df_male.search_conducted.value_counts(normalize=True)\n",
    "#Filter the DataFrame to only include male drivers, and then repeat the search rate calculation.\n",
    "df_male[[\"search_conducted\"]].mean()\n",
    "df[[\"search_conducted\",\"driver_gender\"]].groupby(\"driver_gender\").mean() # proportion of search for each gender\n",
    "#Group by driver gender to calculate the search rate for both groups simultaneously. \n",
    "## Adding a second factor to the analysis\n",
    "df.groupby([\"driver_gender\",\"violation\"] ).search_conducted.mean()\n",
    "df.columns\n",
    "df.groupby([\"violation\",\"driver_gender\"] ).search_conducted.mean()\n",
    "## Counting protective frisks\n",
    "df[df.search_type.notnull()][[\"search_type\",\"driver_gender\"] ]\n",
    "df[df.search_type == \"Protective Frisk\"][\"search_type\"].count() # 89 times protective frisk was only search type\n",
    "frisk_bool = df[\"frisk\"] = df.search_type.str.contains(\"Protective Frisk\",na = False)\n",
    "df[df.frisk == True][\"frisk\"]\n",
    "frisk_bool.dtype\n",
    "frisk_sum = df[df.frisk == True][\"frisk\"].sum()\n",
    "frisk_sum\n",
    "import numpy as np\n",
    "## Comparing frisk rates by gender\n",
    "df_search = df[df.search_conducted == True]\n",
    "df_search.head(3)\n",
    "df_search.groupby([\"driver_gender\"]).frisk.mean()\n",
    "\n",
    "\n",
    "\n"
   ]
  },
  {
   "cell_type": "markdown",
   "metadata": {},
   "source": [
    "# Calculating the hourly arrest rate¶"
   ]
  },
  {
   "cell_type": "code",
   "execution_count": 86,
   "metadata": {},
   "outputs": [
    {
     "data": {
      "text/plain": [
       "0.03491436100131752"
      ]
     },
     "execution_count": 86,
     "metadata": {},
     "output_type": "execute_result"
    }
   ],
   "source": [
    "df[\"is_arrested\"].mean()"
   ]
  },
  {
   "cell_type": "code",
   "execution_count": 87,
   "metadata": {},
   "outputs": [],
   "source": [
    "hourly_arrest_rate = df.groupby(df.index.hour).is_arrested.mean()"
   ]
  },
  {
   "cell_type": "code",
   "execution_count": 88,
   "metadata": {},
   "outputs": [
    {
     "data": {
      "text/plain": [
       "stop_datetime\n",
       "0     0.046207\n",
       "1     0.061641\n",
       "2     0.059835\n",
       "3     0.057866\n",
       "4     0.056000\n",
       "5     0.019417\n",
       "6     0.014577\n",
       "7     0.014561\n",
       "8     0.020725\n",
       "9     0.022533\n",
       "10    0.027027\n",
       "11    0.031028\n",
       "12    0.032770\n",
       "13    0.027305\n",
       "14    0.032099\n",
       "15    0.029493\n",
       "16    0.034826\n",
       "17    0.045390\n",
       "18    0.038835\n",
       "19    0.035878\n",
       "20    0.035861\n",
       "21    0.075691\n",
       "22    0.048456\n",
       "23    0.047536\n",
       "Name: is_arrested, dtype: float64"
      ]
     },
     "execution_count": 88,
     "metadata": {},
     "output_type": "execute_result"
    }
   ],
   "source": [
    "hourly_arrest_rate"
   ]
  },
  {
   "cell_type": "code",
   "execution_count": null,
   "metadata": {},
   "outputs": [],
   "source": []
  },
  {
   "cell_type": "markdown",
   "metadata": {},
   "source": [
    "***"
   ]
  },
  {
   "cell_type": "markdown",
   "metadata": {},
   "source": [
    "## Plotting the hourly arrest rate"
   ]
  },
  {
   "cell_type": "code",
   "execution_count": 89,
   "metadata": {},
   "outputs": [],
   "source": [
    "import matplotlib.pyplot as plt"
   ]
  },
  {
   "cell_type": "code",
   "execution_count": 90,
   "metadata": {},
   "outputs": [
    {
     "data": {
      "image/png": "[encoded data removed]",
      "text/plain": [
       "<Figure size 432x288 with 1 Axes>"
      ]
     },
     "metadata": {
      "needs_background": "light"
     },
     "output_type": "display_data"
    }
   ],
   "source": [
    "fig = plt.figure()\n",
    "axes1 = fig.add_axes([0.1,0.1,0.8,0.8])\n",
    "axes1.plot(hourly_arrest_rate)\n",
    "axes1.set_xlabel(\"Hour\")\n",
    "axes1.set_ylabel(\"Arrest Rate\")\n",
    "axes1.set_title(\"Arrest Rate by Time of Day\")\n",
    "plt.show()"
   ]
  },
  {
   "cell_type": "markdown",
   "metadata": {},
   "source": [
    "***"
   ]
  },
  {
   "cell_type": "markdown",
   "metadata": {},
   "source": [
    "## Plotting drug-related stops"
   ]
  },
  {
   "cell_type": "code",
   "execution_count": 91,
   "metadata": {},
   "outputs": [
    {
     "data": {
      "text/plain": [
       "stop_datetime\n",
       "0     0.023104\n",
       "1     0.022173\n",
       "2     0.015818\n",
       "3     0.016275\n",
       "4     0.024000\n",
       "5     0.009709\n",
       "6     0.002332\n",
       "7     0.000857\n",
       "8     0.005922\n",
       "9     0.005134\n",
       "10    0.006822\n",
       "11    0.008403\n",
       "12    0.006871\n",
       "13    0.007123\n",
       "14    0.005291\n",
       "15    0.008651\n",
       "16    0.005970\n",
       "17    0.010638\n",
       "18    0.008826\n",
       "19    0.007634\n",
       "20    0.008818\n",
       "21    0.014556\n",
       "22    0.013845\n",
       "23    0.015961\n",
       "Name: drugs_related_stop, dtype: float64"
      ]
     },
     "execution_count": 91,
     "metadata": {},
     "output_type": "execute_result"
    }
   ],
   "source": [
    "annual_drugs_rate = df.drugs_related_stop.groupby(df.index.hour).mean()\n",
    "annual_drugs_rate"
   ]
  },
  {
   "cell_type": "code",
   "execution_count": 92,
   "metadata": {},
   "outputs": [
    {
     "data": {
      "text/plain": [
       "Text(0, 0.5, 'Drugs Rate')"
      ]
     },
     "execution_count": 92,
     "metadata": {},
     "output_type": "execute_result"
    },
    {
     "data": {
      "image/png": "[encoded data removed]",
      "text/plain": [
       "<Figure size 432x288 with 1 Axes>"
      ]
     },
     "metadata": {
      "needs_background": "light"
     },
     "output_type": "display_data"
    }
   ],
   "source": [
    "plt.plot(annual_drugs_rate)\n",
    "plt.xlabel(\"Hour\")\n",
    "plt.ylabel(\"Drugs Rate\")"
   ]
  },
  {
   "cell_type": "markdown",
   "metadata": {},
   "source": [
    "***"
   ]
  },
  {
   "cell_type": "markdown",
   "metadata": {},
   "source": [
    "## Comparing drug and search rates (to be deleted)"
   ]
  },
  {
   "cell_type": "code",
   "execution_count": 93,
   "metadata": {
    "scrolled": true
   },
   "outputs": [
    {
     "data": {
      "text/plain": [
       "stop_datetime\n",
       "2005    0.045593\n",
       "2006    0.044564\n",
       "2007    0.044353\n",
       "2008    0.042223\n",
       "2009    0.049373\n",
       "2010    0.043467\n",
       "2011    0.037857\n",
       "2012    0.034033\n",
       "2013    0.030744\n",
       "2014    0.029949\n",
       "2015    0.027617\n",
       "Name: search_conducted, dtype: float64"
      ]
     },
     "execution_count": 93,
     "metadata": {},
     "output_type": "execute_result"
    }
   ],
   "source": [
    "annual_drugs_rate = df.drugs_related_stop.groupby(df.index.year).mean()\n",
    "annual_search_rate = df.search_conducted.groupby(df.index.year).mean()\n",
    "annual_search_rate"
   ]
  },
  {
   "cell_type": "code",
   "execution_count": 94,
   "metadata": {},
   "outputs": [
    {
     "data": {
      "text/plain": [
       "stop_datetime\n",
       "2005-12-31    0.004559\n",
       "2006-12-31    0.007027\n",
       "2007-12-31    0.006982\n",
       "2008-12-31    0.007657\n",
       "2009-12-31    0.008020\n",
       "2010-12-31    0.010212\n",
       "2011-12-31    0.012381\n",
       "2012-12-31    0.009875\n",
       "2013-12-31    0.011916\n",
       "2014-12-31    0.012957\n",
       "2015-12-31    0.010907\n",
       "Freq: A-DEC, Name: drugs_related_stop, dtype: float64"
      ]
     },
     "execution_count": 94,
     "metadata": {},
     "output_type": "execute_result"
    }
   ],
   "source": [
    "df.drugs_related_stop.resample(\"A\").mean()"
   ]
  },
  {
   "cell_type": "code",
   "execution_count": 95,
   "metadata": {},
   "outputs": [
    {
     "data": {
      "text/html": [
       "<div>\n",
       "<style scoped>\n",
       "    .dataframe tbody tr th:only-of-type {\n",
       "        vertical-align: middle;\n",
       "    }\n",
       "\n",
       "    .dataframe tbody tr th {\n",
       "        vertical-align: top;\n",
       "    }\n",
       "\n",
       "    .dataframe thead th {\n",
       "        text-align: right;\n",
       "    }\n",
       "</style>\n",
       "<table border=\"1\" class=\"dataframe\">\n",
       "  <thead>\n",
       "    <tr style=\"text-align: right;\">\n",
       "      <th></th>\n",
       "      <th>drugs_related_stop</th>\n",
       "      <th>search_conducted</th>\n",
       "    </tr>\n",
       "    <tr>\n",
       "      <th>stop_datetime</th>\n",
       "      <th></th>\n",
       "      <th></th>\n",
       "    </tr>\n",
       "  </thead>\n",
       "  <tbody>\n",
       "    <tr>\n",
       "      <th>2005</th>\n",
       "      <td>0.004559</td>\n",
       "      <td>0.045593</td>\n",
       "    </tr>\n",
       "    <tr>\n",
       "      <th>2006</th>\n",
       "      <td>0.007027</td>\n",
       "      <td>0.044564</td>\n",
       "    </tr>\n",
       "    <tr>\n",
       "      <th>2007</th>\n",
       "      <td>0.006982</td>\n",
       "      <td>0.044353</td>\n",
       "    </tr>\n",
       "    <tr>\n",
       "      <th>2008</th>\n",
       "      <td>0.007657</td>\n",
       "      <td>0.042223</td>\n",
       "    </tr>\n",
       "    <tr>\n",
       "      <th>2009</th>\n",
       "      <td>0.008020</td>\n",
       "      <td>0.049373</td>\n",
       "    </tr>\n",
       "    <tr>\n",
       "      <th>2010</th>\n",
       "      <td>0.010212</td>\n",
       "      <td>0.043467</td>\n",
       "    </tr>\n",
       "    <tr>\n",
       "      <th>2011</th>\n",
       "      <td>0.012381</td>\n",
       "      <td>0.037857</td>\n",
       "    </tr>\n",
       "    <tr>\n",
       "      <th>2012</th>\n",
       "      <td>0.009875</td>\n",
       "      <td>0.034033</td>\n",
       "    </tr>\n",
       "    <tr>\n",
       "      <th>2013</th>\n",
       "      <td>0.011916</td>\n",
       "      <td>0.030744</td>\n",
       "    </tr>\n",
       "    <tr>\n",
       "      <th>2014</th>\n",
       "      <td>0.012957</td>\n",
       "      <td>0.029949</td>\n",
       "    </tr>\n",
       "    <tr>\n",
       "      <th>2015</th>\n",
       "      <td>0.010907</td>\n",
       "      <td>0.027617</td>\n",
       "    </tr>\n",
       "  </tbody>\n",
       "</table>\n",
       "</div>"
      ],
      "text/plain": [
       "               drugs_related_stop  search_conducted\n",
       "stop_datetime                                      \n",
       "2005                     0.004559          0.045593\n",
       "2006                     0.007027          0.044564\n",
       "2007                     0.006982          0.044353\n",
       "2008                     0.007657          0.042223\n",
       "2009                     0.008020          0.049373\n",
       "2010                     0.010212          0.043467\n",
       "2011                     0.012381          0.037857\n",
       "2012                     0.009875          0.034033\n",
       "2013                     0.011916          0.030744\n",
       "2014                     0.012957          0.029949\n",
       "2015                     0.010907          0.027617"
      ]
     },
     "execution_count": 95,
     "metadata": {},
     "output_type": "execute_result"
    }
   ],
   "source": [
    "annual = pd.concat([annual_drugs_rate,annual_search_rate],axis=\"columns\")\n",
    "annual"
   ]
  },
  {
   "cell_type": "code",
   "execution_count": 96,
   "metadata": {},
   "outputs": [
    {
     "data": {
      "text/plain": [
       "[<matplotlib.lines.Line2D at 0x1d5367e6160>,\n",
       " <matplotlib.lines.Line2D at 0x1d5367e6250>]"
      ]
     },
     "execution_count": 96,
     "metadata": {},
     "output_type": "execute_result"
    },
    {
     "data": {
      "image/png": "[encoded data removed]",
      "text/plain": [
       "<Figure size 432x288 with 1 Axes>"
      ]
     },
     "metadata": {
      "needs_background": "light"
     },
     "output_type": "display_data"
    }
   ],
   "source": [
    "plt.plot(annual)"
   ]
  },
  {
   "cell_type": "code",
   "execution_count": 97,
   "metadata": {},
   "outputs": [
    {
     "data": {
      "text/plain": [
       "stop_datetime\n",
       "2005    0.004559\n",
       "2006    0.007027\n",
       "2007    0.006982\n",
       "2008    0.007657\n",
       "2009    0.008020\n",
       "2010    0.010212\n",
       "2011    0.012381\n",
       "2012    0.009875\n",
       "2013    0.011916\n",
       "2014    0.012957\n",
       "2015    0.010907\n",
       "Name: drugs_related_stop, dtype: float64"
      ]
     },
     "execution_count": 97,
     "metadata": {},
     "output_type": "execute_result"
    }
   ],
   "source": [
    "annual_drugs_rate"
   ]
  },
  {
   "cell_type": "code",
   "execution_count": 98,
   "metadata": {},
   "outputs": [
    {
     "data": {
      "text/plain": [
       "<matplotlib.legend.Legend at 0x1d53650ae80>"
      ]
     },
     "execution_count": 98,
     "metadata": {},
     "output_type": "execute_result"
    },
    {
     "data": {
      "image/png": "[encoded data removed]",
      "text/plain": [
       "<Figure size 432x288 with 1 Axes>"
      ]
     },
     "metadata": {
      "needs_background": "light"
     },
     "output_type": "display_data"
    }
   ],
   "source": [
    "fig = plt.figure()\n",
    "ax1 = fig.add_axes([0,0,1,1])\n",
    "ax1.plot(annual_drugs_rate,label=\"drugs related stop\") # while drugs related stop increasing year by year search rate decreasing year by year\n",
    "ax1.plot(annual_search_rate, label= \"search rate\")\n",
    "plt.legend()"
   ]
  },
  {
   "cell_type": "code",
   "execution_count": 99,
   "metadata": {},
   "outputs": [
    {
     "data": {
      "text/plain": [
       "[<matplotlib.lines.Line2D at 0x1d539883ac0>]"
      ]
     },
     "execution_count": 99,
     "metadata": {},
     "output_type": "execute_result"
    },
    {
     "data": {
      "image/png": "[encoded data removed]",
      "text/plain": [
       "<Figure size 432x288 with 1 Axes>"
      ]
     },
     "metadata": {
      "needs_background": "light"
     },
     "output_type": "display_data"
    }
   ],
   "source": [
    "fig = plt.figure()\n",
    "ax2 = fig.add_axes([0,0,1,1])\n",
    "ax2.plot(annual_search_rate)"
   ]
  },
  {
   "cell_type": "markdown",
   "metadata": {},
   "source": [
    "***"
   ]
  },
  {
   "cell_type": "markdown",
   "metadata": {},
   "source": [
    "## Tallying violations by district"
   ]
  },
  {
   "cell_type": "code",
   "execution_count": 100,
   "metadata": {},
   "outputs": [
    {
     "data": {
      "text/html": [
       "<div>\n",
       "<style scoped>\n",
       "    .dataframe tbody tr th:only-of-type {\n",
       "        vertical-align: middle;\n",
       "    }\n",
       "\n",
       "    .dataframe tbody tr th {\n",
       "        vertical-align: top;\n",
       "    }\n",
       "\n",
       "    .dataframe thead th {\n",
       "        text-align: right;\n",
       "    }\n",
       "</style>\n",
       "<table border=\"1\" class=\"dataframe\">\n",
       "  <thead>\n",
       "    <tr style=\"text-align: right;\">\n",
       "      <th>violation_raw</th>\n",
       "      <th>APB</th>\n",
       "      <th>Call for Service</th>\n",
       "      <th>Equipment/Inspection Violation</th>\n",
       "      <th>Motorist Assist/Courtesy</th>\n",
       "      <th>Other Traffic Violation</th>\n",
       "      <th>Registration Violation</th>\n",
       "      <th>Seatbelt Violation</th>\n",
       "      <th>Special Detail/Directed Patrol</th>\n",
       "      <th>Speeding</th>\n",
       "      <th>Suspicious Person</th>\n",
       "      <th>Violation of City/Town Ordinance</th>\n",
       "      <th>Warrant</th>\n",
       "    </tr>\n",
       "    <tr>\n",
       "      <th>location_raw</th>\n",
       "      <th></th>\n",
       "      <th></th>\n",
       "      <th></th>\n",
       "      <th></th>\n",
       "      <th></th>\n",
       "      <th></th>\n",
       "      <th></th>\n",
       "      <th></th>\n",
       "      <th></th>\n",
       "      <th></th>\n",
       "      <th></th>\n",
       "      <th></th>\n",
       "    </tr>\n",
       "  </thead>\n",
       "  <tbody>\n",
       "    <tr>\n",
       "      <th>Zone K1</th>\n",
       "      <td>3</td>\n",
       "      <td>23</td>\n",
       "      <td>371</td>\n",
       "      <td>11</td>\n",
       "      <td>682</td>\n",
       "      <td>52</td>\n",
       "      <td>0</td>\n",
       "      <td>97</td>\n",
       "      <td>3303</td>\n",
       "      <td>4</td>\n",
       "      <td>1</td>\n",
       "      <td>1</td>\n",
       "    </tr>\n",
       "    <tr>\n",
       "      <th>Zone K2</th>\n",
       "      <td>11</td>\n",
       "      <td>102</td>\n",
       "      <td>1140</td>\n",
       "      <td>11</td>\n",
       "      <td>1618</td>\n",
       "      <td>377</td>\n",
       "      <td>284</td>\n",
       "      <td>357</td>\n",
       "      <td>5636</td>\n",
       "      <td>7</td>\n",
       "      <td>30</td>\n",
       "      <td>2</td>\n",
       "    </tr>\n",
       "    <tr>\n",
       "      <th>Zone K3</th>\n",
       "      <td>7</td>\n",
       "      <td>117</td>\n",
       "      <td>1241</td>\n",
       "      <td>28</td>\n",
       "      <td>1559</td>\n",
       "      <td>392</td>\n",
       "      <td>351</td>\n",
       "      <td>203</td>\n",
       "      <td>6746</td>\n",
       "      <td>5</td>\n",
       "      <td>25</td>\n",
       "      <td>2</td>\n",
       "    </tr>\n",
       "    <tr>\n",
       "      <th>Zone X1</th>\n",
       "      <td>1</td>\n",
       "      <td>19</td>\n",
       "      <td>166</td>\n",
       "      <td>4</td>\n",
       "      <td>349</td>\n",
       "      <td>18</td>\n",
       "      <td>46</td>\n",
       "      <td>61</td>\n",
       "      <td>586</td>\n",
       "      <td>1</td>\n",
       "      <td>1</td>\n",
       "      <td>0</td>\n",
       "    </tr>\n",
       "    <tr>\n",
       "      <th>Zone X3</th>\n",
       "      <td>6</td>\n",
       "      <td>138</td>\n",
       "      <td>1090</td>\n",
       "      <td>34</td>\n",
       "      <td>1682</td>\n",
       "      <td>358</td>\n",
       "      <td>436</td>\n",
       "      <td>198</td>\n",
       "      <td>4755</td>\n",
       "      <td>3</td>\n",
       "      <td>33</td>\n",
       "      <td>7</td>\n",
       "    </tr>\n",
       "    <tr>\n",
       "      <th>Zone X4</th>\n",
       "      <td>11</td>\n",
       "      <td>324</td>\n",
       "      <td>1933</td>\n",
       "      <td>15</td>\n",
       "      <td>2881</td>\n",
       "      <td>701</td>\n",
       "      <td>473</td>\n",
       "      <td>449</td>\n",
       "      <td>5438</td>\n",
       "      <td>11</td>\n",
       "      <td>28</td>\n",
       "      <td>3</td>\n",
       "    </tr>\n",
       "  </tbody>\n",
       "</table>\n",
       "</div>"
      ],
      "text/plain": [
       "violation_raw  APB  Call for Service  Equipment/Inspection Violation  \\\n",
       "location_raw                                                           \n",
       "Zone K1          3                23                             371   \n",
       "Zone K2         11               102                            1140   \n",
       "Zone K3          7               117                            1241   \n",
       "Zone X1          1                19                             166   \n",
       "Zone X3          6               138                            1090   \n",
       "Zone X4         11               324                            1933   \n",
       "\n",
       "violation_raw  Motorist Assist/Courtesy  Other Traffic Violation  \\\n",
       "location_raw                                                       \n",
       "Zone K1                              11                      682   \n",
       "Zone K2                              11                     1618   \n",
       "Zone K3                              28                     1559   \n",
       "Zone X1                               4                      349   \n",
       "Zone X3                              34                     1682   \n",
       "Zone X4                              15                     2881   \n",
       "\n",
       "violation_raw  Registration Violation  Seatbelt Violation  \\\n",
       "location_raw                                                \n",
       "Zone K1                            52                   0   \n",
       "Zone K2                           377                 284   \n",
       "Zone K3                           392                 351   \n",
       "Zone X1                            18                  46   \n",
       "Zone X3                           358                 436   \n",
       "Zone X4                           701                 473   \n",
       "\n",
       "violation_raw  Special Detail/Directed Patrol  Speeding  Suspicious Person  \\\n",
       "location_raw                                                                 \n",
       "Zone K1                                    97      3303                  4   \n",
       "Zone K2                                   357      5636                  7   \n",
       "Zone K3                                   203      6746                  5   \n",
       "Zone X1                                    61       586                  1   \n",
       "Zone X3                                   198      4755                  3   \n",
       "Zone X4                                   449      5438                 11   \n",
       "\n",
       "violation_raw  Violation of City/Town Ordinance  Warrant  \n",
       "location_raw                                              \n",
       "Zone K1                                       1        1  \n",
       "Zone K2                                      30        2  \n",
       "Zone K3                                      25        2  \n",
       "Zone X1                                       1        0  \n",
       "Zone X3                                      33        7  \n",
       "Zone X4                                      28        3  "
      ]
     },
     "execution_count": 100,
     "metadata": {},
     "output_type": "execute_result"
    }
   ],
   "source": [
    "all_zones = pd.crosstab(df.location_raw,df.violation_raw)\n",
    "all_zones"
   ]
  },
  {
   "cell_type": "code",
   "execution_count": 101,
   "metadata": {},
   "outputs": [],
   "source": [
    "k_zones = all_zones.loc[\"Zone K1\":\"Zone K3\"]"
   ]
  },
  {
   "cell_type": "code",
   "execution_count": 102,
   "metadata": {},
   "outputs": [
    {
     "data": {
      "text/html": [
       "<div>\n",
       "<style scoped>\n",
       "    .dataframe tbody tr th:only-of-type {\n",
       "        vertical-align: middle;\n",
       "    }\n",
       "\n",
       "    .dataframe tbody tr th {\n",
       "        vertical-align: top;\n",
       "    }\n",
       "\n",
       "    .dataframe thead th {\n",
       "        text-align: right;\n",
       "    }\n",
       "</style>\n",
       "<table border=\"1\" class=\"dataframe\">\n",
       "  <thead>\n",
       "    <tr style=\"text-align: right;\">\n",
       "      <th>violation_raw</th>\n",
       "      <th>APB</th>\n",
       "      <th>Call for Service</th>\n",
       "      <th>Equipment/Inspection Violation</th>\n",
       "      <th>Motorist Assist/Courtesy</th>\n",
       "      <th>Other Traffic Violation</th>\n",
       "      <th>Registration Violation</th>\n",
       "      <th>Seatbelt Violation</th>\n",
       "      <th>Special Detail/Directed Patrol</th>\n",
       "      <th>Speeding</th>\n",
       "      <th>Suspicious Person</th>\n",
       "      <th>Violation of City/Town Ordinance</th>\n",
       "      <th>Warrant</th>\n",
       "    </tr>\n",
       "    <tr>\n",
       "      <th>location_raw</th>\n",
       "      <th></th>\n",
       "      <th></th>\n",
       "      <th></th>\n",
       "      <th></th>\n",
       "      <th></th>\n",
       "      <th></th>\n",
       "      <th></th>\n",
       "      <th></th>\n",
       "      <th></th>\n",
       "      <th></th>\n",
       "      <th></th>\n",
       "      <th></th>\n",
       "    </tr>\n",
       "  </thead>\n",
       "  <tbody>\n",
       "    <tr>\n",
       "      <th>Zone K1</th>\n",
       "      <td>3</td>\n",
       "      <td>23</td>\n",
       "      <td>371</td>\n",
       "      <td>11</td>\n",
       "      <td>682</td>\n",
       "      <td>52</td>\n",
       "      <td>0</td>\n",
       "      <td>97</td>\n",
       "      <td>3303</td>\n",
       "      <td>4</td>\n",
       "      <td>1</td>\n",
       "      <td>1</td>\n",
       "    </tr>\n",
       "    <tr>\n",
       "      <th>Zone K2</th>\n",
       "      <td>11</td>\n",
       "      <td>102</td>\n",
       "      <td>1140</td>\n",
       "      <td>11</td>\n",
       "      <td>1618</td>\n",
       "      <td>377</td>\n",
       "      <td>284</td>\n",
       "      <td>357</td>\n",
       "      <td>5636</td>\n",
       "      <td>7</td>\n",
       "      <td>30</td>\n",
       "      <td>2</td>\n",
       "    </tr>\n",
       "    <tr>\n",
       "      <th>Zone K3</th>\n",
       "      <td>7</td>\n",
       "      <td>117</td>\n",
       "      <td>1241</td>\n",
       "      <td>28</td>\n",
       "      <td>1559</td>\n",
       "      <td>392</td>\n",
       "      <td>351</td>\n",
       "      <td>203</td>\n",
       "      <td>6746</td>\n",
       "      <td>5</td>\n",
       "      <td>25</td>\n",
       "      <td>2</td>\n",
       "    </tr>\n",
       "  </tbody>\n",
       "</table>\n",
       "</div>"
      ],
      "text/plain": [
       "violation_raw  APB  Call for Service  Equipment/Inspection Violation  \\\n",
       "location_raw                                                           \n",
       "Zone K1          3                23                             371   \n",
       "Zone K2         11               102                            1140   \n",
       "Zone K3          7               117                            1241   \n",
       "\n",
       "violation_raw  Motorist Assist/Courtesy  Other Traffic Violation  \\\n",
       "location_raw                                                       \n",
       "Zone K1                              11                      682   \n",
       "Zone K2                              11                     1618   \n",
       "Zone K3                              28                     1559   \n",
       "\n",
       "violation_raw  Registration Violation  Seatbelt Violation  \\\n",
       "location_raw                                                \n",
       "Zone K1                            52                   0   \n",
       "Zone K2                           377                 284   \n",
       "Zone K3                           392                 351   \n",
       "\n",
       "violation_raw  Special Detail/Directed Patrol  Speeding  Suspicious Person  \\\n",
       "location_raw                                                                 \n",
       "Zone K1                                    97      3303                  4   \n",
       "Zone K2                                   357      5636                  7   \n",
       "Zone K3                                   203      6746                  5   \n",
       "\n",
       "violation_raw  Violation of City/Town Ordinance  Warrant  \n",
       "location_raw                                              \n",
       "Zone K1                                       1        1  \n",
       "Zone K2                                      30        2  \n",
       "Zone K3                                      25        2  "
      ]
     },
     "execution_count": 102,
     "metadata": {},
     "output_type": "execute_result"
    }
   ],
   "source": [
    "k_zones"
   ]
  },
  {
   "cell_type": "code",
   "execution_count": 103,
   "metadata": {},
   "outputs": [
    {
     "data": {
      "text/plain": [
       "Index(['id', 'stop_date', 'stop_time', 'location_raw', 'police_department',\n",
       "       'driver_gender', 'driver_age_raw', 'driver_age', 'driver_race_raw',\n",
       "       'driver_race', 'violation_raw', 'violation', 'search_conducted',\n",
       "       'search_type_raw', 'search_type', 'contraband_found', 'stop_outcome',\n",
       "       'is_arrested', 'stop_duration', 'out_of_state', 'drugs_related_stop',\n",
       "       'district', 'stop_datetime', 'frisk'],\n",
       "      dtype='object')"
      ]
     },
     "execution_count": 103,
     "metadata": {},
     "output_type": "execute_result"
    }
   ],
   "source": [
    "df.columns"
   ]
  },
  {
   "cell_type": "markdown",
   "metadata": {},
   "source": [
    "***"
   ]
  },
  {
   "cell_type": "markdown",
   "metadata": {},
   "source": [
    "## Plotting violations by district"
   ]
  },
  {
   "cell_type": "code",
   "execution_count": 104,
   "metadata": {},
   "outputs": [
    {
     "data": {
      "text/plain": [
       "<matplotlib.axes._subplots.AxesSubplot at 0x1d539aa24c0>"
      ]
     },
     "execution_count": 104,
     "metadata": {},
     "output_type": "execute_result"
    },
    {
     "data": {
      "image/png": "[encoded data removed]",
      "text/plain": [
       "<Figure size 720x360 with 1 Axes>"
      ]
     },
     "metadata": {
      "needs_background": "light"
     },
     "output_type": "display_data"
    }
   ],
   "source": [
    "k_zones.plot(kind=\"bar\",figsize=(10,5)) # most violation each zone is speeding violation"
   ]
  },
  {
   "cell_type": "code",
   "execution_count": 105,
   "metadata": {},
   "outputs": [
    {
     "data": {
      "text/plain": [
       "<matplotlib.axes._subplots.AxesSubplot at 0x1d539ec5d00>"
      ]
     },
     "execution_count": 105,
     "metadata": {},
     "output_type": "execute_result"
    },
    {
     "data": {
      "image/png": "[encoded data removed]",
      "text/plain": [
       "<Figure size 720x504 with 1 Axes>"
      ]
     },
     "metadata": {
      "needs_background": "light"
     },
     "output_type": "display_data"
    }
   ],
   "source": [
    "k_zones.plot(kind=\"bar\",stacked=True,figsize=(10,7)) # less clear and understanable than non-stucked bar plot"
   ]
  },
  {
   "cell_type": "markdown",
   "metadata": {},
   "source": [
    "***"
   ]
  },
  {
   "cell_type": "markdown",
   "metadata": {},
   "source": [
    "## Converting stop durations to numbers"
   ]
  },
  {
   "cell_type": "code",
   "execution_count": 106,
   "metadata": {},
   "outputs": [
    {
     "data": {
      "text/plain": [
       "array(['0-15 Min', '16-30 Min', '30+ Min', '1'], dtype=object)"
      ]
     },
     "execution_count": 106,
     "metadata": {},
     "output_type": "execute_result"
    }
   ],
   "source": [
    "df.stop_duration.unique()"
   ]
  },
  {
   "cell_type": "code",
   "execution_count": 107,
   "metadata": {},
   "outputs": [],
   "source": [
    "mapp = {\"0-15 Min\": 8,\"16-30 Min\":23, \"30+ Min\":45}"
   ]
  },
  {
   "cell_type": "code",
   "execution_count": 108,
   "metadata": {},
   "outputs": [
    {
     "data": {
      "text/html": [
       "<div>\n",
       "<style scoped>\n",
       "    .dataframe tbody tr th:only-of-type {\n",
       "        vertical-align: middle;\n",
       "    }\n",
       "\n",
       "    .dataframe tbody tr th {\n",
       "        vertical-align: top;\n",
       "    }\n",
       "\n",
       "    .dataframe thead th {\n",
       "        text-align: right;\n",
       "    }\n",
       "</style>\n",
       "<table border=\"1\" class=\"dataframe\">\n",
       "  <thead>\n",
       "    <tr style=\"text-align: right;\">\n",
       "      <th></th>\n",
       "      <th>id</th>\n",
       "      <th>stop_date</th>\n",
       "      <th>stop_time</th>\n",
       "      <th>location_raw</th>\n",
       "      <th>police_department</th>\n",
       "      <th>driver_gender</th>\n",
       "      <th>driver_age_raw</th>\n",
       "      <th>driver_age</th>\n",
       "      <th>driver_race_raw</th>\n",
       "      <th>driver_race</th>\n",
       "      <th>...</th>\n",
       "      <th>contraband_found</th>\n",
       "      <th>stop_outcome</th>\n",
       "      <th>is_arrested</th>\n",
       "      <th>stop_duration</th>\n",
       "      <th>out_of_state</th>\n",
       "      <th>drugs_related_stop</th>\n",
       "      <th>district</th>\n",
       "      <th>stop_datetime</th>\n",
       "      <th>frisk</th>\n",
       "      <th>stop_minutes</th>\n",
       "    </tr>\n",
       "    <tr>\n",
       "      <th>stop_datetime</th>\n",
       "      <th></th>\n",
       "      <th></th>\n",
       "      <th></th>\n",
       "      <th></th>\n",
       "      <th></th>\n",
       "      <th></th>\n",
       "      <th></th>\n",
       "      <th></th>\n",
       "      <th></th>\n",
       "      <th></th>\n",
       "      <th></th>\n",
       "      <th></th>\n",
       "      <th></th>\n",
       "      <th></th>\n",
       "      <th></th>\n",
       "      <th></th>\n",
       "      <th></th>\n",
       "      <th></th>\n",
       "      <th></th>\n",
       "      <th></th>\n",
       "      <th></th>\n",
       "    </tr>\n",
       "  </thead>\n",
       "  <tbody>\n",
       "    <tr>\n",
       "      <th>2008-07-28 19:13:00</th>\n",
       "      <td>RI-2008-27978</td>\n",
       "      <td>2008-07-28</td>\n",
       "      <td>19:13</td>\n",
       "      <td>Zone X4</td>\n",
       "      <td>300</td>\n",
       "      <td>M</td>\n",
       "      <td>1971.0</td>\n",
       "      <td>37.0</td>\n",
       "      <td>B</td>\n",
       "      <td>Black</td>\n",
       "      <td>...</td>\n",
       "      <td>False</td>\n",
       "      <td>Citation</td>\n",
       "      <td>False</td>\n",
       "      <td>0-15 Min</td>\n",
       "      <td>True</td>\n",
       "      <td>False</td>\n",
       "      <td>Zone X4</td>\n",
       "      <td>2008-07-28 19:13:00</td>\n",
       "      <td>False</td>\n",
       "      <td>8.0</td>\n",
       "    </tr>\n",
       "    <tr>\n",
       "      <th>2008-02-07 20:20:00</th>\n",
       "      <td>RI-2008-05302</td>\n",
       "      <td>2008-02-07</td>\n",
       "      <td>20:20</td>\n",
       "      <td>Zone K3</td>\n",
       "      <td>300</td>\n",
       "      <td>M</td>\n",
       "      <td>1967.0</td>\n",
       "      <td>41.0</td>\n",
       "      <td>W</td>\n",
       "      <td>White</td>\n",
       "      <td>...</td>\n",
       "      <td>False</td>\n",
       "      <td>Citation</td>\n",
       "      <td>False</td>\n",
       "      <td>0-15 Min</td>\n",
       "      <td>False</td>\n",
       "      <td>False</td>\n",
       "      <td>Zone K3</td>\n",
       "      <td>2008-02-07 20:20:00</td>\n",
       "      <td>False</td>\n",
       "      <td>8.0</td>\n",
       "    </tr>\n",
       "    <tr>\n",
       "      <th>2008-01-26 19:59:00</th>\n",
       "      <td>RI-2008-03611</td>\n",
       "      <td>2008-01-26</td>\n",
       "      <td>19:59</td>\n",
       "      <td>Zone K3</td>\n",
       "      <td>300</td>\n",
       "      <td>M</td>\n",
       "      <td>1986.0</td>\n",
       "      <td>22.0</td>\n",
       "      <td>W</td>\n",
       "      <td>White</td>\n",
       "      <td>...</td>\n",
       "      <td>False</td>\n",
       "      <td>Citation</td>\n",
       "      <td>False</td>\n",
       "      <td>0-15 Min</td>\n",
       "      <td>True</td>\n",
       "      <td>False</td>\n",
       "      <td>Zone K3</td>\n",
       "      <td>2008-01-26 19:59:00</td>\n",
       "      <td>False</td>\n",
       "      <td>8.0</td>\n",
       "    </tr>\n",
       "    <tr>\n",
       "      <th>2014-12-28 17:23:00</th>\n",
       "      <td>RI-2014-50432</td>\n",
       "      <td>2014-12-28</td>\n",
       "      <td>17:23</td>\n",
       "      <td>Zone X4</td>\n",
       "      <td>500</td>\n",
       "      <td>F</td>\n",
       "      <td>1967.0</td>\n",
       "      <td>47.0</td>\n",
       "      <td>W</td>\n",
       "      <td>White</td>\n",
       "      <td>...</td>\n",
       "      <td>False</td>\n",
       "      <td>Citation</td>\n",
       "      <td>False</td>\n",
       "      <td>0-15 Min</td>\n",
       "      <td>True</td>\n",
       "      <td>False</td>\n",
       "      <td>Zone X4</td>\n",
       "      <td>2014-12-28 17:23:00</td>\n",
       "      <td>False</td>\n",
       "      <td>8.0</td>\n",
       "    </tr>\n",
       "    <tr>\n",
       "      <th>2008-07-24 15:17:00</th>\n",
       "      <td>RI-2008-27455</td>\n",
       "      <td>2008-07-24</td>\n",
       "      <td>15:17</td>\n",
       "      <td>Zone K2</td>\n",
       "      <td>900</td>\n",
       "      <td>M</td>\n",
       "      <td>1941.0</td>\n",
       "      <td>67.0</td>\n",
       "      <td>W</td>\n",
       "      <td>White</td>\n",
       "      <td>...</td>\n",
       "      <td>False</td>\n",
       "      <td>Citation</td>\n",
       "      <td>False</td>\n",
       "      <td>16-30 Min</td>\n",
       "      <td>False</td>\n",
       "      <td>False</td>\n",
       "      <td>Zone K2</td>\n",
       "      <td>2008-07-24 15:17:00</td>\n",
       "      <td>False</td>\n",
       "      <td>23.0</td>\n",
       "    </tr>\n",
       "    <tr>\n",
       "      <th>...</th>\n",
       "      <td>...</td>\n",
       "      <td>...</td>\n",
       "      <td>...</td>\n",
       "      <td>...</td>\n",
       "      <td>...</td>\n",
       "      <td>...</td>\n",
       "      <td>...</td>\n",
       "      <td>...</td>\n",
       "      <td>...</td>\n",
       "      <td>...</td>\n",
       "      <td>...</td>\n",
       "      <td>...</td>\n",
       "      <td>...</td>\n",
       "      <td>...</td>\n",
       "      <td>...</td>\n",
       "      <td>...</td>\n",
       "      <td>...</td>\n",
       "      <td>...</td>\n",
       "      <td>...</td>\n",
       "      <td>...</td>\n",
       "      <td>...</td>\n",
       "    </tr>\n",
       "    <tr>\n",
       "      <th>2011-01-01 13:23:00</th>\n",
       "      <td>RI-2011-00069</td>\n",
       "      <td>2011-01-01</td>\n",
       "      <td>13:23</td>\n",
       "      <td>Zone X3</td>\n",
       "      <td>200</td>\n",
       "      <td>F</td>\n",
       "      <td>1963.0</td>\n",
       "      <td>48.0</td>\n",
       "      <td>W</td>\n",
       "      <td>White</td>\n",
       "      <td>...</td>\n",
       "      <td>False</td>\n",
       "      <td>Citation</td>\n",
       "      <td>False</td>\n",
       "      <td>0-15 Min</td>\n",
       "      <td>True</td>\n",
       "      <td>False</td>\n",
       "      <td>Zone X3</td>\n",
       "      <td>2011-01-01 13:23:00</td>\n",
       "      <td>False</td>\n",
       "      <td>8.0</td>\n",
       "    </tr>\n",
       "    <tr>\n",
       "      <th>2009-04-21 11:02:00</th>\n",
       "      <td>RI-2009-15370</td>\n",
       "      <td>2009-04-21</td>\n",
       "      <td>11:02</td>\n",
       "      <td>Zone K3</td>\n",
       "      <td>300</td>\n",
       "      <td>M</td>\n",
       "      <td>1968.0</td>\n",
       "      <td>41.0</td>\n",
       "      <td>W</td>\n",
       "      <td>White</td>\n",
       "      <td>...</td>\n",
       "      <td>False</td>\n",
       "      <td>Citation</td>\n",
       "      <td>False</td>\n",
       "      <td>16-30 Min</td>\n",
       "      <td>True</td>\n",
       "      <td>False</td>\n",
       "      <td>Zone K3</td>\n",
       "      <td>2009-04-21 11:02:00</td>\n",
       "      <td>False</td>\n",
       "      <td>23.0</td>\n",
       "    </tr>\n",
       "    <tr>\n",
       "      <th>2008-08-15 15:21:00</th>\n",
       "      <td>RI-2008-30467</td>\n",
       "      <td>2008-08-15</td>\n",
       "      <td>15:21</td>\n",
       "      <td>Zone X4</td>\n",
       "      <td>500</td>\n",
       "      <td>M</td>\n",
       "      <td>1935.0</td>\n",
       "      <td>73.0</td>\n",
       "      <td>W</td>\n",
       "      <td>White</td>\n",
       "      <td>...</td>\n",
       "      <td>False</td>\n",
       "      <td>Citation</td>\n",
       "      <td>False</td>\n",
       "      <td>0-15 Min</td>\n",
       "      <td>True</td>\n",
       "      <td>False</td>\n",
       "      <td>Zone X4</td>\n",
       "      <td>2008-08-15 15:21:00</td>\n",
       "      <td>False</td>\n",
       "      <td>8.0</td>\n",
       "    </tr>\n",
       "    <tr>\n",
       "      <th>2012-03-18 07:27:00</th>\n",
       "      <td>RI-2012-16047</td>\n",
       "      <td>2012-03-18</td>\n",
       "      <td>07:27</td>\n",
       "      <td>Zone K2</td>\n",
       "      <td>900</td>\n",
       "      <td>M</td>\n",
       "      <td>1967.0</td>\n",
       "      <td>45.0</td>\n",
       "      <td>W</td>\n",
       "      <td>White</td>\n",
       "      <td>...</td>\n",
       "      <td>False</td>\n",
       "      <td>Citation</td>\n",
       "      <td>False</td>\n",
       "      <td>0-15 Min</td>\n",
       "      <td>True</td>\n",
       "      <td>False</td>\n",
       "      <td>Zone K2</td>\n",
       "      <td>2012-03-18 07:27:00</td>\n",
       "      <td>False</td>\n",
       "      <td>8.0</td>\n",
       "    </tr>\n",
       "    <tr>\n",
       "      <th>2009-11-21 13:21:00</th>\n",
       "      <td>RI-2009-39175</td>\n",
       "      <td>2009-11-21</td>\n",
       "      <td>13:21</td>\n",
       "      <td>Zone X3</td>\n",
       "      <td>200</td>\n",
       "      <td>F</td>\n",
       "      <td>1985.0</td>\n",
       "      <td>24.0</td>\n",
       "      <td>W</td>\n",
       "      <td>White</td>\n",
       "      <td>...</td>\n",
       "      <td>False</td>\n",
       "      <td>Citation</td>\n",
       "      <td>False</td>\n",
       "      <td>0-15 Min</td>\n",
       "      <td>True</td>\n",
       "      <td>False</td>\n",
       "      <td>Zone X3</td>\n",
       "      <td>2009-11-21 13:21:00</td>\n",
       "      <td>False</td>\n",
       "      <td>8.0</td>\n",
       "    </tr>\n",
       "  </tbody>\n",
       "</table>\n",
       "<p>47058 rows × 25 columns</p>\n",
       "</div>"
      ],
      "text/plain": [
       "                                id   stop_date stop_time location_raw  \\\n",
       "stop_datetime                                                           \n",
       "2008-07-28 19:13:00  RI-2008-27978  2008-07-28     19:13      Zone X4   \n",
       "2008-02-07 20:20:00  RI-2008-05302  2008-02-07     20:20      Zone K3   \n",
       "2008-01-26 19:59:00  RI-2008-03611  2008-01-26     19:59      Zone K3   \n",
       "2014-12-28 17:23:00  RI-2014-50432  2014-12-28     17:23      Zone X4   \n",
       "2008-07-24 15:17:00  RI-2008-27455  2008-07-24     15:17      Zone K2   \n",
       "...                            ...         ...       ...          ...   \n",
       "2011-01-01 13:23:00  RI-2011-00069  2011-01-01     13:23      Zone X3   \n",
       "2009-04-21 11:02:00  RI-2009-15370  2009-04-21     11:02      Zone K3   \n",
       "2008-08-15 15:21:00  RI-2008-30467  2008-08-15     15:21      Zone X4   \n",
       "2012-03-18 07:27:00  RI-2012-16047  2012-03-18     07:27      Zone K2   \n",
       "2009-11-21 13:21:00  RI-2009-39175  2009-11-21     13:21      Zone X3   \n",
       "\n",
       "                    police_department driver_gender  driver_age_raw  \\\n",
       "stop_datetime                                                         \n",
       "2008-07-28 19:13:00               300             M          1971.0   \n",
       "2008-02-07 20:20:00               300             M          1967.0   \n",
       "2008-01-26 19:59:00               300             M          1986.0   \n",
       "2014-12-28 17:23:00               500             F          1967.0   \n",
       "2008-07-24 15:17:00               900             M          1941.0   \n",
       "...                               ...           ...             ...   \n",
       "2011-01-01 13:23:00               200             F          1963.0   \n",
       "2009-04-21 11:02:00               300             M          1968.0   \n",
       "2008-08-15 15:21:00               500             M          1935.0   \n",
       "2012-03-18 07:27:00               900             M          1967.0   \n",
       "2009-11-21 13:21:00               200             F          1985.0   \n",
       "\n",
       "                     driver_age driver_race_raw driver_race  ...  \\\n",
       "stop_datetime                                                ...   \n",
       "2008-07-28 19:13:00        37.0               B       Black  ...   \n",
       "2008-02-07 20:20:00        41.0               W       White  ...   \n",
       "2008-01-26 19:59:00        22.0               W       White  ...   \n",
       "2014-12-28 17:23:00        47.0               W       White  ...   \n",
       "2008-07-24 15:17:00        67.0               W       White  ...   \n",
       "...                         ...             ...         ...  ...   \n",
       "2011-01-01 13:23:00        48.0               W       White  ...   \n",
       "2009-04-21 11:02:00        41.0               W       White  ...   \n",
       "2008-08-15 15:21:00        73.0               W       White  ...   \n",
       "2012-03-18 07:27:00        45.0               W       White  ...   \n",
       "2009-11-21 13:21:00        24.0               W       White  ...   \n",
       "\n",
       "                    contraband_found stop_outcome  is_arrested stop_duration  \\\n",
       "stop_datetime                                                                  \n",
       "2008-07-28 19:13:00            False     Citation        False      0-15 Min   \n",
       "2008-02-07 20:20:00            False     Citation        False      0-15 Min   \n",
       "2008-01-26 19:59:00            False     Citation        False      0-15 Min   \n",
       "2014-12-28 17:23:00            False     Citation        False      0-15 Min   \n",
       "2008-07-24 15:17:00            False     Citation        False     16-30 Min   \n",
       "...                              ...          ...          ...           ...   \n",
       "2011-01-01 13:23:00            False     Citation        False      0-15 Min   \n",
       "2009-04-21 11:02:00            False     Citation        False     16-30 Min   \n",
       "2008-08-15 15:21:00            False     Citation        False      0-15 Min   \n",
       "2012-03-18 07:27:00            False     Citation        False      0-15 Min   \n",
       "2009-11-21 13:21:00            False     Citation        False      0-15 Min   \n",
       "\n",
       "                    out_of_state  drugs_related_stop district  \\\n",
       "stop_datetime                                                   \n",
       "2008-07-28 19:13:00         True               False  Zone X4   \n",
       "2008-02-07 20:20:00        False               False  Zone K3   \n",
       "2008-01-26 19:59:00         True               False  Zone K3   \n",
       "2014-12-28 17:23:00         True               False  Zone X4   \n",
       "2008-07-24 15:17:00        False               False  Zone K2   \n",
       "...                          ...                 ...      ...   \n",
       "2011-01-01 13:23:00         True               False  Zone X3   \n",
       "2009-04-21 11:02:00         True               False  Zone K3   \n",
       "2008-08-15 15:21:00         True               False  Zone X4   \n",
       "2012-03-18 07:27:00         True               False  Zone K2   \n",
       "2009-11-21 13:21:00         True               False  Zone X3   \n",
       "\n",
       "                          stop_datetime  frisk stop_minutes  \n",
       "stop_datetime                                                \n",
       "2008-07-28 19:13:00 2008-07-28 19:13:00  False          8.0  \n",
       "2008-02-07 20:20:00 2008-02-07 20:20:00  False          8.0  \n",
       "2008-01-26 19:59:00 2008-01-26 19:59:00  False          8.0  \n",
       "2014-12-28 17:23:00 2014-12-28 17:23:00  False          8.0  \n",
       "2008-07-24 15:17:00 2008-07-24 15:17:00  False         23.0  \n",
       "...                                 ...    ...          ...  \n",
       "2011-01-01 13:23:00 2011-01-01 13:23:00  False          8.0  \n",
       "2009-04-21 11:02:00 2009-04-21 11:02:00  False         23.0  \n",
       "2008-08-15 15:21:00 2008-08-15 15:21:00  False          8.0  \n",
       "2012-03-18 07:27:00 2012-03-18 07:27:00  False          8.0  \n",
       "2009-11-21 13:21:00 2009-11-21 13:21:00  False          8.0  \n",
       "\n",
       "[47058 rows x 25 columns]"
      ]
     },
     "execution_count": 108,
     "metadata": {},
     "output_type": "execute_result"
    }
   ],
   "source": [
    "df[\"stop_minutes\"] = df.stop_duration.map(mapp)\n",
    "df"
   ]
  },
  {
   "cell_type": "markdown",
   "metadata": {},
   "source": [
    "***"
   ]
  },
  {
   "cell_type": "markdown",
   "metadata": {},
   "source": [
    "## Plotting stop length"
   ]
  },
  {
   "cell_type": "code",
   "execution_count": 109,
   "metadata": {},
   "outputs": [],
   "source": [
    "stop_length = df.groupby(\"violation_raw\").stop_minutes.mean()"
   ]
  },
  {
   "cell_type": "code",
   "execution_count": 110,
   "metadata": {},
   "outputs": [
    {
     "data": {
      "text/plain": [
       "<matplotlib.axes._subplots.AxesSubplot at 0x1d53af6fd90>"
      ]
     },
     "execution_count": 110,
     "metadata": {},
     "output_type": "execute_result"
    },
    {
     "data": {
      "image/png": "[encoded data removed]",
      "text/plain": [
       "<Figure size 432x288 with 1 Axes>"
      ]
     },
     "metadata": {
      "needs_background": "light"
     },
     "output_type": "display_data"
    }
   ],
   "source": [
    "stop_length.plot(kind=\"barh\")"
   ]
  }
 ],
 "metadata": {
  "kernelspec": {
   "display_name": "Python 3",
   "language": "python",
   "name": "python3"
  },
  "language_info": {
   "codemirror_mode": {
    "name": "ipython",
    "version": 3
   },
   "file_extension": ".py",
   "mimetype": "text/x-python",
   "name": "python",
   "nbconvert_exporter": "python",
   "pygments_lexer": "ipython3",
   "version": "3.8.3"
  }
 },
 "nbformat": 4,
 "nbformat_minor": 4
}
