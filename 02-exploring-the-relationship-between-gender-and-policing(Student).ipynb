{
 "cells": [
  {
   "cell_type": "markdown",
   "metadata": {},
   "source": [
    "___\n",
    "\n",
    "<p style=\"text-align: center;\"><img src=\"https://docs.google.com/uc?id=1lY0Uj5R04yMY3-ZppPWxqCr5pvBLYPnV\" class=\"img-fluid\" alt=\"CLRSWY\"></p>\n",
    "\n",
    "___"
   ]
  },
  {
   "cell_type": "markdown",
   "metadata": {},
   "source": [
    "***"
   ]
  },
  {
   "cell_type": "markdown",
   "metadata": {},
   "source": [
    "## Examining traffic violations"
   ]
  },
  {
   "cell_type": "code",
   "execution_count": 1,
   "metadata": {},
   "outputs": [
    {
     "name": "stderr",
     "output_type": "stream",
     "text": [
      "C:\\Users\\mkdty\\anaconda3\\lib\\site-packages\\IPython\\core\\interactiveshell.py:3071: DtypeWarning: Columns (8,16) have mixed types.Specify dtype option on import or set low_memory=False.\n",
      "  has_raised = await self.run_ast_nodes(code_ast.body, cell_name,\n"
     ]
    },
    {
     "data": {
      "text/plain": [
       "Speeding               0.562370\n",
       "Moving violation       0.186387\n",
       "Equipment              0.126248\n",
       "Other                  0.050873\n",
       "Registration/plates    0.040333\n",
       "Seat belt              0.033788\n",
       "Name: violation, dtype: float64"
      ]
     },
     "execution_count": 1,
     "metadata": {},
     "output_type": "execute_result"
    }
   ],
   "source": [
    "import pandas as pd\n",
    "df = pd.read_csv(\"RI_cleaned.csv\",skiprows =0).sample(n=50000,random_state=1)\n",
    "df.head(9)\n",
    "df.isnull()\n",
    "df.isnull().sum()\n",
    "pd.isnull(df[\"county_fips\"])\n",
    "bool_series = pd.isnull(df[\"county_fips\"])\n",
    "df[bool_series]\n",
    "df.drop([\"county_name\",\"county_fips\" ,\"fine_grained_location\"],axis=1,inplace=True)\n",
    "df.shape\n",
    "df.drop(\"state\",axis=1)\n",
    "df.dropna(subset=[\"driver_gender\"])\n",
    "df.shape\n",
    "df[\"driver_gender\"].isnull().sum()\n",
    "df.shape\n",
    "df.dropna(subset = [\"driver_gender\"],inplace=True)\n",
    "df[[\"is_arrested\"]].head(10)\n",
    "df[\"is_arrested\"]=df.is_arrested.astype(\"bool\")\n",
    "df[\"is_arrested\"].dtype\n",
    "combined = df.stop_date.str.cat(df.stop_time,sep=\" \") #her iki serinin boyu aynı olmalıdır\n",
    "df[\"stop_datetime\"] = pd.to_datetime(combined)\n",
    "df[\"stop_datetime\"].dtype\n",
    "df[\"stop_datetime\"]\n",
    "#df = df.set_index(pd.DatetimeIndex(df[\"stop_datetime\"]))\n",
    "#df.head()\n",
    "day=pd.Timestamp(\"2005-01-02\")\n",
    "day.day_name()\n",
    "df[\"violation\"].value_counts() # Count the unique values in the violation to see what violations are being committed by all drivers.\n",
    "df[\"violation\"].value_counts(normalize=True)\n",
    "#Before starting your work in this section repeat the steps which you did in the previos chapter for preparing the data. \n",
    "#Continue to this chapter based on where you were in the end of the previous chapter."
   ]
  },
  {
   "cell_type": "markdown",
   "metadata": {},
   "source": [
    "**INSTRUCTIONS**\n",
    "\n",
    "*   Count the unique values in the ``violation`` column, to see what violations are being committed by all drivers.\n",
    "*   Express the violation counts as proportions of the total."
   ]
  },
  {
   "cell_type": "code",
   "execution_count": 2,
   "metadata": {},
   "outputs": [
    {
     "data": {
      "text/plain": [
       "Speeding               26464\n",
       "Moving violation        8771\n",
       "Equipment               5941\n",
       "Other                   2394\n",
       "Registration/plates     1898\n",
       "Seat belt               1590\n",
       "Name: violation, dtype: int64"
      ]
     },
     "execution_count": 2,
     "metadata": {},
     "output_type": "execute_result"
    }
   ],
   "source": [
    "df[\"violation\"].value_counts() # Count the unique values in the violation to see what violations are being committed by all drivers."
   ]
  },
  {
   "cell_type": "code",
   "execution_count": 3,
   "metadata": {},
   "outputs": [
    {
     "data": {
      "text/plain": [
       "Speeding               0.562370\n",
       "Moving violation       0.186387\n",
       "Equipment              0.126248\n",
       "Other                  0.050873\n",
       "Registration/plates    0.040333\n",
       "Seat belt              0.033788\n",
       "Name: violation, dtype: float64"
      ]
     },
     "execution_count": 3,
     "metadata": {},
     "output_type": "execute_result"
    }
   ],
   "source": [
    "df[\"violation\"].value_counts(normalize=True)"
   ]
  },
  {
   "cell_type": "markdown",
   "metadata": {},
   "source": [
    "***"
   ]
  },
  {
   "cell_type": "markdown",
   "metadata": {},
   "source": [
    "## Comparing violations by gender"
   ]
  },
  {
   "cell_type": "code",
   "execution_count": 4,
   "metadata": {},
   "outputs": [
    {
     "data": {
      "text/html": [
       "<div>\n",
       "<style scoped>\n",
       "    .dataframe tbody tr th:only-of-type {\n",
       "        vertical-align: middle;\n",
       "    }\n",
       "\n",
       "    .dataframe tbody tr th {\n",
       "        vertical-align: top;\n",
       "    }\n",
       "\n",
       "    .dataframe thead th {\n",
       "        text-align: right;\n",
       "    }\n",
       "</style>\n",
       "<table border=\"1\" class=\"dataframe\">\n",
       "  <thead>\n",
       "    <tr style=\"text-align: right;\">\n",
       "      <th></th>\n",
       "      <th>id</th>\n",
       "      <th>state</th>\n",
       "      <th>stop_date</th>\n",
       "      <th>stop_time</th>\n",
       "      <th>location_raw</th>\n",
       "      <th>police_department</th>\n",
       "      <th>driver_gender</th>\n",
       "      <th>driver_age_raw</th>\n",
       "      <th>driver_age</th>\n",
       "      <th>driver_race_raw</th>\n",
       "      <th>...</th>\n",
       "      <th>search_type_raw</th>\n",
       "      <th>search_type</th>\n",
       "      <th>contraband_found</th>\n",
       "      <th>stop_outcome</th>\n",
       "      <th>is_arrested</th>\n",
       "      <th>stop_duration</th>\n",
       "      <th>out_of_state</th>\n",
       "      <th>drugs_related_stop</th>\n",
       "      <th>district</th>\n",
       "      <th>stop_datetime</th>\n",
       "    </tr>\n",
       "  </thead>\n",
       "  <tbody>\n",
       "    <tr>\n",
       "      <th>153602</th>\n",
       "      <td>RI-2008-27978</td>\n",
       "      <td>RI</td>\n",
       "      <td>2008-07-28</td>\n",
       "      <td>19:13</td>\n",
       "      <td>Zone X4</td>\n",
       "      <td>300</td>\n",
       "      <td>M</td>\n",
       "      <td>1971.0</td>\n",
       "      <td>37.0</td>\n",
       "      <td>B</td>\n",
       "      <td>...</td>\n",
       "      <td>NaN</td>\n",
       "      <td>NaN</td>\n",
       "      <td>False</td>\n",
       "      <td>Citation</td>\n",
       "      <td>False</td>\n",
       "      <td>0-15 Min</td>\n",
       "      <td>True</td>\n",
       "      <td>False</td>\n",
       "      <td>Zone X4</td>\n",
       "      <td>2008-07-28 19:13:00</td>\n",
       "    </tr>\n",
       "    <tr>\n",
       "      <th>130926</th>\n",
       "      <td>RI-2008-05302</td>\n",
       "      <td>RI</td>\n",
       "      <td>2008-02-07</td>\n",
       "      <td>20:20</td>\n",
       "      <td>Zone K3</td>\n",
       "      <td>300</td>\n",
       "      <td>M</td>\n",
       "      <td>1967.0</td>\n",
       "      <td>41.0</td>\n",
       "      <td>W</td>\n",
       "      <td>...</td>\n",
       "      <td>NaN</td>\n",
       "      <td>NaN</td>\n",
       "      <td>False</td>\n",
       "      <td>Citation</td>\n",
       "      <td>False</td>\n",
       "      <td>0-15 Min</td>\n",
       "      <td>False</td>\n",
       "      <td>False</td>\n",
       "      <td>Zone K3</td>\n",
       "      <td>2008-02-07 20:20:00</td>\n",
       "    </tr>\n",
       "    <tr>\n",
       "      <th>129235</th>\n",
       "      <td>RI-2008-03611</td>\n",
       "      <td>RI</td>\n",
       "      <td>2008-01-26</td>\n",
       "      <td>19:59</td>\n",
       "      <td>Zone K3</td>\n",
       "      <td>300</td>\n",
       "      <td>M</td>\n",
       "      <td>1986.0</td>\n",
       "      <td>22.0</td>\n",
       "      <td>W</td>\n",
       "      <td>...</td>\n",
       "      <td>NaN</td>\n",
       "      <td>NaN</td>\n",
       "      <td>False</td>\n",
       "      <td>Citation</td>\n",
       "      <td>False</td>\n",
       "      <td>0-15 Min</td>\n",
       "      <td>True</td>\n",
       "      <td>False</td>\n",
       "      <td>Zone K3</td>\n",
       "      <td>2008-01-26 19:59:00</td>\n",
       "    </tr>\n",
       "    <tr>\n",
       "      <th>153079</th>\n",
       "      <td>RI-2008-27455</td>\n",
       "      <td>RI</td>\n",
       "      <td>2008-07-24</td>\n",
       "      <td>15:17</td>\n",
       "      <td>Zone K2</td>\n",
       "      <td>900</td>\n",
       "      <td>M</td>\n",
       "      <td>1941.0</td>\n",
       "      <td>67.0</td>\n",
       "      <td>W</td>\n",
       "      <td>...</td>\n",
       "      <td>NaN</td>\n",
       "      <td>NaN</td>\n",
       "      <td>False</td>\n",
       "      <td>Citation</td>\n",
       "      <td>False</td>\n",
       "      <td>16-30 Min</td>\n",
       "      <td>False</td>\n",
       "      <td>False</td>\n",
       "      <td>Zone K2</td>\n",
       "      <td>2008-07-24 15:17:00</td>\n",
       "    </tr>\n",
       "    <tr>\n",
       "      <th>179740</th>\n",
       "      <td>RI-2009-05097</td>\n",
       "      <td>RI</td>\n",
       "      <td>2009-02-08</td>\n",
       "      <td>06:56</td>\n",
       "      <td>Zone K3</td>\n",
       "      <td>300</td>\n",
       "      <td>M</td>\n",
       "      <td>1983.0</td>\n",
       "      <td>26.0</td>\n",
       "      <td>W</td>\n",
       "      <td>...</td>\n",
       "      <td>NaN</td>\n",
       "      <td>NaN</td>\n",
       "      <td>False</td>\n",
       "      <td>Citation</td>\n",
       "      <td>False</td>\n",
       "      <td>0-15 Min</td>\n",
       "      <td>True</td>\n",
       "      <td>False</td>\n",
       "      <td>Zone K3</td>\n",
       "      <td>2009-02-08 06:56:00</td>\n",
       "    </tr>\n",
       "  </tbody>\n",
       "</table>\n",
       "<p>5 rows × 24 columns</p>\n",
       "</div>"
      ],
      "text/plain": [
       "                   id state   stop_date stop_time location_raw  \\\n",
       "153602  RI-2008-27978    RI  2008-07-28     19:13      Zone X4   \n",
       "130926  RI-2008-05302    RI  2008-02-07     20:20      Zone K3   \n",
       "129235  RI-2008-03611    RI  2008-01-26     19:59      Zone K3   \n",
       "153079  RI-2008-27455    RI  2008-07-24     15:17      Zone K2   \n",
       "179740  RI-2009-05097    RI  2009-02-08     06:56      Zone K3   \n",
       "\n",
       "       police_department driver_gender  driver_age_raw  driver_age  \\\n",
       "153602               300             M          1971.0        37.0   \n",
       "130926               300             M          1967.0        41.0   \n",
       "129235               300             M          1986.0        22.0   \n",
       "153079               900             M          1941.0        67.0   \n",
       "179740               300             M          1983.0        26.0   \n",
       "\n",
       "       driver_race_raw  ... search_type_raw search_type contraband_found  \\\n",
       "153602               B  ...             NaN         NaN            False   \n",
       "130926               W  ...             NaN         NaN            False   \n",
       "129235               W  ...             NaN         NaN            False   \n",
       "153079               W  ...             NaN         NaN            False   \n",
       "179740               W  ...             NaN         NaN            False   \n",
       "\n",
       "       stop_outcome is_arrested stop_duration  out_of_state  \\\n",
       "153602     Citation       False      0-15 Min          True   \n",
       "130926     Citation       False      0-15 Min         False   \n",
       "129235     Citation       False      0-15 Min          True   \n",
       "153079     Citation       False     16-30 Min         False   \n",
       "179740     Citation       False      0-15 Min          True   \n",
       "\n",
       "       drugs_related_stop  district       stop_datetime  \n",
       "153602              False   Zone X4 2008-07-28 19:13:00  \n",
       "130926              False   Zone K3 2008-02-07 20:20:00  \n",
       "129235              False   Zone K3 2008-01-26 19:59:00  \n",
       "153079              False   Zone K2 2008-07-24 15:17:00  \n",
       "179740              False   Zone K3 2009-02-08 06:56:00  \n",
       "\n",
       "[5 rows x 24 columns]"
      ]
     },
     "execution_count": 4,
     "metadata": {},
     "output_type": "execute_result"
    }
   ],
   "source": [
    "df_male = df[df[\"driver_gender\"] == \"M\" ]\n",
    "df_male.head()"
   ]
  },
  {
   "cell_type": "code",
   "execution_count": 5,
   "metadata": {},
   "outputs": [
    {
     "data": {
      "text/html": [
       "<div>\n",
       "<style scoped>\n",
       "    .dataframe tbody tr th:only-of-type {\n",
       "        vertical-align: middle;\n",
       "    }\n",
       "\n",
       "    .dataframe tbody tr th {\n",
       "        vertical-align: top;\n",
       "    }\n",
       "\n",
       "    .dataframe thead th {\n",
       "        text-align: right;\n",
       "    }\n",
       "</style>\n",
       "<table border=\"1\" class=\"dataframe\">\n",
       "  <thead>\n",
       "    <tr style=\"text-align: right;\">\n",
       "      <th></th>\n",
       "      <th>id</th>\n",
       "      <th>state</th>\n",
       "      <th>stop_date</th>\n",
       "      <th>stop_time</th>\n",
       "      <th>location_raw</th>\n",
       "      <th>police_department</th>\n",
       "      <th>driver_gender</th>\n",
       "      <th>driver_age_raw</th>\n",
       "      <th>driver_age</th>\n",
       "      <th>driver_race_raw</th>\n",
       "      <th>...</th>\n",
       "      <th>search_type_raw</th>\n",
       "      <th>search_type</th>\n",
       "      <th>contraband_found</th>\n",
       "      <th>stop_outcome</th>\n",
       "      <th>is_arrested</th>\n",
       "      <th>stop_duration</th>\n",
       "      <th>out_of_state</th>\n",
       "      <th>drugs_related_stop</th>\n",
       "      <th>district</th>\n",
       "      <th>stop_datetime</th>\n",
       "    </tr>\n",
       "  </thead>\n",
       "  <tbody>\n",
       "    <tr>\n",
       "      <th>462227</th>\n",
       "      <td>RI-2014-50432</td>\n",
       "      <td>RI</td>\n",
       "      <td>2014-12-28</td>\n",
       "      <td>17:23</td>\n",
       "      <td>Zone X4</td>\n",
       "      <td>500</td>\n",
       "      <td>F</td>\n",
       "      <td>1967.0</td>\n",
       "      <td>47.0</td>\n",
       "      <td>W</td>\n",
       "      <td>...</td>\n",
       "      <td>NaN</td>\n",
       "      <td>NaN</td>\n",
       "      <td>False</td>\n",
       "      <td>Citation</td>\n",
       "      <td>False</td>\n",
       "      <td>0-15 Min</td>\n",
       "      <td>True</td>\n",
       "      <td>False</td>\n",
       "      <td>Zone X4</td>\n",
       "      <td>2014-12-28 17:23:00</td>\n",
       "    </tr>\n",
       "    <tr>\n",
       "      <th>271106</th>\n",
       "      <td>RI-2011-10619</td>\n",
       "      <td>RI</td>\n",
       "      <td>2011-04-09</td>\n",
       "      <td>03:02</td>\n",
       "      <td>Zone X4</td>\n",
       "      <td>500</td>\n",
       "      <td>F</td>\n",
       "      <td>1972.0</td>\n",
       "      <td>39.0</td>\n",
       "      <td>W</td>\n",
       "      <td>...</td>\n",
       "      <td>NaN</td>\n",
       "      <td>NaN</td>\n",
       "      <td>False</td>\n",
       "      <td>Arrest Driver</td>\n",
       "      <td>True</td>\n",
       "      <td>30+ Min</td>\n",
       "      <td>False</td>\n",
       "      <td>False</td>\n",
       "      <td>Zone X4</td>\n",
       "      <td>2011-04-09 03:02:00</td>\n",
       "    </tr>\n",
       "    <tr>\n",
       "      <th>436820</th>\n",
       "      <td>RI-2014-25025</td>\n",
       "      <td>RI</td>\n",
       "      <td>2014-06-18</td>\n",
       "      <td>23:13</td>\n",
       "      <td>Zone K2</td>\n",
       "      <td>900</td>\n",
       "      <td>F</td>\n",
       "      <td>1993.0</td>\n",
       "      <td>21.0</td>\n",
       "      <td>W</td>\n",
       "      <td>...</td>\n",
       "      <td>NaN</td>\n",
       "      <td>NaN</td>\n",
       "      <td>False</td>\n",
       "      <td>Citation</td>\n",
       "      <td>False</td>\n",
       "      <td>0-15 Min</td>\n",
       "      <td>True</td>\n",
       "      <td>False</td>\n",
       "      <td>Zone K2</td>\n",
       "      <td>2014-06-18 23:13:00</td>\n",
       "    </tr>\n",
       "    <tr>\n",
       "      <th>236912</th>\n",
       "      <td>RI-2010-18816</td>\n",
       "      <td>RI</td>\n",
       "      <td>2010-05-30</td>\n",
       "      <td>07:38</td>\n",
       "      <td>Zone K1</td>\n",
       "      <td>600</td>\n",
       "      <td>F</td>\n",
       "      <td>1985.0</td>\n",
       "      <td>25.0</td>\n",
       "      <td>W</td>\n",
       "      <td>...</td>\n",
       "      <td>NaN</td>\n",
       "      <td>NaN</td>\n",
       "      <td>False</td>\n",
       "      <td>Citation</td>\n",
       "      <td>False</td>\n",
       "      <td>0-15 Min</td>\n",
       "      <td>False</td>\n",
       "      <td>False</td>\n",
       "      <td>Zone K1</td>\n",
       "      <td>2010-05-30 07:38:00</td>\n",
       "    </tr>\n",
       "    <tr>\n",
       "      <th>193766</th>\n",
       "      <td>RI-2009-19123</td>\n",
       "      <td>RI</td>\n",
       "      <td>2009-05-22</td>\n",
       "      <td>22:34</td>\n",
       "      <td>Zone K1</td>\n",
       "      <td>600</td>\n",
       "      <td>F</td>\n",
       "      <td>1981.0</td>\n",
       "      <td>28.0</td>\n",
       "      <td>W</td>\n",
       "      <td>...</td>\n",
       "      <td>NaN</td>\n",
       "      <td>NaN</td>\n",
       "      <td>False</td>\n",
       "      <td>Citation</td>\n",
       "      <td>False</td>\n",
       "      <td>0-15 Min</td>\n",
       "      <td>True</td>\n",
       "      <td>False</td>\n",
       "      <td>Zone K1</td>\n",
       "      <td>2009-05-22 22:34:00</td>\n",
       "    </tr>\n",
       "  </tbody>\n",
       "</table>\n",
       "<p>5 rows × 24 columns</p>\n",
       "</div>"
      ],
      "text/plain": [
       "                   id state   stop_date stop_time location_raw  \\\n",
       "462227  RI-2014-50432    RI  2014-12-28     17:23      Zone X4   \n",
       "271106  RI-2011-10619    RI  2011-04-09     03:02      Zone X4   \n",
       "436820  RI-2014-25025    RI  2014-06-18     23:13      Zone K2   \n",
       "236912  RI-2010-18816    RI  2010-05-30     07:38      Zone K1   \n",
       "193766  RI-2009-19123    RI  2009-05-22     22:34      Zone K1   \n",
       "\n",
       "       police_department driver_gender  driver_age_raw  driver_age  \\\n",
       "462227               500             F          1967.0        47.0   \n",
       "271106               500             F          1972.0        39.0   \n",
       "436820               900             F          1993.0        21.0   \n",
       "236912               600             F          1985.0        25.0   \n",
       "193766               600             F          1981.0        28.0   \n",
       "\n",
       "       driver_race_raw  ... search_type_raw search_type contraband_found  \\\n",
       "462227               W  ...             NaN         NaN            False   \n",
       "271106               W  ...             NaN         NaN            False   \n",
       "436820               W  ...             NaN         NaN            False   \n",
       "236912               W  ...             NaN         NaN            False   \n",
       "193766               W  ...             NaN         NaN            False   \n",
       "\n",
       "         stop_outcome is_arrested stop_duration  out_of_state  \\\n",
       "462227       Citation       False      0-15 Min          True   \n",
       "271106  Arrest Driver        True       30+ Min         False   \n",
       "436820       Citation       False      0-15 Min          True   \n",
       "236912       Citation       False      0-15 Min         False   \n",
       "193766       Citation       False      0-15 Min          True   \n",
       "\n",
       "       drugs_related_stop  district       stop_datetime  \n",
       "462227              False   Zone X4 2014-12-28 17:23:00  \n",
       "271106              False   Zone X4 2011-04-09 03:02:00  \n",
       "436820              False   Zone K2 2014-06-18 23:13:00  \n",
       "236912              False   Zone K1 2010-05-30 07:38:00  \n",
       "193766              False   Zone K1 2009-05-22 22:34:00  \n",
       "\n",
       "[5 rows x 24 columns]"
      ]
     },
     "execution_count": 5,
     "metadata": {},
     "output_type": "execute_result"
    }
   ],
   "source": [
    "df_female = df[df[\"driver_gender\"] == \"F\"]\n",
    "df_female.head()"
   ]
  },
  {
   "cell_type": "code",
   "execution_count": 6,
   "metadata": {},
   "outputs": [
    {
     "data": {
      "text/plain": [
       "Speeding               8506\n",
       "Moving violation       1704\n",
       "Equipment              1311\n",
       "Registration/plates     542\n",
       "Other                   398\n",
       "Seat belt               360\n",
       "Name: violation, dtype: int64"
      ]
     },
     "execution_count": 6,
     "metadata": {},
     "output_type": "execute_result"
    }
   ],
   "source": [
    "df_female.violation.value_counts() # committed crimes by females"
   ]
  },
  {
   "cell_type": "code",
   "execution_count": 7,
   "metadata": {},
   "outputs": [
    {
     "data": {
      "text/plain": [
       "Speeding               0.663443\n",
       "Moving violation       0.132907\n",
       "Equipment              0.102254\n",
       "Registration/plates    0.042274\n",
       "Other                  0.031043\n",
       "Seat belt              0.028079\n",
       "Name: violation, dtype: float64"
      ]
     },
     "execution_count": 7,
     "metadata": {},
     "output_type": "execute_result"
    }
   ],
   "source": [
    "df_female.violation.value_counts(normalize=True) # to Express the counts as proportions we use normalize"
   ]
  },
  {
   "cell_type": "code",
   "execution_count": 8,
   "metadata": {},
   "outputs": [
    {
     "data": {
      "text/plain": [
       "Speeding               17958\n",
       "Moving violation        7067\n",
       "Equipment               4630\n",
       "Other                   1996\n",
       "Registration/plates     1356\n",
       "Seat belt               1230\n",
       "Name: violation, dtype: int64"
      ]
     },
     "execution_count": 8,
     "metadata": {},
     "output_type": "execute_result"
    }
   ],
   "source": [
    "df_male.violation.value_counts() # committed crimes by male"
   ]
  },
  {
   "cell_type": "code",
   "execution_count": 9,
   "metadata": {},
   "outputs": [
    {
     "data": {
      "text/plain": [
       "Speeding               0.524520\n",
       "Moving violation       0.206414\n",
       "Equipment              0.135234\n",
       "Other                  0.058300\n",
       "Registration/plates    0.039606\n",
       "Seat belt              0.035926\n",
       "Name: violation, dtype: float64"
      ]
     },
     "execution_count": 9,
     "metadata": {},
     "output_type": "execute_result"
    }
   ],
   "source": [
    "df_male.violation.value_counts(normalize=True) # violation proportions for male"
   ]
  },
  {
   "cell_type": "markdown",
   "metadata": {},
   "source": [
    "***"
   ]
  },
  {
   "cell_type": "markdown",
   "metadata": {},
   "source": [
    "## Comparing speeding outcomes by gender"
   ]
  },
  {
   "cell_type": "code",
   "execution_count": 10,
   "metadata": {},
   "outputs": [],
   "source": [
    "female_speeding = df_female[df_female[\"violation\"]== \"Speeding\" ]"
   ]
  },
  {
   "cell_type": "code",
   "execution_count": 11,
   "metadata": {},
   "outputs": [],
   "source": [
    "male_speeding = df_male[df_male.violation == \"Speeding\"]"
   ]
  },
  {
   "cell_type": "code",
   "execution_count": 12,
   "metadata": {},
   "outputs": [
    {
     "data": {
      "text/html": [
       "<div>\n",
       "<style scoped>\n",
       "    .dataframe tbody tr th:only-of-type {\n",
       "        vertical-align: middle;\n",
       "    }\n",
       "\n",
       "    .dataframe tbody tr th {\n",
       "        vertical-align: top;\n",
       "    }\n",
       "\n",
       "    .dataframe thead th {\n",
       "        text-align: right;\n",
       "    }\n",
       "</style>\n",
       "<table border=\"1\" class=\"dataframe\">\n",
       "  <thead>\n",
       "    <tr style=\"text-align: right;\">\n",
       "      <th></th>\n",
       "      <th>id</th>\n",
       "      <th>state</th>\n",
       "      <th>stop_date</th>\n",
       "      <th>stop_time</th>\n",
       "      <th>location_raw</th>\n",
       "      <th>police_department</th>\n",
       "      <th>driver_gender</th>\n",
       "      <th>driver_age_raw</th>\n",
       "      <th>driver_age</th>\n",
       "      <th>driver_race_raw</th>\n",
       "      <th>...</th>\n",
       "      <th>search_type_raw</th>\n",
       "      <th>search_type</th>\n",
       "      <th>contraband_found</th>\n",
       "      <th>stop_outcome</th>\n",
       "      <th>is_arrested</th>\n",
       "      <th>stop_duration</th>\n",
       "      <th>out_of_state</th>\n",
       "      <th>drugs_related_stop</th>\n",
       "      <th>district</th>\n",
       "      <th>stop_datetime</th>\n",
       "    </tr>\n",
       "  </thead>\n",
       "  <tbody>\n",
       "    <tr>\n",
       "      <th>130926</th>\n",
       "      <td>RI-2008-05302</td>\n",
       "      <td>RI</td>\n",
       "      <td>2008-02-07</td>\n",
       "      <td>20:20</td>\n",
       "      <td>Zone K3</td>\n",
       "      <td>300</td>\n",
       "      <td>M</td>\n",
       "      <td>1967.0</td>\n",
       "      <td>41.0</td>\n",
       "      <td>W</td>\n",
       "      <td>...</td>\n",
       "      <td>NaN</td>\n",
       "      <td>NaN</td>\n",
       "      <td>False</td>\n",
       "      <td>Citation</td>\n",
       "      <td>False</td>\n",
       "      <td>0-15 Min</td>\n",
       "      <td>False</td>\n",
       "      <td>False</td>\n",
       "      <td>Zone K3</td>\n",
       "      <td>2008-02-07 20:20:00</td>\n",
       "    </tr>\n",
       "    <tr>\n",
       "      <th>129235</th>\n",
       "      <td>RI-2008-03611</td>\n",
       "      <td>RI</td>\n",
       "      <td>2008-01-26</td>\n",
       "      <td>19:59</td>\n",
       "      <td>Zone K3</td>\n",
       "      <td>300</td>\n",
       "      <td>M</td>\n",
       "      <td>1986.0</td>\n",
       "      <td>22.0</td>\n",
       "      <td>W</td>\n",
       "      <td>...</td>\n",
       "      <td>NaN</td>\n",
       "      <td>NaN</td>\n",
       "      <td>False</td>\n",
       "      <td>Citation</td>\n",
       "      <td>False</td>\n",
       "      <td>0-15 Min</td>\n",
       "      <td>True</td>\n",
       "      <td>False</td>\n",
       "      <td>Zone K3</td>\n",
       "      <td>2008-01-26 19:59:00</td>\n",
       "    </tr>\n",
       "    <tr>\n",
       "      <th>179740</th>\n",
       "      <td>RI-2009-05097</td>\n",
       "      <td>RI</td>\n",
       "      <td>2009-02-08</td>\n",
       "      <td>06:56</td>\n",
       "      <td>Zone K3</td>\n",
       "      <td>300</td>\n",
       "      <td>M</td>\n",
       "      <td>1983.0</td>\n",
       "      <td>26.0</td>\n",
       "      <td>W</td>\n",
       "      <td>...</td>\n",
       "      <td>NaN</td>\n",
       "      <td>NaN</td>\n",
       "      <td>False</td>\n",
       "      <td>Citation</td>\n",
       "      <td>False</td>\n",
       "      <td>0-15 Min</td>\n",
       "      <td>True</td>\n",
       "      <td>False</td>\n",
       "      <td>Zone K3</td>\n",
       "      <td>2009-02-08 06:56:00</td>\n",
       "    </tr>\n",
       "    <tr>\n",
       "      <th>29077</th>\n",
       "      <td>RI-2006-14999</td>\n",
       "      <td>RI</td>\n",
       "      <td>2006-04-02</td>\n",
       "      <td>03:40</td>\n",
       "      <td>Zone K2</td>\n",
       "      <td>900</td>\n",
       "      <td>M</td>\n",
       "      <td>1976.0</td>\n",
       "      <td>30.0</td>\n",
       "      <td>W</td>\n",
       "      <td>...</td>\n",
       "      <td>NaN</td>\n",
       "      <td>NaN</td>\n",
       "      <td>False</td>\n",
       "      <td>Citation</td>\n",
       "      <td>False</td>\n",
       "      <td>0-15 Min</td>\n",
       "      <td>True</td>\n",
       "      <td>False</td>\n",
       "      <td>Zone K2</td>\n",
       "      <td>2006-04-02 03:40:00</td>\n",
       "    </tr>\n",
       "    <tr>\n",
       "      <th>101349</th>\n",
       "      <td>RI-2007-28928</td>\n",
       "      <td>RI</td>\n",
       "      <td>2007-07-03</td>\n",
       "      <td>15:00</td>\n",
       "      <td>Zone X3</td>\n",
       "      <td>200</td>\n",
       "      <td>M</td>\n",
       "      <td>1977.0</td>\n",
       "      <td>30.0</td>\n",
       "      <td>W</td>\n",
       "      <td>...</td>\n",
       "      <td>NaN</td>\n",
       "      <td>NaN</td>\n",
       "      <td>False</td>\n",
       "      <td>Citation</td>\n",
       "      <td>False</td>\n",
       "      <td>0-15 Min</td>\n",
       "      <td>True</td>\n",
       "      <td>False</td>\n",
       "      <td>Zone X3</td>\n",
       "      <td>2007-07-03 15:00:00</td>\n",
       "    </tr>\n",
       "  </tbody>\n",
       "</table>\n",
       "<p>5 rows × 24 columns</p>\n",
       "</div>"
      ],
      "text/plain": [
       "                   id state   stop_date stop_time location_raw  \\\n",
       "130926  RI-2008-05302    RI  2008-02-07     20:20      Zone K3   \n",
       "129235  RI-2008-03611    RI  2008-01-26     19:59      Zone K3   \n",
       "179740  RI-2009-05097    RI  2009-02-08     06:56      Zone K3   \n",
       "29077   RI-2006-14999    RI  2006-04-02     03:40      Zone K2   \n",
       "101349  RI-2007-28928    RI  2007-07-03     15:00      Zone X3   \n",
       "\n",
       "       police_department driver_gender  driver_age_raw  driver_age  \\\n",
       "130926               300             M          1967.0        41.0   \n",
       "129235               300             M          1986.0        22.0   \n",
       "179740               300             M          1983.0        26.0   \n",
       "29077                900             M          1976.0        30.0   \n",
       "101349               200             M          1977.0        30.0   \n",
       "\n",
       "       driver_race_raw  ... search_type_raw search_type contraband_found  \\\n",
       "130926               W  ...             NaN         NaN            False   \n",
       "129235               W  ...             NaN         NaN            False   \n",
       "179740               W  ...             NaN         NaN            False   \n",
       "29077                W  ...             NaN         NaN            False   \n",
       "101349               W  ...             NaN         NaN            False   \n",
       "\n",
       "       stop_outcome is_arrested stop_duration  out_of_state  \\\n",
       "130926     Citation       False      0-15 Min         False   \n",
       "129235     Citation       False      0-15 Min          True   \n",
       "179740     Citation       False      0-15 Min          True   \n",
       "29077      Citation       False      0-15 Min          True   \n",
       "101349     Citation       False      0-15 Min          True   \n",
       "\n",
       "       drugs_related_stop  district       stop_datetime  \n",
       "130926              False   Zone K3 2008-02-07 20:20:00  \n",
       "129235              False   Zone K3 2008-01-26 19:59:00  \n",
       "179740              False   Zone K3 2009-02-08 06:56:00  \n",
       "29077               False   Zone K2 2006-04-02 03:40:00  \n",
       "101349              False   Zone X3 2007-07-03 15:00:00  \n",
       "\n",
       "[5 rows x 24 columns]"
      ]
     },
     "execution_count": 12,
     "metadata": {},
     "output_type": "execute_result"
    }
   ],
   "source": [
    "male_speeding.head()"
   ]
  },
  {
   "cell_type": "code",
   "execution_count": 13,
   "metadata": {},
   "outputs": [
    {
     "data": {
      "text/html": [
       "<div>\n",
       "<style scoped>\n",
       "    .dataframe tbody tr th:only-of-type {\n",
       "        vertical-align: middle;\n",
       "    }\n",
       "\n",
       "    .dataframe tbody tr th {\n",
       "        vertical-align: top;\n",
       "    }\n",
       "\n",
       "    .dataframe thead th {\n",
       "        text-align: right;\n",
       "    }\n",
       "</style>\n",
       "<table border=\"1\" class=\"dataframe\">\n",
       "  <thead>\n",
       "    <tr style=\"text-align: right;\">\n",
       "      <th></th>\n",
       "      <th>id</th>\n",
       "      <th>state</th>\n",
       "      <th>stop_date</th>\n",
       "      <th>stop_time</th>\n",
       "      <th>location_raw</th>\n",
       "      <th>police_department</th>\n",
       "      <th>driver_gender</th>\n",
       "      <th>driver_age_raw</th>\n",
       "      <th>driver_age</th>\n",
       "      <th>driver_race_raw</th>\n",
       "      <th>...</th>\n",
       "      <th>search_type_raw</th>\n",
       "      <th>search_type</th>\n",
       "      <th>contraband_found</th>\n",
       "      <th>stop_outcome</th>\n",
       "      <th>is_arrested</th>\n",
       "      <th>stop_duration</th>\n",
       "      <th>out_of_state</th>\n",
       "      <th>drugs_related_stop</th>\n",
       "      <th>district</th>\n",
       "      <th>stop_datetime</th>\n",
       "    </tr>\n",
       "  </thead>\n",
       "  <tbody>\n",
       "    <tr>\n",
       "      <th>462227</th>\n",
       "      <td>RI-2014-50432</td>\n",
       "      <td>RI</td>\n",
       "      <td>2014-12-28</td>\n",
       "      <td>17:23</td>\n",
       "      <td>Zone X4</td>\n",
       "      <td>500</td>\n",
       "      <td>F</td>\n",
       "      <td>1967.0</td>\n",
       "      <td>47.0</td>\n",
       "      <td>W</td>\n",
       "      <td>...</td>\n",
       "      <td>NaN</td>\n",
       "      <td>NaN</td>\n",
       "      <td>False</td>\n",
       "      <td>Citation</td>\n",
       "      <td>False</td>\n",
       "      <td>0-15 Min</td>\n",
       "      <td>True</td>\n",
       "      <td>False</td>\n",
       "      <td>Zone X4</td>\n",
       "      <td>2014-12-28 17:23:00</td>\n",
       "    </tr>\n",
       "    <tr>\n",
       "      <th>436820</th>\n",
       "      <td>RI-2014-25025</td>\n",
       "      <td>RI</td>\n",
       "      <td>2014-06-18</td>\n",
       "      <td>23:13</td>\n",
       "      <td>Zone K2</td>\n",
       "      <td>900</td>\n",
       "      <td>F</td>\n",
       "      <td>1993.0</td>\n",
       "      <td>21.0</td>\n",
       "      <td>W</td>\n",
       "      <td>...</td>\n",
       "      <td>NaN</td>\n",
       "      <td>NaN</td>\n",
       "      <td>False</td>\n",
       "      <td>Citation</td>\n",
       "      <td>False</td>\n",
       "      <td>0-15 Min</td>\n",
       "      <td>True</td>\n",
       "      <td>False</td>\n",
       "      <td>Zone K2</td>\n",
       "      <td>2014-06-18 23:13:00</td>\n",
       "    </tr>\n",
       "    <tr>\n",
       "      <th>236912</th>\n",
       "      <td>RI-2010-18816</td>\n",
       "      <td>RI</td>\n",
       "      <td>2010-05-30</td>\n",
       "      <td>07:38</td>\n",
       "      <td>Zone K1</td>\n",
       "      <td>600</td>\n",
       "      <td>F</td>\n",
       "      <td>1985.0</td>\n",
       "      <td>25.0</td>\n",
       "      <td>W</td>\n",
       "      <td>...</td>\n",
       "      <td>NaN</td>\n",
       "      <td>NaN</td>\n",
       "      <td>False</td>\n",
       "      <td>Citation</td>\n",
       "      <td>False</td>\n",
       "      <td>0-15 Min</td>\n",
       "      <td>False</td>\n",
       "      <td>False</td>\n",
       "      <td>Zone K1</td>\n",
       "      <td>2010-05-30 07:38:00</td>\n",
       "    </tr>\n",
       "    <tr>\n",
       "      <th>193766</th>\n",
       "      <td>RI-2009-19123</td>\n",
       "      <td>RI</td>\n",
       "      <td>2009-05-22</td>\n",
       "      <td>22:34</td>\n",
       "      <td>Zone K1</td>\n",
       "      <td>600</td>\n",
       "      <td>F</td>\n",
       "      <td>1981.0</td>\n",
       "      <td>28.0</td>\n",
       "      <td>W</td>\n",
       "      <td>...</td>\n",
       "      <td>NaN</td>\n",
       "      <td>NaN</td>\n",
       "      <td>False</td>\n",
       "      <td>Citation</td>\n",
       "      <td>False</td>\n",
       "      <td>0-15 Min</td>\n",
       "      <td>True</td>\n",
       "      <td>False</td>\n",
       "      <td>Zone K1</td>\n",
       "      <td>2009-05-22 22:34:00</td>\n",
       "    </tr>\n",
       "    <tr>\n",
       "      <th>72840</th>\n",
       "      <td>RI-2007-00419</td>\n",
       "      <td>RI</td>\n",
       "      <td>2007-01-04</td>\n",
       "      <td>01:25</td>\n",
       "      <td>Zone K1</td>\n",
       "      <td>600</td>\n",
       "      <td>F</td>\n",
       "      <td>1986.0</td>\n",
       "      <td>21.0</td>\n",
       "      <td>W</td>\n",
       "      <td>...</td>\n",
       "      <td>NaN</td>\n",
       "      <td>NaN</td>\n",
       "      <td>False</td>\n",
       "      <td>Citation</td>\n",
       "      <td>False</td>\n",
       "      <td>0-15 Min</td>\n",
       "      <td>True</td>\n",
       "      <td>False</td>\n",
       "      <td>Zone K1</td>\n",
       "      <td>2007-01-04 01:25:00</td>\n",
       "    </tr>\n",
       "  </tbody>\n",
       "</table>\n",
       "<p>5 rows × 24 columns</p>\n",
       "</div>"
      ],
      "text/plain": [
       "                   id state   stop_date stop_time location_raw  \\\n",
       "462227  RI-2014-50432    RI  2014-12-28     17:23      Zone X4   \n",
       "436820  RI-2014-25025    RI  2014-06-18     23:13      Zone K2   \n",
       "236912  RI-2010-18816    RI  2010-05-30     07:38      Zone K1   \n",
       "193766  RI-2009-19123    RI  2009-05-22     22:34      Zone K1   \n",
       "72840   RI-2007-00419    RI  2007-01-04     01:25      Zone K1   \n",
       "\n",
       "       police_department driver_gender  driver_age_raw  driver_age  \\\n",
       "462227               500             F          1967.0        47.0   \n",
       "436820               900             F          1993.0        21.0   \n",
       "236912               600             F          1985.0        25.0   \n",
       "193766               600             F          1981.0        28.0   \n",
       "72840                600             F          1986.0        21.0   \n",
       "\n",
       "       driver_race_raw  ... search_type_raw search_type contraband_found  \\\n",
       "462227               W  ...             NaN         NaN            False   \n",
       "436820               W  ...             NaN         NaN            False   \n",
       "236912               W  ...             NaN         NaN            False   \n",
       "193766               W  ...             NaN         NaN            False   \n",
       "72840                W  ...             NaN         NaN            False   \n",
       "\n",
       "       stop_outcome is_arrested stop_duration  out_of_state  \\\n",
       "462227     Citation       False      0-15 Min          True   \n",
       "436820     Citation       False      0-15 Min          True   \n",
       "236912     Citation       False      0-15 Min         False   \n",
       "193766     Citation       False      0-15 Min          True   \n",
       "72840      Citation       False      0-15 Min          True   \n",
       "\n",
       "       drugs_related_stop  district       stop_datetime  \n",
       "462227              False   Zone X4 2014-12-28 17:23:00  \n",
       "436820              False   Zone K2 2014-06-18 23:13:00  \n",
       "236912              False   Zone K1 2010-05-30 07:38:00  \n",
       "193766              False   Zone K1 2009-05-22 22:34:00  \n",
       "72840               False   Zone K1 2007-01-04 01:25:00  \n",
       "\n",
       "[5 rows x 24 columns]"
      ]
     },
     "execution_count": 13,
     "metadata": {},
     "output_type": "execute_result"
    }
   ],
   "source": [
    "female_speeding.head()"
   ]
  },
  {
   "cell_type": "code",
   "execution_count": 14,
   "metadata": {},
   "outputs": [
    {
     "data": {
      "text/plain": [
       "Index(['id', 'state', 'stop_date', 'stop_time', 'location_raw',\n",
       "       'police_department', 'driver_gender', 'driver_age_raw', 'driver_age',\n",
       "       'driver_race_raw', 'driver_race', 'violation_raw', 'violation',\n",
       "       'search_conducted', 'search_type_raw', 'search_type',\n",
       "       'contraband_found', 'stop_outcome', 'is_arrested', 'stop_duration',\n",
       "       'out_of_state', 'drugs_related_stop', 'district', 'stop_datetime'],\n",
       "      dtype='object')"
      ]
     },
     "execution_count": 14,
     "metadata": {},
     "output_type": "execute_result"
    }
   ],
   "source": [
    "df_female.columns"
   ]
  },
  {
   "cell_type": "code",
   "execution_count": 15,
   "metadata": {},
   "outputs": [
    {
     "data": {
      "text/plain": [
       "Citation            8103\n",
       "Warning              340\n",
       "Arrest Driver         45\n",
       "N/D                    8\n",
       "Arrest Passenger       7\n",
       "No Action              3\n",
       "Name: stop_outcome, dtype: int64"
      ]
     },
     "execution_count": 15,
     "metadata": {},
     "output_type": "execute_result"
    }
   ],
   "source": [
    "female_speeding.stop_outcome.value_counts() #penalties for speeding male drivers"
   ]
  },
  {
   "cell_type": "code",
   "execution_count": 16,
   "metadata": {},
   "outputs": [
    {
     "data": {
      "text/plain": [
       "0.03385677692393362"
      ]
     },
     "execution_count": 16,
     "metadata": {},
     "output_type": "execute_result"
    }
   ],
   "source": [
    "warning_prp_male = male_speeding.stop_outcome.value_counts(normalize=True)[1]\n",
    "warning_prp_male # warning proportion for male drivers"
   ]
  },
  {
   "cell_type": "code",
   "execution_count": 17,
   "metadata": {},
   "outputs": [
    {
     "data": {
      "text/plain": [
       "0.03997178462261933"
      ]
     },
     "execution_count": 17,
     "metadata": {},
     "output_type": "execute_result"
    }
   ],
   "source": [
    "warning_prp_fmale = female_speeding.stop_outcome.value_counts(normalize=True)[1]\n",
    "warning_prp_fmale"
   ]
  },
  {
   "cell_type": "code",
   "execution_count": null,
   "metadata": {},
   "outputs": [],
   "source": []
  },
  {
   "cell_type": "markdown",
   "metadata": {},
   "source": [
    "***"
   ]
  },
  {
   "cell_type": "markdown",
   "metadata": {},
   "source": [
    "## Calculating the search rate"
   ]
  },
  {
   "cell_type": "code",
   "execution_count": 18,
   "metadata": {},
   "outputs": [
    {
     "data": {
      "text/plain": [
       "dtype('O')"
      ]
     },
     "execution_count": 18,
     "metadata": {},
     "output_type": "execute_result"
    }
   ],
   "source": [
    "df[\"search_conducted\"].dtype"
   ]
  },
  {
   "cell_type": "code",
   "execution_count": 19,
   "metadata": {},
   "outputs": [],
   "source": [
    "df[\"search_conducted\"]=df.search_conducted.astype(\"bool\")"
   ]
  },
  {
   "cell_type": "code",
   "execution_count": 20,
   "metadata": {},
   "outputs": [
    {
     "data": {
      "text/plain": [
       "dtype('bool')"
      ]
     },
     "execution_count": 20,
     "metadata": {},
     "output_type": "execute_result"
    }
   ],
   "source": [
    "df[\"search_conducted\"].dtype"
   ]
  },
  {
   "cell_type": "code",
   "execution_count": 21,
   "metadata": {},
   "outputs": [],
   "source": [
    "search = df[[\"search_conducted\"]].sum() # only counts the true ones"
   ]
  },
  {
   "cell_type": "code",
   "execution_count": 22,
   "metadata": {},
   "outputs": [
    {
     "data": {
      "text/plain": [
       "False    0.961452\n",
       "True     0.038548\n",
       "Name: search_conducted, dtype: float64"
      ]
     },
     "execution_count": 22,
     "metadata": {},
     "output_type": "execute_result"
    }
   ],
   "source": [
    "df.search_conducted.value_counts(normalize=True) # Calculate the search rate by counting the values"
   ]
  },
  {
   "cell_type": "code",
   "execution_count": 23,
   "metadata": {},
   "outputs": [
    {
     "data": {
      "text/plain": [
       "0.03854817459305538"
      ]
     },
     "execution_count": 23,
     "metadata": {},
     "output_type": "execute_result"
    }
   ],
   "source": [
    "df.search_conducted.mean() # Calculate the search rate by taking the mean"
   ]
  },
  {
   "cell_type": "code",
   "execution_count": 24,
   "metadata": {},
   "outputs": [
    {
     "data": {
      "text/plain": [
       "search_conducted    False\n",
       "search_type_raw       NaN\n",
       "Name: 236912, dtype: object"
      ]
     },
     "execution_count": 24,
     "metadata": {},
     "output_type": "execute_result"
    }
   ],
   "source": [
    "df.loc[236912,['search_conducted', 'search_type_raw']]"
   ]
  },
  {
   "cell_type": "code",
   "execution_count": 25,
   "metadata": {},
   "outputs": [
    {
     "data": {
      "text/plain": [
       "Index(['id', 'state', 'stop_date', 'stop_time', 'location_raw',\n",
       "       'police_department', 'driver_gender', 'driver_age_raw', 'driver_age',\n",
       "       'driver_race_raw', 'driver_race', 'violation_raw', 'violation',\n",
       "       'search_conducted', 'search_type_raw', 'search_type',\n",
       "       'contraband_found', 'stop_outcome', 'is_arrested', 'stop_duration',\n",
       "       'out_of_state', 'drugs_related_stop', 'district', 'stop_datetime'],\n",
       "      dtype='object')"
      ]
     },
     "execution_count": 25,
     "metadata": {},
     "output_type": "execute_result"
    }
   ],
   "source": [
    "df.columns"
   ]
  },
  {
   "cell_type": "markdown",
   "metadata": {},
   "source": [
    "***"
   ]
  },
  {
   "cell_type": "markdown",
   "metadata": {},
   "source": [
    "## Comparing search rates by gender"
   ]
  },
  {
   "cell_type": "code",
   "execution_count": 26,
   "metadata": {},
   "outputs": [
    {
     "data": {
      "text/plain": [
       "search_conducted    0.018485\n",
       "dtype: float64"
      ]
     },
     "execution_count": 26,
     "metadata": {},
     "output_type": "execute_result"
    }
   ],
   "source": [
    "df_female[[\"search_conducted\"]].mean()"
   ]
  },
  {
   "cell_type": "markdown",
   "metadata": {},
   "source": [
    "**INSTRUCTIONS 2/3**\n",
    "\n",
    "*   Filter the ``DataFrame`` to only include **male** drivers, and then repeat the search rate calculation."
   ]
  },
  {
   "cell_type": "code",
   "execution_count": 27,
   "metadata": {},
   "outputs": [
    {
     "data": {
      "text/plain": [
       "False    0.953939\n",
       "True     0.046061\n",
       "Name: search_conducted, dtype: float64"
      ]
     },
     "execution_count": 27,
     "metadata": {},
     "output_type": "execute_result"
    }
   ],
   "source": [
    "df_male.search_conducted.value_counts(normalize=True)"
   ]
  },
  {
   "cell_type": "code",
   "execution_count": 28,
   "metadata": {},
   "outputs": [
    {
     "data": {
      "text/plain": [
       "search_conducted    0.046061\n",
       "dtype: float64"
      ]
     },
     "execution_count": 28,
     "metadata": {},
     "output_type": "execute_result"
    }
   ],
   "source": [
    "df_male[[\"search_conducted\"]].mean()"
   ]
  },
  {
   "cell_type": "markdown",
   "metadata": {},
   "source": [
    "**INSTRUCTIONS 3/3**\n",
    "\n",
    "*   Group by driver gender to calculate the search rate for both groups simultaneously. (It should match the previous results.)"
   ]
  },
  {
   "cell_type": "code",
   "execution_count": 29,
   "metadata": {},
   "outputs": [
    {
     "data": {
      "text/html": [
       "<div>\n",
       "<style scoped>\n",
       "    .dataframe tbody tr th:only-of-type {\n",
       "        vertical-align: middle;\n",
       "    }\n",
       "\n",
       "    .dataframe tbody tr th {\n",
       "        vertical-align: top;\n",
       "    }\n",
       "\n",
       "    .dataframe thead th {\n",
       "        text-align: right;\n",
       "    }\n",
       "</style>\n",
       "<table border=\"1\" class=\"dataframe\">\n",
       "  <thead>\n",
       "    <tr style=\"text-align: right;\">\n",
       "      <th></th>\n",
       "      <th>search_conducted</th>\n",
       "    </tr>\n",
       "    <tr>\n",
       "      <th>driver_gender</th>\n",
       "      <th></th>\n",
       "    </tr>\n",
       "  </thead>\n",
       "  <tbody>\n",
       "    <tr>\n",
       "      <th>F</th>\n",
       "      <td>0.018485</td>\n",
       "    </tr>\n",
       "    <tr>\n",
       "      <th>M</th>\n",
       "      <td>0.046061</td>\n",
       "    </tr>\n",
       "  </tbody>\n",
       "</table>\n",
       "</div>"
      ],
      "text/plain": [
       "               search_conducted\n",
       "driver_gender                  \n",
       "F                      0.018485\n",
       "M                      0.046061"
      ]
     },
     "execution_count": 29,
     "metadata": {},
     "output_type": "execute_result"
    }
   ],
   "source": [
    "df[[\"search_conducted\",\"driver_gender\"]].groupby(\"driver_gender\").mean() # proportion of search for each gender"
   ]
  },
  {
   "cell_type": "markdown",
   "metadata": {},
   "source": [
    "***"
   ]
  },
  {
   "cell_type": "markdown",
   "metadata": {},
   "source": [
    "## Adding a second factor to the analysis"
   ]
  },
  {
   "cell_type": "code",
   "execution_count": 30,
   "metadata": {},
   "outputs": [
    {
     "data": {
      "text/plain": [
       "driver_gender  violation          \n",
       "F              Equipment              0.034325\n",
       "               Moving violation       0.041080\n",
       "               Other                  0.045226\n",
       "               Registration/plates    0.060886\n",
       "               Seat belt              0.008333\n",
       "               Speeding               0.007994\n",
       "M              Equipment              0.075594\n",
       "               Moving violation       0.061129\n",
       "               Other                  0.046092\n",
       "               Registration/plates    0.122419\n",
       "               Seat belt              0.030894\n",
       "               Speeding               0.027787\n",
       "Name: search_conducted, dtype: float64"
      ]
     },
     "execution_count": 30,
     "metadata": {},
     "output_type": "execute_result"
    }
   ],
   "source": [
    "df.groupby([\"driver_gender\",\"violation\"] ).search_conducted.mean()"
   ]
  },
  {
   "cell_type": "code",
   "execution_count": 31,
   "metadata": {},
   "outputs": [
    {
     "data": {
      "text/plain": [
       "Index(['id', 'state', 'stop_date', 'stop_time', 'location_raw',\n",
       "       'police_department', 'driver_gender', 'driver_age_raw', 'driver_age',\n",
       "       'driver_race_raw', 'driver_race', 'violation_raw', 'violation',\n",
       "       'search_conducted', 'search_type_raw', 'search_type',\n",
       "       'contraband_found', 'stop_outcome', 'is_arrested', 'stop_duration',\n",
       "       'out_of_state', 'drugs_related_stop', 'district', 'stop_datetime'],\n",
       "      dtype='object')"
      ]
     },
     "execution_count": 31,
     "metadata": {},
     "output_type": "execute_result"
    }
   ],
   "source": [
    "df.columns"
   ]
  },
  {
   "cell_type": "markdown",
   "metadata": {},
   "source": [
    "**INSTRUCTIONS 2/2**\n",
    "\n",
    "*   Reverse the ordering to group by violation before gender. The results may be easier to compare when presented this way."
   ]
  },
  {
   "cell_type": "code",
   "execution_count": 32,
   "metadata": {},
   "outputs": [
    {
     "data": {
      "text/plain": [
       "violation            driver_gender\n",
       "Equipment            F                0.034325\n",
       "                     M                0.075594\n",
       "Moving violation     F                0.041080\n",
       "                     M                0.061129\n",
       "Other                F                0.045226\n",
       "                     M                0.046092\n",
       "Registration/plates  F                0.060886\n",
       "                     M                0.122419\n",
       "Seat belt            F                0.008333\n",
       "                     M                0.030894\n",
       "Speeding             F                0.007994\n",
       "                     M                0.027787\n",
       "Name: search_conducted, dtype: float64"
      ]
     },
     "execution_count": 32,
     "metadata": {},
     "output_type": "execute_result"
    }
   ],
   "source": [
    "df.groupby([\"violation\",\"driver_gender\"] ).search_conducted.mean()"
   ]
  },
  {
   "cell_type": "markdown",
   "metadata": {},
   "source": [
    "***"
   ]
  },
  {
   "cell_type": "markdown",
   "metadata": {},
   "source": [
    "## Counting protective frisks"
   ]
  },
  {
   "cell_type": "code",
   "execution_count": 33,
   "metadata": {},
   "outputs": [
    {
     "data": {
      "text/html": [
       "<div>\n",
       "<style scoped>\n",
       "    .dataframe tbody tr th:only-of-type {\n",
       "        vertical-align: middle;\n",
       "    }\n",
       "\n",
       "    .dataframe tbody tr th {\n",
       "        vertical-align: top;\n",
       "    }\n",
       "\n",
       "    .dataframe thead th {\n",
       "        text-align: right;\n",
       "    }\n",
       "</style>\n",
       "<table border=\"1\" class=\"dataframe\">\n",
       "  <thead>\n",
       "    <tr style=\"text-align: right;\">\n",
       "      <th></th>\n",
       "      <th>search_type</th>\n",
       "      <th>driver_gender</th>\n",
       "    </tr>\n",
       "  </thead>\n",
       "  <tbody>\n",
       "    <tr>\n",
       "      <th>139866</th>\n",
       "      <td>Probable Cause</td>\n",
       "      <td>M</td>\n",
       "    </tr>\n",
       "    <tr>\n",
       "      <th>91394</th>\n",
       "      <td>Protective Frisk</td>\n",
       "      <td>M</td>\n",
       "    </tr>\n",
       "    <tr>\n",
       "      <th>400009</th>\n",
       "      <td>Inventory</td>\n",
       "      <td>M</td>\n",
       "    </tr>\n",
       "    <tr>\n",
       "      <th>415749</th>\n",
       "      <td>Protective Frisk</td>\n",
       "      <td>M</td>\n",
       "    </tr>\n",
       "    <tr>\n",
       "      <th>259161</th>\n",
       "      <td>Incident to Arrest,Probable Cause</td>\n",
       "      <td>M</td>\n",
       "    </tr>\n",
       "    <tr>\n",
       "      <th>...</th>\n",
       "      <td>...</td>\n",
       "      <td>...</td>\n",
       "    </tr>\n",
       "    <tr>\n",
       "      <th>47290</th>\n",
       "      <td>Probable Cause</td>\n",
       "      <td>M</td>\n",
       "    </tr>\n",
       "    <tr>\n",
       "      <th>90870</th>\n",
       "      <td>Probable Cause</td>\n",
       "      <td>M</td>\n",
       "    </tr>\n",
       "    <tr>\n",
       "      <th>466367</th>\n",
       "      <td>Incident to Arrest</td>\n",
       "      <td>M</td>\n",
       "    </tr>\n",
       "    <tr>\n",
       "      <th>237527</th>\n",
       "      <td>Incident to Arrest</td>\n",
       "      <td>M</td>\n",
       "    </tr>\n",
       "    <tr>\n",
       "      <th>249746</th>\n",
       "      <td>Reasonable Suspicion</td>\n",
       "      <td>F</td>\n",
       "    </tr>\n",
       "  </tbody>\n",
       "</table>\n",
       "<p>1814 rows × 2 columns</p>\n",
       "</div>"
      ],
      "text/plain": [
       "                              search_type driver_gender\n",
       "139866                     Probable Cause             M\n",
       "91394                    Protective Frisk             M\n",
       "400009                          Inventory             M\n",
       "415749                   Protective Frisk             M\n",
       "259161  Incident to Arrest,Probable Cause             M\n",
       "...                                   ...           ...\n",
       "47290                      Probable Cause             M\n",
       "90870                      Probable Cause             M\n",
       "466367                 Incident to Arrest             M\n",
       "237527                 Incident to Arrest             M\n",
       "249746               Reasonable Suspicion             F\n",
       "\n",
       "[1814 rows x 2 columns]"
      ]
     },
     "execution_count": 33,
     "metadata": {},
     "output_type": "execute_result"
    }
   ],
   "source": [
    "df[df.search_type.notnull()][[\"search_type\",\"driver_gender\"] ]"
   ]
  },
  {
   "cell_type": "code",
   "execution_count": 34,
   "metadata": {},
   "outputs": [
    {
     "data": {
      "text/plain": [
       "89"
      ]
     },
     "execution_count": 34,
     "metadata": {},
     "output_type": "execute_result"
    }
   ],
   "source": [
    "df[df.search_type == \"Protective Frisk\"][\"search_type\"].count() # 89 times protective frisk was only search type\n"
   ]
  },
  {
   "cell_type": "code",
   "execution_count": 35,
   "metadata": {},
   "outputs": [
    {
     "data": {
      "text/plain": [
       "91394     True\n",
       "415749    True\n",
       "119143    True\n",
       "166377    True\n",
       "77652     True\n",
       "          ... \n",
       "217912    True\n",
       "127383    True\n",
       "4323      True\n",
       "83385     True\n",
       "40541     True\n",
       "Name: frisk, Length: 174, dtype: bool"
      ]
     },
     "execution_count": 35,
     "metadata": {},
     "output_type": "execute_result"
    }
   ],
   "source": [
    "frisk_bool = df[\"frisk\"] = df.search_type.str.contains(\"Protective Frisk\",na = False)\n",
    "df[df.frisk == True][\"frisk\"]"
   ]
  },
  {
   "cell_type": "code",
   "execution_count": 36,
   "metadata": {},
   "outputs": [
    {
     "data": {
      "text/plain": [
       "dtype('bool')"
      ]
     },
     "execution_count": 36,
     "metadata": {},
     "output_type": "execute_result"
    }
   ],
   "source": [
    "frisk_bool.dtype"
   ]
  },
  {
   "cell_type": "code",
   "execution_count": 37,
   "metadata": {},
   "outputs": [
    {
     "data": {
      "text/plain": [
       "174"
      ]
     },
     "execution_count": 37,
     "metadata": {},
     "output_type": "execute_result"
    }
   ],
   "source": [
    "frisk_sum = df[df.frisk == True][\"frisk\"].sum()\n",
    "frisk_sum"
   ]
  },
  {
   "cell_type": "code",
   "execution_count": 38,
   "metadata": {},
   "outputs": [],
   "source": [
    "import numpy as np"
   ]
  },
  {
   "cell_type": "code",
   "execution_count": 39,
   "metadata": {},
   "outputs": [
    {
     "data": {
      "text/plain": [
       "0    False\n",
       "1    False\n",
       "2     True\n",
       "3    False\n",
       "4     True\n",
       "dtype: bool"
      ]
     },
     "execution_count": 39,
     "metadata": {},
     "output_type": "execute_result"
    }
   ],
   "source": [
    "s1 = pd.Series(['Mouse', 'dog', 'house and parrot', '23', np.NaN])\n",
    "s1.str.contains(\"house\",na =True,regex=False)"
   ]
  },
  {
   "cell_type": "markdown",
   "metadata": {},
   "source": [
    "***"
   ]
  },
  {
   "cell_type": "markdown",
   "metadata": {},
   "source": [
    "## Comparing frisk rates by gender"
   ]
  },
  {
   "cell_type": "code",
   "execution_count": 40,
   "metadata": {},
   "outputs": [
    {
     "data": {
      "text/html": [
       "<div>\n",
       "<style scoped>\n",
       "    .dataframe tbody tr th:only-of-type {\n",
       "        vertical-align: middle;\n",
       "    }\n",
       "\n",
       "    .dataframe tbody tr th {\n",
       "        vertical-align: top;\n",
       "    }\n",
       "\n",
       "    .dataframe thead th {\n",
       "        text-align: right;\n",
       "    }\n",
       "</style>\n",
       "<table border=\"1\" class=\"dataframe\">\n",
       "  <thead>\n",
       "    <tr style=\"text-align: right;\">\n",
       "      <th></th>\n",
       "      <th>id</th>\n",
       "      <th>state</th>\n",
       "      <th>stop_date</th>\n",
       "      <th>stop_time</th>\n",
       "      <th>location_raw</th>\n",
       "      <th>police_department</th>\n",
       "      <th>driver_gender</th>\n",
       "      <th>driver_age_raw</th>\n",
       "      <th>driver_age</th>\n",
       "      <th>driver_race_raw</th>\n",
       "      <th>...</th>\n",
       "      <th>search_type</th>\n",
       "      <th>contraband_found</th>\n",
       "      <th>stop_outcome</th>\n",
       "      <th>is_arrested</th>\n",
       "      <th>stop_duration</th>\n",
       "      <th>out_of_state</th>\n",
       "      <th>drugs_related_stop</th>\n",
       "      <th>district</th>\n",
       "      <th>stop_datetime</th>\n",
       "      <th>frisk</th>\n",
       "    </tr>\n",
       "  </thead>\n",
       "  <tbody>\n",
       "    <tr>\n",
       "      <th>139866</th>\n",
       "      <td>RI-2008-14242</td>\n",
       "      <td>RI</td>\n",
       "      <td>2008-04-19</td>\n",
       "      <td>13:20</td>\n",
       "      <td>Zone K3</td>\n",
       "      <td>300</td>\n",
       "      <td>M</td>\n",
       "      <td>1972.0</td>\n",
       "      <td>36.0</td>\n",
       "      <td>W</td>\n",
       "      <td>...</td>\n",
       "      <td>Probable Cause</td>\n",
       "      <td>True</td>\n",
       "      <td>Citation</td>\n",
       "      <td>False</td>\n",
       "      <td>16-30 Min</td>\n",
       "      <td>False</td>\n",
       "      <td>False</td>\n",
       "      <td>Zone K3</td>\n",
       "      <td>2008-04-19 13:20:00</td>\n",
       "      <td>False</td>\n",
       "    </tr>\n",
       "    <tr>\n",
       "      <th>91394</th>\n",
       "      <td>RI-2007-18973</td>\n",
       "      <td>RI</td>\n",
       "      <td>2007-04-30</td>\n",
       "      <td>14:54</td>\n",
       "      <td>Zone X4</td>\n",
       "      <td>500</td>\n",
       "      <td>M</td>\n",
       "      <td>1946.0</td>\n",
       "      <td>61.0</td>\n",
       "      <td>W</td>\n",
       "      <td>...</td>\n",
       "      <td>Protective Frisk</td>\n",
       "      <td>False</td>\n",
       "      <td>No Action</td>\n",
       "      <td>False</td>\n",
       "      <td>16-30 Min</td>\n",
       "      <td>False</td>\n",
       "      <td>False</td>\n",
       "      <td>Zone X4</td>\n",
       "      <td>2007-04-30 14:54:00</td>\n",
       "      <td>True</td>\n",
       "    </tr>\n",
       "    <tr>\n",
       "      <th>400009</th>\n",
       "      <td>RI-2013-32900</td>\n",
       "      <td>RI</td>\n",
       "      <td>2013-09-23</td>\n",
       "      <td>09:35</td>\n",
       "      <td>Zone X4</td>\n",
       "      <td>500</td>\n",
       "      <td>M</td>\n",
       "      <td>1986.0</td>\n",
       "      <td>27.0</td>\n",
       "      <td>B</td>\n",
       "      <td>...</td>\n",
       "      <td>Inventory</td>\n",
       "      <td>False</td>\n",
       "      <td>Citation</td>\n",
       "      <td>False</td>\n",
       "      <td>0-15 Min</td>\n",
       "      <td>False</td>\n",
       "      <td>False</td>\n",
       "      <td>Zone X4</td>\n",
       "      <td>2013-09-23 09:35:00</td>\n",
       "      <td>False</td>\n",
       "    </tr>\n",
       "  </tbody>\n",
       "</table>\n",
       "<p>3 rows × 25 columns</p>\n",
       "</div>"
      ],
      "text/plain": [
       "                   id state   stop_date stop_time location_raw  \\\n",
       "139866  RI-2008-14242    RI  2008-04-19     13:20      Zone K3   \n",
       "91394   RI-2007-18973    RI  2007-04-30     14:54      Zone X4   \n",
       "400009  RI-2013-32900    RI  2013-09-23     09:35      Zone X4   \n",
       "\n",
       "       police_department driver_gender  driver_age_raw  driver_age  \\\n",
       "139866               300             M          1972.0        36.0   \n",
       "91394                500             M          1946.0        61.0   \n",
       "400009               500             M          1986.0        27.0   \n",
       "\n",
       "       driver_race_raw  ...       search_type contraband_found stop_outcome  \\\n",
       "139866               W  ...    Probable Cause             True     Citation   \n",
       "91394                W  ...  Protective Frisk            False    No Action   \n",
       "400009               B  ...         Inventory            False     Citation   \n",
       "\n",
       "        is_arrested stop_duration out_of_state  drugs_related_stop district  \\\n",
       "139866        False     16-30 Min        False               False  Zone K3   \n",
       "91394         False     16-30 Min        False               False  Zone X4   \n",
       "400009        False      0-15 Min        False               False  Zone X4   \n",
       "\n",
       "             stop_datetime  frisk  \n",
       "139866 2008-04-19 13:20:00  False  \n",
       "91394  2007-04-30 14:54:00   True  \n",
       "400009 2013-09-23 09:35:00  False  \n",
       "\n",
       "[3 rows x 25 columns]"
      ]
     },
     "execution_count": 40,
     "metadata": {},
     "output_type": "execute_result"
    }
   ],
   "source": [
    "df_search = df[df.search_conducted == True]\n",
    "df_search.head(3)"
   ]
  },
  {
   "cell_type": "code",
   "execution_count": 41,
   "metadata": {},
   "outputs": [
    {
     "data": {
      "text/plain": [
       "driver_gender\n",
       "F    0.075949\n",
       "M    0.098922\n",
       "Name: frisk, dtype: float64"
      ]
     },
     "execution_count": 41,
     "metadata": {},
     "output_type": "execute_result"
    }
   ],
   "source": [
    "df_search.groupby([\"driver_gender\"]).frisk.mean()"
   ]
  }
 ],
 "metadata": {
  "kernelspec": {
   "display_name": "Python 3",
   "language": "python",
   "name": "python3"
  },
  "language_info": {
   "codemirror_mode": {
    "name": "ipython",
    "version": 3
   },
   "file_extension": ".py",
   "mimetype": "text/x-python",
   "name": "python",
   "nbconvert_exporter": "python",
   "pygments_lexer": "ipython3",
   "version": "3.8.3"
  }
 },
 "nbformat": 4,
 "nbformat_minor": 4
}
